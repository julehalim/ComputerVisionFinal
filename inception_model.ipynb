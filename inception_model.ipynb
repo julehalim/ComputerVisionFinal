{
 "cells": [
  {
   "cell_type": "code",
   "execution_count": 1,
   "metadata": {},
   "outputs": [],
   "source": [
    "#Imports\n",
    "import timm\n",
    "from fastai.vision.all import *\n",
    "from fastai.learner import Callback\n",
    "import pandas as pd\n",
    "import os\n",
    "import numpy as np\n",
    "from PIL import Image\n",
    "from sklearn.model_selection import train_test_split\n",
    "from sklearn.preprocessing import StandardScaler\n",
    "import random\n",
    "import torch\n",
    "from torchvision.models import inception_v3\n"
   ]
  },
  {
   "cell_type": "code",
   "execution_count": 3,
   "metadata": {},
   "outputs": [
    {
     "name": "stdout",
     "output_type": "stream",
     "text": [
      "Using CUDA: True\n"
     ]
    }
   ],
   "source": [
    "import torch\n",
    "print(f\"Using CUDA: {torch.cuda.is_available()}\")\n"
   ]
  },
  {
   "cell_type": "code",
   "execution_count": 2,
   "metadata": {},
   "outputs": [
    {
     "name": "stdout",
     "output_type": "stream",
     "text": [
      "    id  shapeset  type  total_height  instability_type  cam_angle  \\\n",
      "0   54         2     1             3                 1          1   \n",
      "1  173         1     1             4                 1          2   \n",
      "2  245         1     1             4                 1          2   \n",
      "3  465         2     1             5                 0          1   \n",
      "4  611         2     1             3                 1          1   \n",
      "\n",
      "   stable_height  \n",
      "0              2  \n",
      "1              1  \n",
      "2              1  \n",
      "3              5  \n",
      "4              1  \n"
     ]
    }
   ],
   "source": [
    "# Reading in the training data\n",
    "csv_path = os.path.join('COMP90086_2024_Project_train', 'train.csv')\n",
    "train_data = pd.read_csv(csv_path)\n",
    "train_dir = os.path.join('COMP90086_2024_Project_train', 'train')\n",
    "print(train_data.head())\n"
   ]
  },
  {
   "cell_type": "code",
   "execution_count": 5,
   "metadata": {},
   "outputs": [
    {
     "data": {
      "text/html": [
       "\n",
       "<style>\n",
       "    /* Turns off some styling */\n",
       "    progress {\n",
       "        /* gets rid of default border in Firefox and Opera. */\n",
       "        border: none;\n",
       "        /* Needs to be in here for Safari polyfill so background images work as expected. */\n",
       "        background-size: auto;\n",
       "    }\n",
       "    progress:not([value]), progress:not([value])::-webkit-progress-bar {\n",
       "        background: repeating-linear-gradient(45deg, #7e7e7e, #7e7e7e 10px, #5c5c5c 10px, #5c5c5c 20px);\n",
       "    }\n",
       "    .progress-bar-interrupted, .progress-bar-interrupted::-webkit-progress-bar {\n",
       "        background: #F44336;\n",
       "    }\n",
       "</style>\n"
      ],
      "text/plain": [
       "<IPython.core.display.HTML object>"
      ]
     },
     "metadata": {},
     "output_type": "display_data"
    },
    {
     "data": {
      "text/html": [
       "<table border=\"1\" class=\"dataframe\">\n",
       "  <thead>\n",
       "    <tr style=\"text-align: left;\">\n",
       "      <th>epoch</th>\n",
       "      <th>train_loss</th>\n",
       "      <th>valid_loss</th>\n",
       "      <th>accuracy</th>\n",
       "      <th>time</th>\n",
       "    </tr>\n",
       "  </thead>\n",
       "  <tbody>\n",
       "    <tr>\n",
       "      <td>0</td>\n",
       "      <td>2.137764</td>\n",
       "      <td>1.830133</td>\n",
       "      <td>0.238281</td>\n",
       "      <td>01:42</td>\n",
       "    </tr>\n",
       "  </tbody>\n",
       "</table>"
      ],
      "text/plain": [
       "<IPython.core.display.HTML object>"
      ]
     },
     "metadata": {},
     "output_type": "display_data"
    },
    {
     "data": {
      "text/html": [
       "\n",
       "<style>\n",
       "    /* Turns off some styling */\n",
       "    progress {\n",
       "        /* gets rid of default border in Firefox and Opera. */\n",
       "        border: none;\n",
       "        /* Needs to be in here for Safari polyfill so background images work as expected. */\n",
       "        background-size: auto;\n",
       "    }\n",
       "    progress:not([value]), progress:not([value])::-webkit-progress-bar {\n",
       "        background: repeating-linear-gradient(45deg, #7e7e7e, #7e7e7e 10px, #5c5c5c 10px, #5c5c5c 20px);\n",
       "    }\n",
       "    .progress-bar-interrupted, .progress-bar-interrupted::-webkit-progress-bar {\n",
       "        background: #F44336;\n",
       "    }\n",
       "</style>\n"
      ],
      "text/plain": [
       "<IPython.core.display.HTML object>"
      ]
     },
     "metadata": {},
     "output_type": "display_data"
    },
    {
     "data": {
      "text/html": [
       "<table border=\"1\" class=\"dataframe\">\n",
       "  <thead>\n",
       "    <tr style=\"text-align: left;\">\n",
       "      <th>epoch</th>\n",
       "      <th>train_loss</th>\n",
       "      <th>valid_loss</th>\n",
       "      <th>accuracy</th>\n",
       "      <th>time</th>\n",
       "    </tr>\n",
       "  </thead>\n",
       "  <tbody>\n",
       "    <tr>\n",
       "      <td>0</td>\n",
       "      <td>1.747649</td>\n",
       "      <td>1.645882</td>\n",
       "      <td>0.278646</td>\n",
       "      <td>01:50</td>\n",
       "    </tr>\n",
       "    <tr>\n",
       "      <td>1</td>\n",
       "      <td>1.544407</td>\n",
       "      <td>1.542037</td>\n",
       "      <td>0.348307</td>\n",
       "      <td>01:30</td>\n",
       "    </tr>\n",
       "    <tr>\n",
       "      <td>2</td>\n",
       "      <td>1.437785</td>\n",
       "      <td>1.328362</td>\n",
       "      <td>0.429688</td>\n",
       "      <td>01:57</td>\n",
       "    </tr>\n",
       "    <tr>\n",
       "      <td>3</td>\n",
       "      <td>1.103440</td>\n",
       "      <td>1.330701</td>\n",
       "      <td>0.467448</td>\n",
       "      <td>02:27</td>\n",
       "    </tr>\n",
       "    <tr>\n",
       "      <td>4</td>\n",
       "      <td>0.794801</td>\n",
       "      <td>1.357205</td>\n",
       "      <td>0.462891</td>\n",
       "      <td>01:56</td>\n",
       "    </tr>\n",
       "  </tbody>\n",
       "</table>"
      ],
      "text/plain": [
       "<IPython.core.display.HTML object>"
      ]
     },
     "metadata": {},
     "output_type": "display_data"
    },
    {
     "data": {
      "text/plain": [
       "Path('models/resnet50_trained_model.pth')"
      ]
     },
     "execution_count": 5,
     "metadata": {},
     "output_type": "execute_result"
    }
   ],
   "source": [
    "# Test learning rate optimization (learn.lr_find())\n",
    "# Define the path to your CSV file\n",
    "csv_path = os.path.join('COMP90086_2024_Project_train', 'train.csv')\n",
    "\n",
    "# Read the CSV file into a DataFrame\n",
    "train_data = pd.read_csv(csv_path)\n",
    "\n",
    "# Adding a column with the complete image path\n",
    "train_data['image_path'] = train_data['id'].apply(lambda x: os.path.join('COMP90086_2024_Project_train', 'train', f\"{x}.jpg\"))\n",
    "\n",
    "# Ensure that the 'stable_height' column contains categorical data for classification\n",
    "train_data['stable_height'] = train_data['stable_height'].astype(str)  # Convert targets to string if they are numerical\n",
    "\n",
    "# Convert your DataFrame to a FastAI DataBlock for classification\n",
    "dblock = DataBlock(\n",
    "    blocks=(ImageBlock, CategoryBlock),  # Image as input and categorical target\n",
    "    get_x=ColReader('image_path'),       # Path to the image\n",
    "    get_y=ColReader('stable_height'),    # Target column\n",
    "    splitter=RandomSplitter(valid_pct=0.2)  # Splitting the data into training and validation sets\n",
    ")\n",
    "\n",
    "# Create a DataLoader\n",
    "dls = dblock.dataloaders(train_data, bs=8, num_workers=0)  # Adjust batch size as needed\n",
    "\n",
    "# Create a FastAI learner using ResNet50 for classification\n",
    "learn = vision_learner(dls, resnet50, metrics=accuracy, loss_func=CrossEntropyLossFlat())\n",
    "\n",
    "# Train the model using fine-tuning\n",
    "learn.fine_tune(5)  # Adjust the number of epochs as needed\n",
    "\n",
    "# Save the trained model\n",
    "learn.save('resnet50_trained_model')\n"
   ]
  },
  {
   "cell_type": "code",
   "execution_count": 11,
   "metadata": {},
   "outputs": [
    {
     "data": {
      "text/html": [
       "\n",
       "<style>\n",
       "    /* Turns off some styling */\n",
       "    progress {\n",
       "        /* gets rid of default border in Firefox and Opera. */\n",
       "        border: none;\n",
       "        /* Needs to be in here for Safari polyfill so background images work as expected. */\n",
       "        background-size: auto;\n",
       "    }\n",
       "    progress:not([value]), progress:not([value])::-webkit-progress-bar {\n",
       "        background: repeating-linear-gradient(45deg, #7e7e7e, #7e7e7e 10px, #5c5c5c 10px, #5c5c5c 20px);\n",
       "    }\n",
       "    .progress-bar-interrupted, .progress-bar-interrupted::-webkit-progress-bar {\n",
       "        background: #F44336;\n",
       "    }\n",
       "</style>\n"
      ],
      "text/plain": [
       "<IPython.core.display.HTML object>"
      ]
     },
     "metadata": {},
     "output_type": "display_data"
    },
    {
     "data": {
      "text/html": [],
      "text/plain": [
       "<IPython.core.display.HTML object>"
      ]
     },
     "metadata": {},
     "output_type": "display_data"
    },
    {
     "name": "stderr",
     "output_type": "stream",
     "text": [
      "c:\\Users\\julev\\anaconda3\\envs\\cudaEnv\\Lib\\site-packages\\torch\\nn\\modules\\conv.py:456: UserWarning: Plan failed with a cudnnException: CUDNN_BACKEND_EXECUTION_PLAN_DESCRIPTOR: cudnnFinalize Descriptor Failed cudnn_status: CUDNN_STATUS_NOT_SUPPORTED (Triggered internally at ..\\aten\\src\\ATen\\native\\cudnn\\Conv_v8.cpp:919.)\n",
      "  return F.conv2d(input, weight, bias, self.stride,\n"
     ]
    },
    {
     "data": {
      "text/plain": [
       "SuggestedLRs(valley=0.0003311311302240938)"
      ]
     },
     "execution_count": 11,
     "metadata": {},
     "output_type": "execute_result"
    },
    {
     "data": {
      "image/png": "[encoded data removed]",
      "text/plain": [
       "<Figure size 640x480 with 1 Axes>"
      ]
     },
     "metadata": {},
     "output_type": "display_data"
    }
   ],
   "source": [
    "learn = vision_learner(dls, resnet50, metrics=accuracy, loss_func=CrossEntropyLossFlat())\n",
    "learn.lr_find()"
   ]
  },
  {
   "cell_type": "code",
   "execution_count": 6,
   "metadata": {},
   "outputs": [
    {
     "data": {
      "text/html": [
       "\n",
       "<style>\n",
       "    /* Turns off some styling */\n",
       "    progress {\n",
       "        /* gets rid of default border in Firefox and Opera. */\n",
       "        border: none;\n",
       "        /* Needs to be in here for Safari polyfill so background images work as expected. */\n",
       "        background-size: auto;\n",
       "    }\n",
       "    progress:not([value]), progress:not([value])::-webkit-progress-bar {\n",
       "        background: repeating-linear-gradient(45deg, #7e7e7e, #7e7e7e 10px, #5c5c5c 10px, #5c5c5c 20px);\n",
       "    }\n",
       "    .progress-bar-interrupted, .progress-bar-interrupted::-webkit-progress-bar {\n",
       "        background: #F44336;\n",
       "    }\n",
       "</style>\n"
      ],
      "text/plain": [
       "<IPython.core.display.HTML object>"
      ]
     },
     "metadata": {},
     "output_type": "display_data"
    },
    {
     "data": {
      "text/html": [
       "<table border=\"1\" class=\"dataframe\">\n",
       "  <thead>\n",
       "    <tr style=\"text-align: left;\">\n",
       "      <th>epoch</th>\n",
       "      <th>train_loss</th>\n",
       "      <th>valid_loss</th>\n",
       "      <th>accuracy</th>\n",
       "      <th>time</th>\n",
       "    </tr>\n",
       "  </thead>\n",
       "  <tbody>\n",
       "    <tr>\n",
       "      <td>0</td>\n",
       "      <td>1.739501</td>\n",
       "      <td>6.460899</td>\n",
       "      <td>0.260417</td>\n",
       "      <td>02:59</td>\n",
       "    </tr>\n",
       "  </tbody>\n",
       "</table>"
      ],
      "text/plain": [
       "<IPython.core.display.HTML object>"
      ]
     },
     "metadata": {},
     "output_type": "display_data"
    },
    {
     "data": {
      "text/html": [
       "\n",
       "<style>\n",
       "    /* Turns off some styling */\n",
       "    progress {\n",
       "        /* gets rid of default border in Firefox and Opera. */\n",
       "        border: none;\n",
       "        /* Needs to be in here for Safari polyfill so background images work as expected. */\n",
       "        background-size: auto;\n",
       "    }\n",
       "    progress:not([value]), progress:not([value])::-webkit-progress-bar {\n",
       "        background: repeating-linear-gradient(45deg, #7e7e7e, #7e7e7e 10px, #5c5c5c 10px, #5c5c5c 20px);\n",
       "    }\n",
       "    .progress-bar-interrupted, .progress-bar-interrupted::-webkit-progress-bar {\n",
       "        background: #F44336;\n",
       "    }\n",
       "</style>\n"
      ],
      "text/plain": [
       "<IPython.core.display.HTML object>"
      ]
     },
     "metadata": {},
     "output_type": "display_data"
    },
    {
     "data": {
      "text/html": [
       "<table border=\"1\" class=\"dataframe\">\n",
       "  <thead>\n",
       "    <tr style=\"text-align: left;\">\n",
       "      <th>epoch</th>\n",
       "      <th>train_loss</th>\n",
       "      <th>valid_loss</th>\n",
       "      <th>accuracy</th>\n",
       "      <th>time</th>\n",
       "    </tr>\n",
       "  </thead>\n",
       "  <tbody>\n",
       "    <tr>\n",
       "      <td>0</td>\n",
       "      <td>1.680515</td>\n",
       "      <td>2.897394</td>\n",
       "      <td>0.238281</td>\n",
       "      <td>02:44</td>\n",
       "    </tr>\n",
       "    <tr>\n",
       "      <td>1</td>\n",
       "      <td>1.699164</td>\n",
       "      <td>1.720996</td>\n",
       "      <td>0.253255</td>\n",
       "      <td>02:45</td>\n",
       "    </tr>\n",
       "    <tr>\n",
       "      <td>2</td>\n",
       "      <td>1.600739</td>\n",
       "      <td>1.654440</td>\n",
       "      <td>0.256510</td>\n",
       "      <td>02:22</td>\n",
       "    </tr>\n",
       "    <tr>\n",
       "      <td>3</td>\n",
       "      <td>1.602728</td>\n",
       "      <td>1.565576</td>\n",
       "      <td>0.264323</td>\n",
       "      <td>03:07</td>\n",
       "    </tr>\n",
       "    <tr>\n",
       "      <td>4</td>\n",
       "      <td>1.594912</td>\n",
       "      <td>1.552683</td>\n",
       "      <td>0.265625</td>\n",
       "      <td>03:10</td>\n",
       "    </tr>\n",
       "  </tbody>\n",
       "</table>"
      ],
      "text/plain": [
       "<IPython.core.display.HTML object>"
      ]
     },
     "metadata": {},
     "output_type": "display_data"
    },
    {
     "data": {
      "text/plain": [
       "Path('models/inception_v3_trained_model.pth')"
      ]
     },
     "execution_count": 6,
     "metadata": {},
     "output_type": "execute_result"
    }
   ],
   "source": [
    "# Test learning rate optimization (learn.lr_find())\n",
    "# Define the DataBlock for a classification task\n",
    "dblock = DataBlock(\n",
    "    blocks=(ImageBlock, CategoryBlock),  # Image as input and categorical target\n",
    "    get_x=ColReader('image_path'),       # Path to the image\n",
    "    get_y=ColReader('stable_height'),    # Column for target labels (ensure they are categorical values)\n",
    "    splitter=RandomSplitter(valid_pct=0.2), # Splitting the data into training and validation sets\n",
    "    item_tfms=Resize(299)  # Resize images to 299x299, the required input size for InceptionV3\n",
    ")\n",
    "\n",
    "# Create a DataLoader\n",
    "dls = dblock.dataloaders(train_data, bs=8)  # Adjust the batch size based on your GPU memory\n",
    "\n",
    "# Modify the InceptionV3 model for classification\n",
    "class InceptionV3Custom(nn.Module):\n",
    "    def __init__(self, num_classes):\n",
    "        super().__init__()\n",
    "        self.model = inception_v3(weights=\"DEFAULT\")\n",
    "        self.model.fc = nn.Linear(self.model.fc.in_features, num_classes)  # Adjust final layer for classification\n",
    "\n",
    "    def forward(self, x):\n",
    "        if self.training:\n",
    "            logits, aux_logits = self.model(x)\n",
    "            return logits\n",
    "        else:\n",
    "            return self.model(x)\n",
    "\n",
    "# Determine the number of classes from the training data\n",
    "num_classes = len(train_data['stable_height'].unique())\n",
    "\n",
    "# Initialize the modified InceptionV3 model for classification\n",
    "inception_model = InceptionV3Custom(num_classes)\n",
    "\n",
    "# Create a FastAI learner using the modified Inception model\n",
    "learn = Learner(dls, inception_model, loss_func=CrossEntropyLossFlat(), metrics=accuracy)\n",
    "\n",
    "# Train the model using fine-tuning\n",
    "learn.fine_tune(5)  # Adjust the number of epochs as needed\n",
    "\n",
    "learn.save('inception_v3_trained_model')\n"
   ]
  },
  {
   "cell_type": "code",
   "execution_count": 12,
   "metadata": {},
   "outputs": [
    {
     "data": {
      "text/html": [
       "\n",
       "<style>\n",
       "    /* Turns off some styling */\n",
       "    progress {\n",
       "        /* gets rid of default border in Firefox and Opera. */\n",
       "        border: none;\n",
       "        /* Needs to be in here for Safari polyfill so background images work as expected. */\n",
       "        background-size: auto;\n",
       "    }\n",
       "    progress:not([value]), progress:not([value])::-webkit-progress-bar {\n",
       "        background: repeating-linear-gradient(45deg, #7e7e7e, #7e7e7e 10px, #5c5c5c 10px, #5c5c5c 20px);\n",
       "    }\n",
       "    .progress-bar-interrupted, .progress-bar-interrupted::-webkit-progress-bar {\n",
       "        background: #F44336;\n",
       "    }\n",
       "</style>\n"
      ],
      "text/plain": [
       "<IPython.core.display.HTML object>"
      ]
     },
     "metadata": {},
     "output_type": "display_data"
    },
    {
     "data": {
      "text/html": [],
      "text/plain": [
       "<IPython.core.display.HTML object>"
      ]
     },
     "metadata": {},
     "output_type": "display_data"
    },
    {
     "data": {
      "text/plain": [
       "SuggestedLRs(valley=0.0014454397605732083)"
      ]
     },
     "execution_count": 12,
     "metadata": {},
     "output_type": "execute_result"
    },
    {
     "data": {
      "image/png": "[encoded data removed]",
      "text/plain": [
       "<Figure size 640x480 with 1 Axes>"
      ]
     },
     "metadata": {},
     "output_type": "display_data"
    }
   ],
   "source": [
    "learn = Learner(dls, inception_model, loss_func=CrossEntropyLossFlat(), metrics=accuracy)\n",
    "learn.lr_find()"
   ]
  },
  {
   "cell_type": "code",
   "execution_count": 3,
   "metadata": {},
   "outputs": [
    {
     "data": {
      "text/html": [
       "\n",
       "<style>\n",
       "    /* Turns off some styling */\n",
       "    progress {\n",
       "        /* gets rid of default border in Firefox and Opera. */\n",
       "        border: none;\n",
       "        /* Needs to be in here for Safari polyfill so background images work as expected. */\n",
       "        background-size: auto;\n",
       "    }\n",
       "    progress:not([value]), progress:not([value])::-webkit-progress-bar {\n",
       "        background: repeating-linear-gradient(45deg, #7e7e7e, #7e7e7e 10px, #5c5c5c 10px, #5c5c5c 20px);\n",
       "    }\n",
       "    .progress-bar-interrupted, .progress-bar-interrupted::-webkit-progress-bar {\n",
       "        background: #F44336;\n",
       "    }\n",
       "</style>\n"
      ],
      "text/plain": [
       "<IPython.core.display.HTML object>"
      ]
     },
     "metadata": {},
     "output_type": "display_data"
    },
    {
     "data": {
      "text/html": [],
      "text/plain": [
       "<IPython.core.display.HTML object>"
      ]
     },
     "metadata": {},
     "output_type": "display_data"
    },
    {
     "name": "stderr",
     "output_type": "stream",
     "text": [
      "c:\\Users\\julev\\anaconda3\\envs\\cudaEnv\\Lib\\site-packages\\timm\\models\\vision_transformer.py:92: UserWarning: 1Torch was not compiled with flash attention. (Triggered internally at ..\\aten\\src\\ATen\\native\\transformers\\cuda\\sdp_utils.cpp:455.)\n",
      "  x = F.scaled_dot_product_attention(\n"
     ]
    },
    {
     "data": {
      "text/html": [
       "\n",
       "<style>\n",
       "    /* Turns off some styling */\n",
       "    progress {\n",
       "        /* gets rid of default border in Firefox and Opera. */\n",
       "        border: none;\n",
       "        /* Needs to be in here for Safari polyfill so background images work as expected. */\n",
       "        background-size: auto;\n",
       "    }\n",
       "    progress:not([value]), progress:not([value])::-webkit-progress-bar {\n",
       "        background: repeating-linear-gradient(45deg, #7e7e7e, #7e7e7e 10px, #5c5c5c 10px, #5c5c5c 20px);\n",
       "    }\n",
       "    .progress-bar-interrupted, .progress-bar-interrupted::-webkit-progress-bar {\n",
       "        background: #F44336;\n",
       "    }\n",
       "</style>\n"
      ],
      "text/plain": [
       "<IPython.core.display.HTML object>"
      ]
     },
     "metadata": {},
     "output_type": "display_data"
    },
    {
     "data": {
      "text/html": [
       "<table border=\"1\" class=\"dataframe\">\n",
       "  <thead>\n",
       "    <tr style=\"text-align: left;\">\n",
       "      <th>epoch</th>\n",
       "      <th>train_loss</th>\n",
       "      <th>valid_loss</th>\n",
       "      <th>accuracy</th>\n",
       "      <th>time</th>\n",
       "    </tr>\n",
       "  </thead>\n",
       "  <tbody>\n",
       "    <tr>\n",
       "      <td>0</td>\n",
       "      <td>2.097288</td>\n",
       "      <td>1.816184</td>\n",
       "      <td>0.264323</td>\n",
       "      <td>04:06</td>\n",
       "    </tr>\n",
       "  </tbody>\n",
       "</table>"
      ],
      "text/plain": [
       "<IPython.core.display.HTML object>"
      ]
     },
     "metadata": {},
     "output_type": "display_data"
    },
    {
     "data": {
      "text/html": [
       "\n",
       "<style>\n",
       "    /* Turns off some styling */\n",
       "    progress {\n",
       "        /* gets rid of default border in Firefox and Opera. */\n",
       "        border: none;\n",
       "        /* Needs to be in here for Safari polyfill so background images work as expected. */\n",
       "        background-size: auto;\n",
       "    }\n",
       "    progress:not([value]), progress:not([value])::-webkit-progress-bar {\n",
       "        background: repeating-linear-gradient(45deg, #7e7e7e, #7e7e7e 10px, #5c5c5c 10px, #5c5c5c 20px);\n",
       "    }\n",
       "    .progress-bar-interrupted, .progress-bar-interrupted::-webkit-progress-bar {\n",
       "        background: #F44336;\n",
       "    }\n",
       "</style>\n"
      ],
      "text/plain": [
       "<IPython.core.display.HTML object>"
      ]
     },
     "metadata": {},
     "output_type": "display_data"
    },
    {
     "data": {
      "text/html": [
       "<table border=\"1\" class=\"dataframe\">\n",
       "  <thead>\n",
       "    <tr style=\"text-align: left;\">\n",
       "      <th>epoch</th>\n",
       "      <th>train_loss</th>\n",
       "      <th>valid_loss</th>\n",
       "      <th>accuracy</th>\n",
       "      <th>time</th>\n",
       "    </tr>\n",
       "  </thead>\n",
       "  <tbody>\n",
       "    <tr>\n",
       "      <td>0</td>\n",
       "      <td>1.702007</td>\n",
       "      <td>1.551758</td>\n",
       "      <td>0.332682</td>\n",
       "      <td>05:46</td>\n",
       "    </tr>\n",
       "    <tr>\n",
       "      <td>1</td>\n",
       "      <td>1.520685</td>\n",
       "      <td>1.340063</td>\n",
       "      <td>0.430990</td>\n",
       "      <td>05:33</td>\n",
       "    </tr>\n",
       "    <tr>\n",
       "      <td>2</td>\n",
       "      <td>1.341435</td>\n",
       "      <td>1.208706</td>\n",
       "      <td>0.495443</td>\n",
       "      <td>04:47</td>\n",
       "    </tr>\n",
       "    <tr>\n",
       "      <td>3</td>\n",
       "      <td>1.171100</td>\n",
       "      <td>1.165234</td>\n",
       "      <td>0.535807</td>\n",
       "      <td>05:34</td>\n",
       "    </tr>\n",
       "    <tr>\n",
       "      <td>4</td>\n",
       "      <td>1.102494</td>\n",
       "      <td>1.116899</td>\n",
       "      <td>0.551432</td>\n",
       "      <td>05:35</td>\n",
       "    </tr>\n",
       "  </tbody>\n",
       "</table>"
      ],
      "text/plain": [
       "<IPython.core.display.HTML object>"
      ]
     },
     "metadata": {},
     "output_type": "display_data"
    },
    {
     "data": {
      "text/plain": [
       "Path('models/vit_trained_model.pth')"
      ]
     },
     "execution_count": 3,
     "metadata": {},
     "output_type": "execute_result"
    },
    {
     "data": {
      "image/png": "[encoded data removed]",
      "text/plain": [
       "<Figure size 640x480 with 1 Axes>"
      ]
     },
     "metadata": {},
     "output_type": "display_data"
    }
   ],
   "source": [
    "# Vision Transformer Model\n",
    "\n",
    "# Define the path to your CSV file and training images\n",
    "csv_path = os.path.join('COMP90086_2024_Project_train', 'train.csv')\n",
    "train_dir = os.path.join('COMP90086_2024_Project_train', 'train')\n",
    "\n",
    "# Read the CSV file into a DataFrame\n",
    "train_data = pd.read_csv(csv_path)\n",
    "\n",
    "# Add a column with the complete image path\n",
    "train_data['image_path'] = train_data['id'].apply(lambda x: os.path.join(train_dir, f\"{x}.jpg\"))\n",
    "\n",
    "# Ensure that the 'stable_height' column is treated as a string for classification\n",
    "train_data['stable_height'] = train_data['stable_height'].astype(str)\n",
    "\n",
    "# Create a DataBlock for the Vision Transformer\n",
    "dblock = DataBlock(\n",
    "    blocks=(ImageBlock, CategoryBlock),  # Define the input and output types\n",
    "    get_x=ColReader('image_path'),       # Read the image paths\n",
    "    get_y=ColReader('stable_height'),    # Read the target labels\n",
    "    splitter=RandomSplitter(valid_pct=0.2),  # Split into training and validation sets\n",
    "    item_tfms=Resize(224),               # Resize images to 224x224 (required by ViT)\n",
    "    batch_tfms=aug_transforms()          # Apply data augmentation\n",
    ")\n",
    "\n",
    "# Create the DataLoaders\n",
    "dls = dblock.dataloaders(train_data, bs=8, num_workers=0)  # Adjust batch size and num_workers as needed\n",
    "\n",
    "# Create a Vision Transformer model using timm\n",
    "vit_model = timm.create_model('vit_base_patch16_224', pretrained=True, num_classes=dls.c)\n",
    "\n",
    "# Create a FastAI learner\n",
    "learn = vision_learner(dls, 'vit_base_patch16_224', metrics=accuracy, pretrained=True)\n",
    "\n",
    "# Find the optimal learning rate\n",
    "learn.lr_find()\n",
    "\n",
    "# Fine-tune the model\n",
    "learn.fine_tune(5)  # Adjust the number of epochs as needed\n",
    "learn.save('vit_trained_model')\n"
   ]
  },
  {
   "cell_type": "code",
   "execution_count": null,
   "metadata": {},
   "outputs": [],
   "source": [
    "class VisionTransformerTrainer:\n",
    "    def __init__(self, csv_path, train_dir, model_name='vit_base_patch16_224', image_size=224, batch_size=8, valid_pct=0.2):\n",
    "        \"\"\"\n",
    "        Initializes the Vision Transformer Trainer.\n",
    "        \n",
    "        Args:\n",
    "            csv_path (str): Path to the CSV file containing data.\n",
    "            train_dir (str): Directory where training images are located.\n",
    "            model_name (str): Name of the model from timm (default is 'vit_base_patch16_224').\n",
    "            image_size (int): Size to resize images (default is 224x224).\n",
    "            batch_size (int): Batch size for training (default is 8).\n",
    "            valid_pct (float): Percentage of data to use for validation (default is 0.2).\n",
    "        \"\"\"\n",
    "        self.csv_path = csv_path\n",
    "        self.train_dir = train_dir\n",
    "        self.model_name = model_name\n",
    "        self.image_size = image_size\n",
    "        self.batch_size = batch_size\n",
    "        self.valid_pct = valid_pct\n",
    "        self.learn = None  # Placeholder for the learner object\n",
    "\n",
    "        # Load data\n",
    "        self._prepare_data()\n",
    "\n",
    "        # Initialize DataLoaders\n",
    "        self._create_dataloaders()\n",
    "\n",
    "    def _prepare_data(self):\n",
    "        # Read the CSV file\n",
    "        self.train_data = pd.read_csv(self.csv_path)\n",
    "\n",
    "        # Add a column with the complete image path\n",
    "        self.train_data['image_path'] = self.train_data['id'].apply(lambda x: os.path.join(self.train_dir, f\"{x}.jpg\"))\n",
    "\n",
    "        # Ensure the 'stable_height' column is treated as a string for classification\n",
    "        self.train_data['stable_height'] = self.train_data['stable_height'].astype(str)\n",
    "\n",
    "    def _create_dataloaders(self):\n",
    "        # Create a DataBlock for the Vision Transformer\n",
    "        dblock = DataBlock(\n",
    "            blocks=(ImageBlock, CategoryBlock),  # Define input and output types\n",
    "            get_x=ColReader('image_path'),       # Read the image paths\n",
    "            get_y=ColReader('stable_height'),    # Read the target labels\n",
    "            splitter=RandomSplitter(valid_pct=self.valid_pct),  # Split into training and validation sets\n",
    "            item_tfms=Resize(self.image_size),   # Resize images to the required size\n",
    "            batch_tfms=aug_transforms()          # Apply data augmentation\n",
    "        )\n",
    "\n",
    "        # Create the DataLoaders\n",
    "        self.dls = dblock.dataloaders(self.train_data, bs=self.batch_size, num_workers=0)\n",
    "\n",
    "    def initialize_model(self, pretrained=True):\n",
    "        # Create a Vision Transformer model using timm\n",
    "        self.model = timm.create_model(self.model_name, pretrained=pretrained, num_classes=self.dls.c)\n",
    "\n",
    "        # Create a FastAI learner\n",
    "        self.learn = vision_learner(self.dls, self.model_name, metrics=accuracy, pretrained=pretrained)\n",
    "\n",
    "    def find_learning_rate(self):\n",
    "        if self.learn is None:\n",
    "            raise Exception(\"Model has not been initialized. Please run initialize_model() first.\")\n",
    "        self.learn.lr_find()\n",
    "\n",
    "    def fine_tune(self, epochs=5):\n",
    "        if self.learn is None:\n",
    "            raise Exception(\"Model has not been initialized. Please run initialize_model() first.\")\n",
    "        self.learn.fine_tune(epochs)\n",
    "        print(\"Training complete.\")\n",
    "\n",
    "    def save_model(self, model_name='vit_trained_model'):\n",
    "        if self.learn is None:\n",
    "            raise Exception(\"Model has not been initialized. Please run initialize_model() first.\")\n",
    "        self.learn.save(model_name)\n",
    "        print(f\"Model saved as {model_name}\")\n",
    "\n",
    "    def load_model(self, model_name='vit_trained_model'):\n",
    "        if self.learn is None:\n",
    "            raise Exception(\"Model has not been initialized. Please run initialize_model() first.\")\n",
    "        self.learn.load(model_name)\n",
    "        print(f\"Model loaded from {model_name}\")\n",
    "\n",
    "    def predict(self, image_path):\n",
    "        if self.learn is None:\n",
    "            raise Exception(\"Model has not been initialized. Please run initialize_model() first.\")\n",
    "        \n",
    "        # Predict on a single image\n",
    "        img = PILImage.create(image_path)\n",
    "        pred, pred_idx, probs = self.learn.predict(img)\n",
    "        return {'id': os.path.basename(image_path).split('.')[0], 'predicted_stable_height': pred, 'probability': probs[pred_idx].item()}\n"
   ]
  },
  {
   "cell_type": "code",
   "execution_count": null,
   "metadata": {},
   "outputs": [],
   "source": [
    "# Define paths\n",
    "csv_path = 'COMP90086_2024_Project_train/train.csv'\n",
    "train_dir = 'COMP90086_2024_Project_train/train'\n",
    "\n",
    "# Initialize the Vision Transformer Trainer\n",
    "trainer = VisionTransformerTrainer(csv_path, train_dir, model_name='vit_base_patch16_224', image_size=224, batch_size=8)\n",
    "\n",
    "# Initialize the model\n",
    "trainer.initialize_model(pretrained=True)\n",
    "\n",
    "# Find the optimal learning rate\n",
    "trainer.find_learning_rate()\n",
    "\n",
    "# Fine-tune the model\n",
    "trainer.fine_tune(epochs=5)\n",
    "\n",
    "# Save the trained model\n",
    "trainer.save_model('vit_trained_model')\n",
    "\n",
    "# Predict using the trained model\n",
    "prediction = trainer.predict('/path/to/test_image.jpg')\n",
    "print(prediction)\n"
   ]
  },
  {
   "cell_type": "code",
   "execution_count": null,
   "metadata": {},
   "outputs": [],
   "source": [
    "# Vision Transformer and adding on features as input\n",
    "\n",
    "# Define the path to your CSV file and training images\n",
    "csv_path = os.path.join('COMP90086_2024_Project_train', 'train.csv')\n",
    "train_dir = os.path.join('COMP90086_2024_Project_train', 'train')\n",
    "\n",
    "# Read the CSV file into a DataFrame\n",
    "train_data = pd.read_csv(csv_path)\n",
    "\n",
    "# Add a column with the complete image path\n",
    "train_data['image_path'] = train_data['id'].apply(lambda x: os.path.join(train_dir, f\"{x}.jpg\"))\n",
    "\n",
    "feature_columns = ['shapeset', 'type', 'total_height', 'instability_type', 'cam_angle']\n",
    "train_data[feature_columns] = train_data[feature_columns].astype(float)  # Ensure all feature columns are float\n",
    "\n",
    "# Ensure that the 'stable_height' column is treated as a string for classification\n",
    "train_data['stable_height'] = train_data['stable_height'].astype(str)\n",
    "\n",
    "# Define a DataBlock\n",
    "dblock = DataBlock(\n",
    "    blocks=(ImageBlock, CategoryBlock),  # Using ImageBlock and categorical target\n",
    "    get_x=ColReader('image_path'),       # Get the image path\n",
    "    get_y=ColReader('stable_height'),    # Get the target label\n",
    "    splitter=RandomSplitter(valid_pct=0.2),  # 80/20 train/validation split\n",
    "    item_tfms=Resize(224),               # Resize images to 224x224 for ViT\n",
    "    batch_tfms=aug_transforms()          # Apply standard augmentations\n",
    ")\n",
    "\n",
    "# Create the DataLoaders\n",
    "dls = dblock.dataloaders(train_data, bs=8, num_workers=0)  # Adjust batch size as needed\n",
    "\n",
    "# Load a pre-trained Vision Transformer model using timm\n",
    "vit_model = timm.create_model('vit_base_patch16_224', pretrained=True, num_classes=dls.c)\n",
    "\n",
    "# Define a custom model that combines the ViT with additional features\n",
    "class VisionTransformerWithFeatures(nn.Module):\n",
    "    def __init__(self, vit_model, num_features, num_classes):\n",
    "        super(VisionTransformerWithFeatures, self).__init__()\n",
    "        self.vit_model = vit_model\n",
    "        \n",
    "        # Define a simple feedforward network for the tabular features\n",
    "        self.feature_extractor = nn.Sequential(\n",
    "            nn.Linear(num_features, 128),\n",
    "            nn.ReLU(),\n",
    "            nn.Dropout(0.2),\n",
    "            nn.Linear(128, 64),\n",
    "            nn.ReLU()\n",
    "        )\n",
    "        \n",
    "        # Define the final classifier combining both ViT features and tabular features\n",
    "        self.classifier = nn.Linear(vit_model.head.in_features + 64, num_classes)\n",
    "        \n",
    "    def forward(self, x, features=None):\n",
    "        # Extract features from the ViT model\n",
    "        vit_features = self.vit_model.forward_features(x)  # Extract features without the classifier head\n",
    "        \n",
    "        if features is not None:\n",
    "            # Extract features from the tabular data\n",
    "            feature_embedding = self.feature_extractor(features)\n",
    "            # Concatenate image and tabular features\n",
    "            combined_features = torch.cat((vit_features, feature_embedding), dim=1)\n",
    "        else:\n",
    "            # Use only image features during inference\n",
    "            combined_features = vit_features\n",
    "        \n",
    "        # Pass the combined features through the final classifier\n",
    "        return self.classifier(combined_features)\n",
    "    \n",
    "# Initialize the custom model\n",
    "num_features = len(feature_columns)\n",
    "num_classes = len(train_data['stable_height'].unique())\n",
    "custom_model = VisionTransformerWithFeatures(vit_model, num_features=num_features, num_classes=num_classes)\n",
    "\n",
    "# Create a FastAI learner\n",
    "learn = Learner(dls, custom_model, metrics=accuracy)\n",
    "\n",
    "learn.find_lr()\n",
    "\n",
    "# Train the model\n",
    "learn.fine_tune(5)  # Adjust the number of epochs as needed\n"
   ]
  },
  {
   "cell_type": "code",
   "execution_count": 7,
   "metadata": {},
   "outputs": [],
   "source": [
    "# Define the path to your test CSV file\n",
    "test_csv_path = os.path.join('COMP90086_2024_Project_test', 'test.csv')\n",
    "\n",
    "# Read the CSV file into a DataFrame\n",
    "test_data = pd.read_csv(test_csv_path)\n",
    "\n",
    "# Adding a column with the complete image path\n",
    "test_data['image_path'] = test_data['id'].apply(lambda x: os.path.join('COMP90086_2024_Project_test', 'test', f\"{x}.jpg\"))\n",
    "\n",
    "# Create a DataLoader for the test set\n",
    "test_dls = dls.test_dl(test_data)  # Use test_dl to create a DataLoader for testing\n",
    "\n"
   ]
  },
  {
   "cell_type": "code",
   "execution_count": 8,
   "metadata": {},
   "outputs": [],
   "source": [
    "learn = learn.load('inception_v3_trained_model')"
   ]
  }
 ],
 "metadata": {
  "kernelspec": {
   "display_name": "Python 3",
   "language": "python",
   "name": "python3"
  },
  "language_info": {
   "codemirror_mode": {
    "name": "ipython",
    "version": 3
   },
   "file_extension": ".py",
   "mimetype": "text/x-python",
   "name": "python",
   "nbconvert_exporter": "python",
   "pygments_lexer": "ipython3",
   "version": "3.11.9"
  }
 },
 "nbformat": 4,
 "nbformat_minor": 2
}
