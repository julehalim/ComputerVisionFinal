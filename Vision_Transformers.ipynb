{
 "cells": [
  {
   "cell_type": "code",
   "execution_count": 1,
   "metadata": {},
   "outputs": [],
   "source": [
    "# Standard library imports\n",
    "import os\n",
    "import json\n",
    "import pandas as pd\n",
    "import timm\n",
    "import matplotlib.pyplot as plt\n",
    "from fastai.vision.all import *\n",
    "import torch"
   ]
  },
  {
   "cell_type": "code",
   "execution_count": null,
   "metadata": {},
   "outputs": [],
   "source": [
    "import timm\n",
    "\n",
    "# List all available models in timm\n",
    "# Check CVT model\n",
    "available_models = timm.list_models()\n",
    "print(available_models)"
   ]
  },
  {
   "cell_type": "code",
   "execution_count": 2,
   "metadata": {},
   "outputs": [],
   "source": [
    "import json\n",
    "\n",
    "class VisionTransformerTrainer:\n",
    "    def __init__(self, csv_path, train_dir, model_name='vit_base_patch16_224', image_size=224, batch_size=8, valid_pct=0.2):\n",
    "        self.csv_path = csv_path\n",
    "        self.train_dir = train_dir\n",
    "        self.model_name = model_name\n",
    "        self.image_size = image_size\n",
    "        self.batch_size = batch_size\n",
    "        self.valid_pct = valid_pct\n",
    "        self.learn = None\n",
    "        self.lr = None  # Placeholder for the learning rate if specified manually\n",
    "        self.metrics = {}  # To store metrics (loss and accuracy)\n",
    "\n",
    "        self._prepare_data()\n",
    "        self._create_dataloaders()\n",
    "\n",
    "    def _prepare_data(self):\n",
    "        self.train_data = pd.read_csv(self.csv_path)\n",
    "        self.train_data['image_path'] = self.train_data['id'].apply(lambda x: os.path.join(self.train_dir, f\"{x}.jpg\"))\n",
    "        self.train_data['stable_height'] = self.train_data['stable_height'].astype(str)\n",
    "\n",
    "    def _create_dataloaders(self):\n",
    "        dblock = DataBlock(\n",
    "            blocks=(ImageBlock, CategoryBlock),\n",
    "            get_x=ColReader('image_path'),\n",
    "            get_y=ColReader('stable_height'),\n",
    "            splitter=RandomSplitter(valid_pct=self.valid_pct),\n",
    "            item_tfms=Resize(self.image_size),\n",
    "            batch_tfms=aug_transforms()\n",
    "        )\n",
    "        self.dls = dblock.dataloaders(self.train_data, bs=self.batch_size, num_workers=0)\n",
    "\n",
    "    def initialize_model(self, pretrained=True):\n",
    "        self.model = timm.create_model(self.model_name, pretrained=pretrained, num_classes=self.dls.c)\n",
    "        self.learn = vision_learner(self.dls, self.model_name, metrics=accuracy, pretrained=pretrained)\n",
    "        \n",
    "        # Check if CUDA is available\n",
    "        if torch.cuda.is_available():\n",
    "            self.learn.model = self.learn.model.cuda()\n",
    "            print(\"CUDA is available. Using GPU for training.\")\n",
    "        else:\n",
    "            print(\"CUDA is not available. Using CPU for training.\")\n",
    "\n",
    "    def set_learning_rate(self, learning_rate):\n",
    "        \"\"\"\n",
    "        Sets the learning rate manually.\n",
    "        \n",
    "        Args:\n",
    "            learning_rate (float): The learning rate to use for training.\n",
    "        \"\"\"\n",
    "        self.lr = learning_rate\n",
    "        print(f\"Learning rate set to: {self.lr}\")\n",
    "\n",
    "    def fine_tune(self, epochs=5):\n",
    "        if self.learn is None:\n",
    "            raise Exception(\"Model has not been initialized. Please run initialize_model() first.\")\n",
    "        if self.lr is None:\n",
    "            raise Exception(\"Learning rate not set. Please set it using set_learning_rate() first.\")\n",
    "\n",
    "        self.learn.fine_tune(epochs, base_lr=self.lr)\n",
    "        print(\"Training complete.\")\n",
    "\n",
    "        # Collecting the train loss\n",
    "        self.metrics['train_loss'] = [float(loss) for loss in self.learn.recorder.losses]\n",
    "        \n",
    "        # Collect validation losses and accuracy, ensuring to handle potential float values\n",
    "        self.metrics['valid_loss'] = []\n",
    "        self.metrics['accuracy'] = []\n",
    "\n",
    "        for values in self.learn.recorder.values:\n",
    "            try:\n",
    "                # Ensure 'values' is treated as a list\n",
    "                if isinstance(values, (list, tuple)):\n",
    "                    valid_loss, accuracy = float(values[0]), float(values[1])\n",
    "                    self.metrics['valid_loss'].append(valid_loss)\n",
    "                    self.metrics['accuracy'].append(accuracy)\n",
    "                else:\n",
    "                    print(f\"Unexpected value format in metrics: {values}\")\n",
    "            except ValueError:\n",
    "                print(f\"Skipping invalid entry in metrics: {values}\")\n",
    "\n",
    "        torch.cuda.empty_cache()\n",
    "\n",
    "    def save_model(self, model_name=None):\n",
    "        if self.learn is None:\n",
    "            raise Exception(\"Model has not been initialized. Please run initialize_model() first.\")\n",
    "        \n",
    "        if model_name is None:\n",
    "            model_name = self.model_name.replace('/', '_')\n",
    "        self.learn.save(model_name)\n",
    "        print(f\"Model saved as {model_name}\")\n",
    "\n",
    "    def load_model(self, model_name=None):\n",
    "        if self.learn is None:\n",
    "            raise Exception(\"Model has not been initialized. Please run initialize_model() first.\")\n",
    "        \n",
    "        if model_name is None:\n",
    "            model_name = self.model_name.replace('/', '_')\n",
    "        self.learn.load(model_name)\n",
    "        print(f\"Model loaded from {model_name}\")\n",
    "\n",
    "    def predict(self, image_path):\n",
    "        if self.learn is None:\n",
    "            raise Exception(\"Model has not been initialized. Please run initialize_model() first.\")\n",
    "        \n",
    "        img = PILImage.create(image_path)\n",
    "        pred, pred_idx, probs = self.learn.predict(img)\n",
    "        return {'id': os.path.basename(image_path).split('.')[0], 'predicted_stable_height': pred, 'probability': probs[pred_idx].item()}\n",
    "\n",
    "    def plot_metrics(self):\n",
    "        if self.learn is None or not hasattr(self.learn, 'recorder'):\n",
    "            raise Exception(\"No training data found. Train the model first using fine_tune().\")\n",
    "        \n",
    "        self.learn.recorder.plot_loss()\n",
    "        plt.title(f\"Loss and Accuracy for Model: {self.model_name}\")\n",
    "        plt.show()\n",
    "        \n",
    "    def save_metrics(self, file_path='training_metrics.json'):\n",
    "        \"\"\"\n",
    "        Save collected metrics to a JSON file.\n",
    "        \"\"\"\n",
    "        metrics_data = {\n",
    "            'model_name': self.model_name,\n",
    "            'learning_rate': self.lr,\n",
    "            'train_loss': [float(loss) for loss in self.metrics['train_loss']],\n",
    "            'valid_loss': [[float(value) for value in values] for values in self.metrics['valid_loss']],\n",
    "            'accuracy': [float(acc) for acc in self.metrics['accuracy']],\n",
    "        }\n",
    "\n",
    "        with open(file_path, 'w') as json_file:\n",
    "            json.dump(metrics_data, json_file, indent=4)\n",
    "        \n",
    "        print(f\"Training metrics saved to {file_path}\")\n"
   ]
  },
  {
   "cell_type": "code",
   "execution_count": 3,
   "metadata": {},
   "outputs": [
    {
     "name": "stdout",
     "output_type": "stream",
     "text": [
      "\n",
      "Training with model: vit_base_patch16_224\n",
      "CUDA is available. Using GPU for training.\n",
      "Learning rate set to: 0.0003\n"
     ]
    },
    {
     "data": {
      "text/html": [
       "\n",
       "<style>\n",
       "    /* Turns off some styling */\n",
       "    progress {\n",
       "        /* gets rid of default border in Firefox and Opera. */\n",
       "        border: none;\n",
       "        /* Needs to be in here for Safari polyfill so background images work as expected. */\n",
       "        background-size: auto;\n",
       "    }\n",
       "    progress:not([value]), progress:not([value])::-webkit-progress-bar {\n",
       "        background: repeating-linear-gradient(45deg, #7e7e7e, #7e7e7e 10px, #5c5c5c 10px, #5c5c5c 20px);\n",
       "    }\n",
       "    .progress-bar-interrupted, .progress-bar-interrupted::-webkit-progress-bar {\n",
       "        background: #F44336;\n",
       "    }\n",
       "</style>\n"
      ],
      "text/plain": [
       "<IPython.core.display.HTML object>"
      ]
     },
     "metadata": {},
     "output_type": "display_data"
    },
    {
     "data": {
      "text/html": [
       "<table border=\"1\" class=\"dataframe\">\n",
       "  <thead>\n",
       "    <tr style=\"text-align: left;\">\n",
       "      <th>epoch</th>\n",
       "      <th>train_loss</th>\n",
       "      <th>valid_loss</th>\n",
       "      <th>accuracy</th>\n",
       "      <th>time</th>\n",
       "    </tr>\n",
       "  </thead>\n",
       "  <tbody>\n",
       "    <tr>\n",
       "      <td>0</td>\n",
       "      <td>2.539186</td>\n",
       "      <td>1.940390</td>\n",
       "      <td>0.239583</td>\n",
       "      <td>03:53</td>\n",
       "    </tr>\n",
       "  </tbody>\n",
       "</table>"
      ],
      "text/plain": [
       "<IPython.core.display.HTML object>"
      ]
     },
     "metadata": {},
     "output_type": "display_data"
    },
    {
     "name": "stderr",
     "output_type": "stream",
     "text": [
      "c:\\Users\\julev\\anaconda3\\envs\\cudaEnv\\Lib\\site-packages\\timm\\models\\vision_transformer.py:92: UserWarning: 1Torch was not compiled with flash attention. (Triggered internally at ..\\aten\\src\\ATen\\native\\transformers\\cuda\\sdp_utils.cpp:455.)\n",
      "  x = F.scaled_dot_product_attention(\n"
     ]
    },
    {
     "data": {
      "text/html": [
       "\n",
       "<style>\n",
       "    /* Turns off some styling */\n",
       "    progress {\n",
       "        /* gets rid of default border in Firefox and Opera. */\n",
       "        border: none;\n",
       "        /* Needs to be in here for Safari polyfill so background images work as expected. */\n",
       "        background-size: auto;\n",
       "    }\n",
       "    progress:not([value]), progress:not([value])::-webkit-progress-bar {\n",
       "        background: repeating-linear-gradient(45deg, #7e7e7e, #7e7e7e 10px, #5c5c5c 10px, #5c5c5c 20px);\n",
       "    }\n",
       "    .progress-bar-interrupted, .progress-bar-interrupted::-webkit-progress-bar {\n",
       "        background: #F44336;\n",
       "    }\n",
       "</style>\n"
      ],
      "text/plain": [
       "<IPython.core.display.HTML object>"
      ]
     },
     "metadata": {},
     "output_type": "display_data"
    },
    {
     "data": {
      "text/html": [
       "<table border=\"1\" class=\"dataframe\">\n",
       "  <thead>\n",
       "    <tr style=\"text-align: left;\">\n",
       "      <th>epoch</th>\n",
       "      <th>train_loss</th>\n",
       "      <th>valid_loss</th>\n",
       "      <th>accuracy</th>\n",
       "      <th>time</th>\n",
       "    </tr>\n",
       "  </thead>\n",
       "  <tbody>\n",
       "    <tr>\n",
       "      <td>0</td>\n",
       "      <td>2.216609</td>\n",
       "      <td>1.711342</td>\n",
       "      <td>0.269531</td>\n",
       "      <td>05:31</td>\n",
       "    </tr>\n",
       "    <tr>\n",
       "      <td>1</td>\n",
       "      <td>2.043823</td>\n",
       "      <td>1.628476</td>\n",
       "      <td>0.302734</td>\n",
       "      <td>04:53</td>\n",
       "    </tr>\n",
       "    <tr>\n",
       "      <td>2</td>\n",
       "      <td>1.913306</td>\n",
       "      <td>1.516157</td>\n",
       "      <td>0.355469</td>\n",
       "      <td>03:45</td>\n",
       "    </tr>\n",
       "    <tr>\n",
       "      <td>3</td>\n",
       "      <td>1.854125</td>\n",
       "      <td>1.474757</td>\n",
       "      <td>0.361979</td>\n",
       "      <td>03:54</td>\n",
       "    </tr>\n",
       "    <tr>\n",
       "      <td>4</td>\n",
       "      <td>1.744710</td>\n",
       "      <td>1.463529</td>\n",
       "      <td>0.368490</td>\n",
       "      <td>03:58</td>\n",
       "    </tr>\n",
       "  </tbody>\n",
       "</table>"
      ],
      "text/plain": [
       "<IPython.core.display.HTML object>"
      ]
     },
     "metadata": {},
     "output_type": "display_data"
    },
    {
     "name": "stdout",
     "output_type": "stream",
     "text": [
      "Training complete.\n",
      "Model saved as vit_base_patch16_224\n",
      "An error occurred while training model vit_base_patch16_224: 'float' object is not iterable\n",
      "\n",
      "Training with model: beit_base_patch16_224\n",
      "CUDA is available. Using GPU for training.\n",
      "Learning rate set to: 0.0003\n"
     ]
    },
    {
     "data": {
      "text/html": [
       "\n",
       "<style>\n",
       "    /* Turns off some styling */\n",
       "    progress {\n",
       "        /* gets rid of default border in Firefox and Opera. */\n",
       "        border: none;\n",
       "        /* Needs to be in here for Safari polyfill so background images work as expected. */\n",
       "        background-size: auto;\n",
       "    }\n",
       "    progress:not([value]), progress:not([value])::-webkit-progress-bar {\n",
       "        background: repeating-linear-gradient(45deg, #7e7e7e, #7e7e7e 10px, #5c5c5c 10px, #5c5c5c 20px);\n",
       "    }\n",
       "    .progress-bar-interrupted, .progress-bar-interrupted::-webkit-progress-bar {\n",
       "        background: #F44336;\n",
       "    }\n",
       "</style>\n"
      ],
      "text/plain": [
       "<IPython.core.display.HTML object>"
      ]
     },
     "metadata": {},
     "output_type": "display_data"
    },
    {
     "data": {
      "text/html": [
       "<table border=\"1\" class=\"dataframe\">\n",
       "  <thead>\n",
       "    <tr style=\"text-align: left;\">\n",
       "      <th>epoch</th>\n",
       "      <th>train_loss</th>\n",
       "      <th>valid_loss</th>\n",
       "      <th>accuracy</th>\n",
       "      <th>time</th>\n",
       "    </tr>\n",
       "  </thead>\n",
       "  <tbody>\n",
       "    <tr>\n",
       "      <td>0</td>\n",
       "      <td>2.433183</td>\n",
       "      <td>1.788025</td>\n",
       "      <td>0.260417</td>\n",
       "      <td>03:16</td>\n",
       "    </tr>\n",
       "  </tbody>\n",
       "</table>"
      ],
      "text/plain": [
       "<IPython.core.display.HTML object>"
      ]
     },
     "metadata": {},
     "output_type": "display_data"
    },
    {
     "data": {
      "text/html": [
       "\n",
       "<style>\n",
       "    /* Turns off some styling */\n",
       "    progress {\n",
       "        /* gets rid of default border in Firefox and Opera. */\n",
       "        border: none;\n",
       "        /* Needs to be in here for Safari polyfill so background images work as expected. */\n",
       "        background-size: auto;\n",
       "    }\n",
       "    progress:not([value]), progress:not([value])::-webkit-progress-bar {\n",
       "        background: repeating-linear-gradient(45deg, #7e7e7e, #7e7e7e 10px, #5c5c5c 10px, #5c5c5c 20px);\n",
       "    }\n",
       "    .progress-bar-interrupted, .progress-bar-interrupted::-webkit-progress-bar {\n",
       "        background: #F44336;\n",
       "    }\n",
       "</style>\n"
      ],
      "text/plain": [
       "<IPython.core.display.HTML object>"
      ]
     },
     "metadata": {},
     "output_type": "display_data"
    },
    {
     "data": {
      "text/html": [
       "<table border=\"1\" class=\"dataframe\">\n",
       "  <thead>\n",
       "    <tr style=\"text-align: left;\">\n",
       "      <th>epoch</th>\n",
       "      <th>train_loss</th>\n",
       "      <th>valid_loss</th>\n",
       "      <th>accuracy</th>\n",
       "      <th>time</th>\n",
       "    </tr>\n",
       "  </thead>\n",
       "  <tbody>\n",
       "    <tr>\n",
       "      <td>0</td>\n",
       "      <td>2.213568</td>\n",
       "      <td>1.694043</td>\n",
       "      <td>0.295573</td>\n",
       "      <td>05:30</td>\n",
       "    </tr>\n",
       "    <tr>\n",
       "      <td>1</td>\n",
       "      <td>1.998419</td>\n",
       "      <td>1.575691</td>\n",
       "      <td>0.327474</td>\n",
       "      <td>04:39</td>\n",
       "    </tr>\n",
       "    <tr>\n",
       "      <td>2</td>\n",
       "      <td>1.937005</td>\n",
       "      <td>1.487411</td>\n",
       "      <td>0.342448</td>\n",
       "      <td>06:02</td>\n",
       "    </tr>\n",
       "    <tr>\n",
       "      <td>3</td>\n",
       "      <td>1.810161</td>\n",
       "      <td>1.455377</td>\n",
       "      <td>0.353516</td>\n",
       "      <td>05:56</td>\n",
       "    </tr>\n",
       "    <tr>\n",
       "      <td>4</td>\n",
       "      <td>1.757939</td>\n",
       "      <td>1.450001</td>\n",
       "      <td>0.354818</td>\n",
       "      <td>05:20</td>\n",
       "    </tr>\n",
       "  </tbody>\n",
       "</table>"
      ],
      "text/plain": [
       "<IPython.core.display.HTML object>"
      ]
     },
     "metadata": {},
     "output_type": "display_data"
    },
    {
     "name": "stdout",
     "output_type": "stream",
     "text": [
      "Training complete.\n",
      "Model saved as beit_base_patch16_224\n",
      "An error occurred while training model beit_base_patch16_224: 'float' object is not iterable\n",
      "\n",
      "Training with model: cvt-21-224x224\n",
      "An error occurred while training model cvt-21-224x224: Unknown model (cvt-21-224x224)\n",
      "\n",
      "Training with model: deit_base_patch16_224\n",
      "CUDA is available. Using GPU for training.\n",
      "Learning rate set to: 0.0003\n"
     ]
    },
    {
     "data": {
      "text/html": [
       "\n",
       "<style>\n",
       "    /* Turns off some styling */\n",
       "    progress {\n",
       "        /* gets rid of default border in Firefox and Opera. */\n",
       "        border: none;\n",
       "        /* Needs to be in here for Safari polyfill so background images work as expected. */\n",
       "        background-size: auto;\n",
       "    }\n",
       "    progress:not([value]), progress:not([value])::-webkit-progress-bar {\n",
       "        background: repeating-linear-gradient(45deg, #7e7e7e, #7e7e7e 10px, #5c5c5c 10px, #5c5c5c 20px);\n",
       "    }\n",
       "    .progress-bar-interrupted, .progress-bar-interrupted::-webkit-progress-bar {\n",
       "        background: #F44336;\n",
       "    }\n",
       "</style>\n"
      ],
      "text/plain": [
       "<IPython.core.display.HTML object>"
      ]
     },
     "metadata": {},
     "output_type": "display_data"
    },
    {
     "data": {
      "text/html": [
       "<table border=\"1\" class=\"dataframe\">\n",
       "  <thead>\n",
       "    <tr style=\"text-align: left;\">\n",
       "      <th>epoch</th>\n",
       "      <th>train_loss</th>\n",
       "      <th>valid_loss</th>\n",
       "      <th>accuracy</th>\n",
       "      <th>time</th>\n",
       "    </tr>\n",
       "  </thead>\n",
       "  <tbody>\n",
       "    <tr>\n",
       "      <td>0</td>\n",
       "      <td>2.519091</td>\n",
       "      <td>1.854182</td>\n",
       "      <td>0.245443</td>\n",
       "      <td>03:00</td>\n",
       "    </tr>\n",
       "  </tbody>\n",
       "</table>"
      ],
      "text/plain": [
       "<IPython.core.display.HTML object>"
      ]
     },
     "metadata": {},
     "output_type": "display_data"
    },
    {
     "data": {
      "text/html": [
       "\n",
       "<style>\n",
       "    /* Turns off some styling */\n",
       "    progress {\n",
       "        /* gets rid of default border in Firefox and Opera. */\n",
       "        border: none;\n",
       "        /* Needs to be in here for Safari polyfill so background images work as expected. */\n",
       "        background-size: auto;\n",
       "    }\n",
       "    progress:not([value]), progress:not([value])::-webkit-progress-bar {\n",
       "        background: repeating-linear-gradient(45deg, #7e7e7e, #7e7e7e 10px, #5c5c5c 10px, #5c5c5c 20px);\n",
       "    }\n",
       "    .progress-bar-interrupted, .progress-bar-interrupted::-webkit-progress-bar {\n",
       "        background: #F44336;\n",
       "    }\n",
       "</style>\n"
      ],
      "text/plain": [
       "<IPython.core.display.HTML object>"
      ]
     },
     "metadata": {},
     "output_type": "display_data"
    },
    {
     "data": {
      "text/html": [
       "<table border=\"1\" class=\"dataframe\">\n",
       "  <thead>\n",
       "    <tr style=\"text-align: left;\">\n",
       "      <th>epoch</th>\n",
       "      <th>train_loss</th>\n",
       "      <th>valid_loss</th>\n",
       "      <th>accuracy</th>\n",
       "      <th>time</th>\n",
       "    </tr>\n",
       "  </thead>\n",
       "  <tbody>\n",
       "    <tr>\n",
       "      <td>0</td>\n",
       "      <td>2.385565</td>\n",
       "      <td>1.725879</td>\n",
       "      <td>0.274740</td>\n",
       "      <td>17:01</td>\n",
       "    </tr>\n",
       "    <tr>\n",
       "      <td>1</td>\n",
       "      <td>2.079112</td>\n",
       "      <td>1.706737</td>\n",
       "      <td>0.279297</td>\n",
       "      <td>13:00</td>\n",
       "    </tr>\n",
       "    <tr>\n",
       "      <td>2</td>\n",
       "      <td>1.908475</td>\n",
       "      <td>1.673879</td>\n",
       "      <td>0.289062</td>\n",
       "      <td>05:35</td>\n",
       "    </tr>\n",
       "    <tr>\n",
       "      <td>3</td>\n",
       "      <td>1.932471</td>\n",
       "      <td>1.615718</td>\n",
       "      <td>0.287760</td>\n",
       "      <td>05:34</td>\n",
       "    </tr>\n",
       "    <tr>\n",
       "      <td>4</td>\n",
       "      <td>1.896061</td>\n",
       "      <td>1.620193</td>\n",
       "      <td>0.289062</td>\n",
       "      <td>05:41</td>\n",
       "    </tr>\n",
       "  </tbody>\n",
       "</table>"
      ],
      "text/plain": [
       "<IPython.core.display.HTML object>"
      ]
     },
     "metadata": {},
     "output_type": "display_data"
    },
    {
     "name": "stdout",
     "output_type": "stream",
     "text": [
      "Training complete.\n",
      "Model saved as deit_base_patch16_224\n",
      "An error occurred while training model deit_base_patch16_224: 'float' object is not iterable\n"
     ]
    }
   ],
   "source": [
    "# List of Vision Transformer models to test from timm\n",
    "model_names = [  \n",
    "    'vit_base_patch16_224',     # Vanilla ViT model  \n",
    "    'beit_base_patch16_224',    # BEiT model\n",
    "    'cvt-21-224x224',           # CvT model\n",
    "    'deit_base_patch16_224'     # DeiT model\n",
    "]\n",
    "\n",
    "# Paths to your dataset\n",
    "csv_path = 'COMP90086_2024_Project_train/train.csv'\n",
    "train_dir = 'COMP90086_2024_Project_train/train'\n",
    "\n",
    "# Define the learning rate to be used for all models\n",
    "learning_rate = 3e-4  # You can adjust this value as needed\n",
    "\n",
    "# Loop through each Vision Transformer model and train\n",
    "for model_name in model_names:\n",
    "    print(f\"\\nTraining with model: {model_name}\")\n",
    "    \n",
    "    try:\n",
    "        # Initialize the Vision Transformer Trainer for the current model\n",
    "        trainer = VisionTransformerTrainer(csv_path, train_dir, model_name=model_name, image_size=224, batch_size=8)\n",
    "        \n",
    "        # Initialize the model\n",
    "        trainer.initialize_model(pretrained=True)\n",
    "        \n",
    "        # Set the learning rate manually\n",
    "        trainer.set_learning_rate(learning_rate=learning_rate)\n",
    "        \n",
    "        # Fine-tune the model\n",
    "        trainer.fine_tune(epochs=5)  # Adjust the number of epochs as needed\n",
    "        \n",
    "        # Save the trained model\n",
    "        trainer.save_model(model_name=model_name)\n",
    "        \n",
    "        # Save the training metrics to a JSON file\n",
    "        trainer.save_metrics(file_path=f'{model_name}_training_metrics.json')\n",
    "        \n",
    "        # Plot the training metrics\n",
    "        trainer.plot_metrics()\n",
    "        \n",
    "    except Exception as e:\n",
    "        print(f\"An error occurred while training model {model_name}: {e}\")\n"
   ]
  }
 ],
 "metadata": {
  "kernelspec": {
   "display_name": "cudaEnv",
   "language": "python",
   "name": "python3"
  },
  "language_info": {
   "codemirror_mode": {
    "name": "ipython",
    "version": 3
   },
   "file_extension": ".py",
   "mimetype": "text/x-python",
   "name": "python",
   "nbconvert_exporter": "python",
   "pygments_lexer": "ipython3",
   "version": "3.11.9"
  }
 },
 "nbformat": 4,
 "nbformat_minor": 2
}
