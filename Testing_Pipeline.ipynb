{
 "cells": [
  {
   "cell_type": "code",
   "execution_count": 1,
   "metadata": {},
   "outputs": [],
   "source": [
    "# Standard library imports\n",
    "import os\n",
    "import json\n",
    "import pandas as pd\n",
    "import timm\n",
    "import matplotlib.pyplot as plt\n",
    "from fastai.vision.all import *\n",
    "from fastai.callback.core import Callback\n",
    "import torch\n",
    "import cv2\n",
    "import numpy as np"
   ]
  },
  {
   "cell_type": "code",
   "execution_count": 2,
   "metadata": {},
   "outputs": [
    {
     "name": "stdout",
     "output_type": "stream",
     "text": [
      "Available models in timm:\n",
      "bat_resnext26ts\n",
      "beit_base_patch16_224\n",
      "beit_base_patch16_384\n",
      "beit_large_patch16_224\n",
      "beit_large_patch16_384\n",
      "beit_large_patch16_512\n",
      "beitv2_base_patch16_224\n",
      "beitv2_large_patch16_224\n",
      "botnet26t_256\n",
      "botnet50ts_256\n",
      "caformer_b36\n",
      "caformer_m36\n",
      "caformer_s18\n",
      "caformer_s36\n",
      "cait_m36_384\n",
      "cait_m48_448\n",
      "cait_s24_224\n",
      "cait_s24_384\n",
      "cait_s36_384\n",
      "cait_xs24_384\n",
      "cait_xxs24_224\n",
      "cait_xxs24_384\n",
      "cait_xxs36_224\n",
      "cait_xxs36_384\n",
      "coat_lite_medium\n",
      "coat_lite_medium_384\n",
      "coat_lite_mini\n",
      "coat_lite_small\n",
      "coat_lite_tiny\n",
      "coat_mini\n",
      "coat_small\n",
      "coat_tiny\n",
      "coatnet_0_224\n",
      "coatnet_0_rw_224\n",
      "coatnet_1_224\n",
      "coatnet_1_rw_224\n",
      "coatnet_2_224\n",
      "coatnet_2_rw_224\n",
      "coatnet_3_224\n",
      "coatnet_3_rw_224\n",
      "coatnet_4_224\n",
      "coatnet_5_224\n",
      "coatnet_bn_0_rw_224\n",
      "coatnet_nano_cc_224\n",
      "coatnet_nano_rw_224\n",
      "coatnet_pico_rw_224\n",
      "coatnet_rmlp_0_rw_224\n",
      "coatnet_rmlp_1_rw2_224\n",
      "coatnet_rmlp_1_rw_224\n",
      "coatnet_rmlp_2_rw_224\n",
      "coatnet_rmlp_2_rw_384\n",
      "coatnet_rmlp_3_rw_224\n",
      "coatnet_rmlp_nano_rw_224\n",
      "coatnext_nano_rw_224\n",
      "convformer_b36\n",
      "convformer_m36\n",
      "convformer_s18\n",
      "convformer_s36\n",
      "convit_base\n",
      "convit_small\n",
      "convit_tiny\n",
      "convmixer_768_32\n",
      "convmixer_1024_20_ks9_p14\n",
      "convmixer_1536_20\n",
      "convnext_atto\n",
      "convnext_atto_ols\n",
      "convnext_base\n",
      "convnext_femto\n",
      "convnext_femto_ols\n",
      "convnext_large\n",
      "convnext_large_mlp\n",
      "convnext_nano\n",
      "convnext_nano_ols\n",
      "convnext_pico\n",
      "convnext_pico_ols\n",
      "convnext_small\n",
      "convnext_tiny\n",
      "convnext_tiny_hnf\n",
      "convnext_xlarge\n",
      "convnext_xxlarge\n",
      "convnextv2_atto\n",
      "convnextv2_base\n",
      "convnextv2_femto\n",
      "convnextv2_huge\n",
      "convnextv2_large\n",
      "convnextv2_nano\n",
      "convnextv2_pico\n",
      "convnextv2_small\n",
      "convnextv2_tiny\n",
      "crossvit_9_240\n",
      "crossvit_9_dagger_240\n",
      "crossvit_15_240\n",
      "crossvit_15_dagger_240\n",
      "crossvit_15_dagger_408\n",
      "crossvit_18_240\n",
      "crossvit_18_dagger_240\n",
      "crossvit_18_dagger_408\n",
      "crossvit_base_240\n",
      "crossvit_small_240\n",
      "crossvit_tiny_240\n",
      "cs3darknet_focus_l\n",
      "cs3darknet_focus_m\n",
      "cs3darknet_focus_s\n",
      "cs3darknet_focus_x\n",
      "cs3darknet_l\n",
      "cs3darknet_m\n",
      "cs3darknet_s\n",
      "cs3darknet_x\n",
      "cs3edgenet_x\n",
      "cs3se_edgenet_x\n",
      "cs3sedarknet_l\n",
      "cs3sedarknet_x\n",
      "cs3sedarknet_xdw\n",
      "cspdarknet53\n",
      "cspresnet50\n",
      "cspresnet50d\n",
      "cspresnet50w\n",
      "cspresnext50\n",
      "darknet17\n",
      "darknet21\n",
      "darknet53\n",
      "darknetaa53\n",
      "davit_base\n",
      "davit_base_fl\n",
      "davit_giant\n",
      "davit_huge\n",
      "davit_huge_fl\n",
      "davit_large\n",
      "davit_small\n",
      "davit_tiny\n",
      "deit3_base_patch16_224\n",
      "deit3_base_patch16_384\n",
      "deit3_huge_patch14_224\n",
      "deit3_large_patch16_224\n",
      "deit3_large_patch16_384\n",
      "deit3_medium_patch16_224\n",
      "deit3_small_patch16_224\n",
      "deit3_small_patch16_384\n",
      "deit_base_distilled_patch16_224\n",
      "deit_base_distilled_patch16_384\n",
      "deit_base_patch16_224\n",
      "deit_base_patch16_384\n",
      "deit_small_distilled_patch16_224\n",
      "deit_small_patch16_224\n",
      "deit_tiny_distilled_patch16_224\n",
      "deit_tiny_patch16_224\n",
      "densenet121\n",
      "densenet161\n",
      "densenet169\n",
      "densenet201\n",
      "densenet264d\n",
      "densenetblur121d\n",
      "dla34\n",
      "dla46_c\n",
      "dla46x_c\n",
      "dla60\n",
      "dla60_res2net\n",
      "dla60_res2next\n",
      "dla60x\n",
      "dla60x_c\n",
      "dla102\n",
      "dla102x\n",
      "dla102x2\n",
      "dla169\n",
      "dm_nfnet_f0\n",
      "dm_nfnet_f1\n",
      "dm_nfnet_f2\n",
      "dm_nfnet_f3\n",
      "dm_nfnet_f4\n",
      "dm_nfnet_f5\n",
      "dm_nfnet_f6\n",
      "dpn48b\n",
      "dpn68\n",
      "dpn68b\n",
      "dpn92\n",
      "dpn98\n",
      "dpn107\n",
      "dpn131\n",
      "eca_botnext26ts_256\n",
      "eca_halonext26ts\n",
      "eca_nfnet_l0\n",
      "eca_nfnet_l1\n",
      "eca_nfnet_l2\n",
      "eca_nfnet_l3\n",
      "eca_resnet33ts\n",
      "eca_resnext26ts\n",
      "eca_vovnet39b\n",
      "ecaresnet26t\n",
      "ecaresnet50d\n",
      "ecaresnet50d_pruned\n",
      "ecaresnet50t\n",
      "ecaresnet101d\n",
      "ecaresnet101d_pruned\n",
      "ecaresnet200d\n",
      "ecaresnet269d\n",
      "ecaresnetlight\n",
      "ecaresnext26t_32x4d\n",
      "ecaresnext50t_32x4d\n",
      "edgenext_base\n",
      "edgenext_small\n",
      "edgenext_small_rw\n",
      "edgenext_x_small\n",
      "edgenext_xx_small\n",
      "efficientformer_l1\n",
      "efficientformer_l3\n",
      "efficientformer_l7\n",
      "efficientformerv2_l\n",
      "efficientformerv2_s0\n",
      "efficientformerv2_s1\n",
      "efficientformerv2_s2\n",
      "efficientnet_b0\n",
      "efficientnet_b0_g8_gn\n",
      "efficientnet_b0_g16_evos\n",
      "efficientnet_b0_gn\n",
      "efficientnet_b1\n",
      "efficientnet_b1_pruned\n",
      "efficientnet_b2\n",
      "efficientnet_b2_pruned\n",
      "efficientnet_b3\n",
      "efficientnet_b3_g8_gn\n",
      "efficientnet_b3_gn\n",
      "efficientnet_b3_pruned\n",
      "efficientnet_b4\n",
      "efficientnet_b5\n",
      "efficientnet_b6\n",
      "efficientnet_b7\n",
      "efficientnet_b8\n",
      "efficientnet_blur_b0\n",
      "efficientnet_cc_b0_4e\n",
      "efficientnet_cc_b0_8e\n",
      "efficientnet_cc_b1_8e\n",
      "efficientnet_el\n",
      "efficientnet_el_pruned\n",
      "efficientnet_em\n",
      "efficientnet_es\n",
      "efficientnet_es_pruned\n",
      "efficientnet_h_b5\n",
      "efficientnet_l2\n",
      "efficientnet_lite0\n",
      "efficientnet_lite1\n",
      "efficientnet_lite2\n",
      "efficientnet_lite3\n",
      "efficientnet_lite4\n",
      "efficientnet_x_b3\n",
      "efficientnet_x_b5\n",
      "efficientnetv2_l\n",
      "efficientnetv2_m\n",
      "efficientnetv2_rw_m\n",
      "efficientnetv2_rw_s\n",
      "efficientnetv2_rw_t\n",
      "efficientnetv2_s\n",
      "efficientnetv2_xl\n",
      "efficientvit_b0\n",
      "efficientvit_b1\n",
      "efficientvit_b2\n",
      "efficientvit_b3\n",
      "efficientvit_l1\n",
      "efficientvit_l2\n",
      "efficientvit_l3\n",
      "efficientvit_m0\n",
      "efficientvit_m1\n",
      "efficientvit_m2\n",
      "efficientvit_m3\n",
      "efficientvit_m4\n",
      "efficientvit_m5\n",
      "ese_vovnet19b_dw\n",
      "ese_vovnet19b_slim\n",
      "ese_vovnet19b_slim_dw\n",
      "ese_vovnet39b\n",
      "ese_vovnet39b_evos\n",
      "ese_vovnet57b\n",
      "ese_vovnet99b\n",
      "eva02_base_patch14_224\n",
      "eva02_base_patch14_448\n",
      "eva02_base_patch16_clip_224\n",
      "eva02_enormous_patch14_clip_224\n",
      "eva02_large_patch14_224\n",
      "eva02_large_patch14_448\n",
      "eva02_large_patch14_clip_224\n",
      "eva02_large_patch14_clip_336\n",
      "eva02_small_patch14_224\n",
      "eva02_small_patch14_336\n",
      "eva02_tiny_patch14_224\n",
      "eva02_tiny_patch14_336\n",
      "eva_giant_patch14_224\n",
      "eva_giant_patch14_336\n",
      "eva_giant_patch14_560\n",
      "eva_giant_patch14_clip_224\n",
      "eva_large_patch14_196\n",
      "eva_large_patch14_336\n",
      "fastvit_ma36\n",
      "fastvit_mci0\n",
      "fastvit_mci1\n",
      "fastvit_mci2\n",
      "fastvit_s12\n",
      "fastvit_sa12\n",
      "fastvit_sa24\n",
      "fastvit_sa36\n",
      "fastvit_t8\n",
      "fastvit_t12\n",
      "fbnetc_100\n",
      "fbnetv3_b\n",
      "fbnetv3_d\n",
      "fbnetv3_g\n",
      "flexivit_base\n",
      "flexivit_large\n",
      "flexivit_small\n",
      "focalnet_base_lrf\n",
      "focalnet_base_srf\n",
      "focalnet_huge_fl3\n",
      "focalnet_huge_fl4\n",
      "focalnet_large_fl3\n",
      "focalnet_large_fl4\n",
      "focalnet_small_lrf\n",
      "focalnet_small_srf\n",
      "focalnet_tiny_lrf\n",
      "focalnet_tiny_srf\n",
      "focalnet_xlarge_fl3\n",
      "focalnet_xlarge_fl4\n",
      "gc_efficientnetv2_rw_t\n",
      "gcresnet33ts\n",
      "gcresnet50t\n",
      "gcresnext26ts\n",
      "gcresnext50ts\n",
      "gcvit_base\n",
      "gcvit_small\n",
      "gcvit_tiny\n",
      "gcvit_xtiny\n",
      "gcvit_xxtiny\n",
      "gernet_l\n",
      "gernet_m\n",
      "gernet_s\n",
      "ghostnet_050\n",
      "ghostnet_100\n",
      "ghostnet_130\n",
      "ghostnetv2_100\n",
      "ghostnetv2_130\n",
      "ghostnetv2_160\n",
      "gmixer_12_224\n",
      "gmixer_24_224\n",
      "gmlp_b16_224\n",
      "gmlp_s16_224\n",
      "gmlp_ti16_224\n",
      "halo2botnet50ts_256\n",
      "halonet26t\n",
      "halonet50ts\n",
      "halonet_h1\n",
      "haloregnetz_b\n",
      "hardcorenas_a\n",
      "hardcorenas_b\n",
      "hardcorenas_c\n",
      "hardcorenas_d\n",
      "hardcorenas_e\n",
      "hardcorenas_f\n",
      "hgnet_base\n",
      "hgnet_small\n",
      "hgnet_tiny\n",
      "hgnetv2_b0\n",
      "hgnetv2_b1\n",
      "hgnetv2_b2\n",
      "hgnetv2_b3\n",
      "hgnetv2_b4\n",
      "hgnetv2_b5\n",
      "hgnetv2_b6\n",
      "hiera_base_224\n",
      "hiera_base_abswin_256\n",
      "hiera_base_plus_224\n",
      "hiera_huge_224\n",
      "hiera_large_224\n",
      "hiera_small_224\n",
      "hiera_small_abswin_256\n",
      "hiera_tiny_224\n",
      "hieradet_small\n",
      "hrnet_w18\n",
      "hrnet_w18_small\n",
      "hrnet_w18_small_v2\n",
      "hrnet_w18_ssld\n",
      "hrnet_w30\n",
      "hrnet_w32\n",
      "hrnet_w40\n",
      "hrnet_w44\n",
      "hrnet_w48\n",
      "hrnet_w48_ssld\n",
      "hrnet_w64\n",
      "inception_next_base\n",
      "inception_next_small\n",
      "inception_next_tiny\n",
      "inception_resnet_v2\n",
      "inception_v3\n",
      "inception_v4\n",
      "lambda_resnet26rpt_256\n",
      "lambda_resnet26t\n",
      "lambda_resnet50ts\n",
      "lamhalobotnet50ts_256\n",
      "lcnet_035\n",
      "lcnet_050\n",
      "lcnet_075\n",
      "lcnet_100\n",
      "lcnet_150\n",
      "legacy_senet154\n",
      "legacy_seresnet18\n",
      "legacy_seresnet34\n",
      "legacy_seresnet50\n",
      "legacy_seresnet101\n",
      "legacy_seresnet152\n",
      "legacy_seresnext26_32x4d\n",
      "legacy_seresnext50_32x4d\n",
      "legacy_seresnext101_32x4d\n",
      "legacy_xception\n",
      "levit_128\n",
      "levit_128s\n",
      "levit_192\n",
      "levit_256\n",
      "levit_256d\n",
      "levit_384\n",
      "levit_384_s8\n",
      "levit_512\n",
      "levit_512_s8\n",
      "levit_512d\n",
      "levit_conv_128\n",
      "levit_conv_128s\n",
      "levit_conv_192\n",
      "levit_conv_256\n",
      "levit_conv_256d\n",
      "levit_conv_384\n",
      "levit_conv_384_s8\n",
      "levit_conv_512\n",
      "levit_conv_512_s8\n",
      "levit_conv_512d\n",
      "maxvit_base_tf_224\n",
      "maxvit_base_tf_384\n",
      "maxvit_base_tf_512\n",
      "maxvit_large_tf_224\n",
      "maxvit_large_tf_384\n",
      "maxvit_large_tf_512\n",
      "maxvit_nano_rw_256\n",
      "maxvit_pico_rw_256\n",
      "maxvit_rmlp_base_rw_224\n",
      "maxvit_rmlp_base_rw_384\n",
      "maxvit_rmlp_nano_rw_256\n",
      "maxvit_rmlp_pico_rw_256\n",
      "maxvit_rmlp_small_rw_224\n",
      "maxvit_rmlp_small_rw_256\n",
      "maxvit_rmlp_tiny_rw_256\n",
      "maxvit_small_tf_224\n",
      "maxvit_small_tf_384\n",
      "maxvit_small_tf_512\n",
      "maxvit_tiny_pm_256\n",
      "maxvit_tiny_rw_224\n",
      "maxvit_tiny_rw_256\n",
      "maxvit_tiny_tf_224\n",
      "maxvit_tiny_tf_384\n",
      "maxvit_tiny_tf_512\n",
      "maxvit_xlarge_tf_224\n",
      "maxvit_xlarge_tf_384\n",
      "maxvit_xlarge_tf_512\n",
      "maxxvit_rmlp_nano_rw_256\n",
      "maxxvit_rmlp_small_rw_256\n",
      "maxxvit_rmlp_tiny_rw_256\n",
      "maxxvitv2_nano_rw_256\n",
      "maxxvitv2_rmlp_base_rw_224\n",
      "maxxvitv2_rmlp_base_rw_384\n",
      "maxxvitv2_rmlp_large_rw_224\n",
      "mixer_b16_224\n",
      "mixer_b32_224\n",
      "mixer_l16_224\n",
      "mixer_l32_224\n",
      "mixer_s16_224\n",
      "mixer_s32_224\n",
      "mixnet_l\n",
      "mixnet_m\n",
      "mixnet_s\n",
      "mixnet_xl\n",
      "mixnet_xxl\n",
      "mnasnet_050\n",
      "mnasnet_075\n",
      "mnasnet_100\n",
      "mnasnet_140\n",
      "mnasnet_small\n",
      "mobilenet_edgetpu_100\n",
      "mobilenet_edgetpu_v2_l\n",
      "mobilenet_edgetpu_v2_m\n",
      "mobilenet_edgetpu_v2_s\n",
      "mobilenet_edgetpu_v2_xs\n",
      "mobilenetv1_100\n",
      "mobilenetv1_100h\n",
      "mobilenetv1_125\n",
      "mobilenetv2_035\n",
      "mobilenetv2_050\n",
      "mobilenetv2_075\n",
      "mobilenetv2_100\n",
      "mobilenetv2_110d\n",
      "mobilenetv2_120d\n",
      "mobilenetv2_140\n",
      "mobilenetv3_large_075\n",
      "mobilenetv3_large_100\n",
      "mobilenetv3_large_150d\n",
      "mobilenetv3_rw\n",
      "mobilenetv3_small_050\n",
      "mobilenetv3_small_075\n",
      "mobilenetv3_small_100\n",
      "mobilenetv4_conv_aa_large\n",
      "mobilenetv4_conv_aa_medium\n",
      "mobilenetv4_conv_blur_medium\n",
      "mobilenetv4_conv_large\n",
      "mobilenetv4_conv_medium\n",
      "mobilenetv4_conv_small\n",
      "mobilenetv4_hybrid_large\n",
      "mobilenetv4_hybrid_large_075\n",
      "mobilenetv4_hybrid_medium\n",
      "mobilenetv4_hybrid_medium_075\n",
      "mobileone_s0\n",
      "mobileone_s1\n",
      "mobileone_s2\n",
      "mobileone_s3\n",
      "mobileone_s4\n",
      "mobilevit_s\n",
      "mobilevit_xs\n",
      "mobilevit_xxs\n",
      "mobilevitv2_050\n",
      "mobilevitv2_075\n",
      "mobilevitv2_100\n",
      "mobilevitv2_125\n",
      "mobilevitv2_150\n",
      "mobilevitv2_175\n",
      "mobilevitv2_200\n",
      "mvitv2_base\n",
      "mvitv2_base_cls\n",
      "mvitv2_huge_cls\n",
      "mvitv2_large\n",
      "mvitv2_large_cls\n",
      "mvitv2_small\n",
      "mvitv2_small_cls\n",
      "mvitv2_tiny\n",
      "nasnetalarge\n",
      "nest_base\n",
      "nest_base_jx\n",
      "nest_small\n",
      "nest_small_jx\n",
      "nest_tiny\n",
      "nest_tiny_jx\n",
      "nextvit_base\n",
      "nextvit_large\n",
      "nextvit_small\n",
      "nf_ecaresnet26\n",
      "nf_ecaresnet50\n",
      "nf_ecaresnet101\n",
      "nf_regnet_b0\n",
      "nf_regnet_b1\n",
      "nf_regnet_b2\n",
      "nf_regnet_b3\n",
      "nf_regnet_b4\n",
      "nf_regnet_b5\n",
      "nf_resnet26\n",
      "nf_resnet50\n",
      "nf_resnet101\n",
      "nf_seresnet26\n",
      "nf_seresnet50\n",
      "nf_seresnet101\n",
      "nfnet_f0\n",
      "nfnet_f1\n",
      "nfnet_f2\n",
      "nfnet_f3\n",
      "nfnet_f4\n",
      "nfnet_f5\n",
      "nfnet_f6\n",
      "nfnet_f7\n",
      "nfnet_l0\n",
      "pit_b_224\n",
      "pit_b_distilled_224\n",
      "pit_s_224\n",
      "pit_s_distilled_224\n",
      "pit_ti_224\n",
      "pit_ti_distilled_224\n",
      "pit_xs_224\n",
      "pit_xs_distilled_224\n",
      "pnasnet5large\n",
      "poolformer_m36\n",
      "poolformer_m48\n",
      "poolformer_s12\n",
      "poolformer_s24\n",
      "poolformer_s36\n",
      "poolformerv2_m36\n",
      "poolformerv2_m48\n",
      "poolformerv2_s12\n",
      "poolformerv2_s24\n",
      "poolformerv2_s36\n",
      "pvt_v2_b0\n",
      "pvt_v2_b1\n",
      "pvt_v2_b2\n",
      "pvt_v2_b2_li\n",
      "pvt_v2_b3\n",
      "pvt_v2_b4\n",
      "pvt_v2_b5\n",
      "rdnet_base\n",
      "rdnet_large\n",
      "rdnet_small\n",
      "rdnet_tiny\n",
      "regnetv_040\n",
      "regnetv_064\n",
      "regnetx_002\n",
      "regnetx_004\n",
      "regnetx_004_tv\n",
      "regnetx_006\n",
      "regnetx_008\n",
      "regnetx_016\n",
      "regnetx_032\n",
      "regnetx_040\n",
      "regnetx_064\n",
      "regnetx_080\n",
      "regnetx_120\n",
      "regnetx_160\n",
      "regnetx_320\n",
      "regnety_002\n",
      "regnety_004\n",
      "regnety_006\n",
      "regnety_008\n",
      "regnety_008_tv\n",
      "regnety_016\n",
      "regnety_032\n",
      "regnety_040\n",
      "regnety_040_sgn\n",
      "regnety_064\n",
      "regnety_080\n",
      "regnety_080_tv\n",
      "regnety_120\n",
      "regnety_160\n",
      "regnety_320\n",
      "regnety_640\n",
      "regnety_1280\n",
      "regnety_2560\n",
      "regnetz_005\n",
      "regnetz_040\n",
      "regnetz_040_h\n",
      "regnetz_b16\n",
      "regnetz_b16_evos\n",
      "regnetz_c16\n",
      "regnetz_c16_evos\n",
      "regnetz_d8\n",
      "regnetz_d8_evos\n",
      "regnetz_d32\n",
      "regnetz_e8\n",
      "repghostnet_050\n",
      "repghostnet_058\n",
      "repghostnet_080\n",
      "repghostnet_100\n",
      "repghostnet_111\n",
      "repghostnet_130\n",
      "repghostnet_150\n",
      "repghostnet_200\n",
      "repvgg_a0\n",
      "repvgg_a1\n",
      "repvgg_a2\n",
      "repvgg_b0\n",
      "repvgg_b1\n",
      "repvgg_b1g4\n",
      "repvgg_b2\n",
      "repvgg_b2g4\n",
      "repvgg_b3\n",
      "repvgg_b3g4\n",
      "repvgg_d2se\n",
      "repvit_m0_9\n",
      "repvit_m1\n",
      "repvit_m1_0\n",
      "repvit_m1_1\n",
      "repvit_m1_5\n",
      "repvit_m2\n",
      "repvit_m2_3\n",
      "repvit_m3\n",
      "res2net50_14w_8s\n",
      "res2net50_26w_4s\n",
      "res2net50_26w_6s\n",
      "res2net50_26w_8s\n",
      "res2net50_48w_2s\n",
      "res2net50d\n",
      "res2net101_26w_4s\n",
      "res2net101d\n",
      "res2next50\n",
      "resmlp_12_224\n",
      "resmlp_24_224\n",
      "resmlp_36_224\n",
      "resmlp_big_24_224\n",
      "resnest14d\n",
      "resnest26d\n",
      "resnest50d\n",
      "resnest50d_1s4x24d\n",
      "resnest50d_4s2x40d\n",
      "resnest101e\n",
      "resnest200e\n",
      "resnest269e\n",
      "resnet10t\n",
      "resnet14t\n",
      "resnet18\n",
      "resnet18d\n",
      "resnet26\n",
      "resnet26d\n",
      "resnet26t\n",
      "resnet32ts\n",
      "resnet33ts\n",
      "resnet34\n",
      "resnet34d\n",
      "resnet50\n",
      "resnet50_clip\n",
      "resnet50_clip_gap\n",
      "resnet50_gn\n",
      "resnet50_mlp\n",
      "resnet50c\n",
      "resnet50d\n",
      "resnet50s\n",
      "resnet50t\n",
      "resnet50x4_clip\n",
      "resnet50x4_clip_gap\n",
      "resnet50x16_clip\n",
      "resnet50x16_clip_gap\n",
      "resnet50x64_clip\n",
      "resnet50x64_clip_gap\n",
      "resnet51q\n",
      "resnet61q\n",
      "resnet101\n",
      "resnet101_clip\n",
      "resnet101_clip_gap\n",
      "resnet101c\n",
      "resnet101d\n",
      "resnet101s\n",
      "resnet152\n",
      "resnet152c\n",
      "resnet152d\n",
      "resnet152s\n",
      "resnet200\n",
      "resnet200d\n",
      "resnetaa34d\n",
      "resnetaa50\n",
      "resnetaa50d\n",
      "resnetaa101d\n",
      "resnetblur18\n",
      "resnetblur50\n",
      "resnetblur50d\n",
      "resnetblur101d\n",
      "resnetrs50\n",
      "resnetrs101\n",
      "resnetrs152\n",
      "resnetrs200\n",
      "resnetrs270\n",
      "resnetrs350\n",
      "resnetrs420\n",
      "resnetv2_50\n",
      "resnetv2_50d\n",
      "resnetv2_50d_evos\n",
      "resnetv2_50d_frn\n",
      "resnetv2_50d_gn\n",
      "resnetv2_50t\n",
      "resnetv2_50x1_bit\n",
      "resnetv2_50x3_bit\n",
      "resnetv2_101\n",
      "resnetv2_101d\n",
      "resnetv2_101x1_bit\n",
      "resnetv2_101x3_bit\n",
      "resnetv2_152\n",
      "resnetv2_152d\n",
      "resnetv2_152x2_bit\n",
      "resnetv2_152x4_bit\n",
      "resnext26ts\n",
      "resnext50_32x4d\n",
      "resnext50d_32x4d\n",
      "resnext101_32x4d\n",
      "resnext101_32x8d\n",
      "resnext101_32x16d\n",
      "resnext101_32x32d\n",
      "resnext101_64x4d\n",
      "rexnet_100\n",
      "rexnet_130\n",
      "rexnet_150\n",
      "rexnet_200\n",
      "rexnet_300\n",
      "rexnetr_100\n",
      "rexnetr_130\n",
      "rexnetr_150\n",
      "rexnetr_200\n",
      "rexnetr_300\n",
      "sam2_hiera_base_plus\n",
      "sam2_hiera_large\n",
      "sam2_hiera_small\n",
      "sam2_hiera_tiny\n",
      "samvit_base_patch16\n",
      "samvit_base_patch16_224\n",
      "samvit_huge_patch16\n",
      "samvit_large_patch16\n",
      "sebotnet33ts_256\n",
      "sedarknet21\n",
      "sehalonet33ts\n",
      "selecsls42\n",
      "selecsls42b\n",
      "selecsls60\n",
      "selecsls60b\n",
      "selecsls84\n",
      "semnasnet_050\n",
      "semnasnet_075\n",
      "semnasnet_100\n",
      "semnasnet_140\n",
      "senet154\n",
      "sequencer2d_l\n",
      "sequencer2d_m\n",
      "sequencer2d_s\n",
      "seresnet18\n",
      "seresnet33ts\n",
      "seresnet34\n",
      "seresnet50\n",
      "seresnet50t\n",
      "seresnet101\n",
      "seresnet152\n",
      "seresnet152d\n",
      "seresnet200d\n",
      "seresnet269d\n",
      "seresnetaa50d\n",
      "seresnext26d_32x4d\n",
      "seresnext26t_32x4d\n",
      "seresnext26ts\n",
      "seresnext50_32x4d\n",
      "seresnext101_32x4d\n",
      "seresnext101_32x8d\n",
      "seresnext101_64x4d\n",
      "seresnext101d_32x8d\n",
      "seresnextaa101d_32x8d\n",
      "seresnextaa201d_32x8d\n",
      "skresnet18\n",
      "skresnet34\n",
      "skresnet50\n",
      "skresnet50d\n",
      "skresnext50_32x4d\n",
      "spnasnet_100\n",
      "swin_base_patch4_window7_224\n",
      "swin_base_patch4_window12_384\n",
      "swin_large_patch4_window7_224\n",
      "swin_large_patch4_window12_384\n",
      "swin_s3_base_224\n",
      "swin_s3_small_224\n",
      "swin_s3_tiny_224\n",
      "swin_small_patch4_window7_224\n",
      "swin_tiny_patch4_window7_224\n",
      "swinv2_base_window8_256\n",
      "swinv2_base_window12_192\n",
      "swinv2_base_window12to16_192to256\n",
      "swinv2_base_window12to24_192to384\n",
      "swinv2_base_window16_256\n",
      "swinv2_cr_base_224\n",
      "swinv2_cr_base_384\n",
      "swinv2_cr_base_ns_224\n",
      "swinv2_cr_giant_224\n",
      "swinv2_cr_giant_384\n",
      "swinv2_cr_huge_224\n",
      "swinv2_cr_huge_384\n",
      "swinv2_cr_large_224\n",
      "swinv2_cr_large_384\n",
      "swinv2_cr_small_224\n",
      "swinv2_cr_small_384\n",
      "swinv2_cr_small_ns_224\n",
      "swinv2_cr_small_ns_256\n",
      "swinv2_cr_tiny_224\n",
      "swinv2_cr_tiny_384\n",
      "swinv2_cr_tiny_ns_224\n",
      "swinv2_large_window12_192\n",
      "swinv2_large_window12to16_192to256\n",
      "swinv2_large_window12to24_192to384\n",
      "swinv2_small_window8_256\n",
      "swinv2_small_window16_256\n",
      "swinv2_tiny_window8_256\n",
      "swinv2_tiny_window16_256\n",
      "test_byobnet\n",
      "test_efficientnet\n",
      "test_vit\n",
      "tf_efficientnet_b0\n",
      "tf_efficientnet_b1\n",
      "tf_efficientnet_b2\n",
      "tf_efficientnet_b3\n",
      "tf_efficientnet_b4\n",
      "tf_efficientnet_b5\n",
      "tf_efficientnet_b6\n",
      "tf_efficientnet_b7\n",
      "tf_efficientnet_b8\n",
      "tf_efficientnet_cc_b0_4e\n",
      "tf_efficientnet_cc_b0_8e\n",
      "tf_efficientnet_cc_b1_8e\n",
      "tf_efficientnet_el\n",
      "tf_efficientnet_em\n",
      "tf_efficientnet_es\n",
      "tf_efficientnet_l2\n",
      "tf_efficientnet_lite0\n",
      "tf_efficientnet_lite1\n",
      "tf_efficientnet_lite2\n",
      "tf_efficientnet_lite3\n",
      "tf_efficientnet_lite4\n",
      "tf_efficientnetv2_b0\n",
      "tf_efficientnetv2_b1\n",
      "tf_efficientnetv2_b2\n",
      "tf_efficientnetv2_b3\n",
      "tf_efficientnetv2_l\n",
      "tf_efficientnetv2_m\n",
      "tf_efficientnetv2_s\n",
      "tf_efficientnetv2_xl\n",
      "tf_mixnet_l\n",
      "tf_mixnet_m\n",
      "tf_mixnet_s\n",
      "tf_mobilenetv3_large_075\n",
      "tf_mobilenetv3_large_100\n",
      "tf_mobilenetv3_large_minimal_100\n",
      "tf_mobilenetv3_small_075\n",
      "tf_mobilenetv3_small_100\n",
      "tf_mobilenetv3_small_minimal_100\n",
      "tiny_vit_5m_224\n",
      "tiny_vit_11m_224\n",
      "tiny_vit_21m_224\n",
      "tiny_vit_21m_384\n",
      "tiny_vit_21m_512\n",
      "tinynet_a\n",
      "tinynet_b\n",
      "tinynet_c\n",
      "tinynet_d\n",
      "tinynet_e\n",
      "tnt_b_patch16_224\n",
      "tnt_s_patch16_224\n",
      "tresnet_l\n",
      "tresnet_m\n",
      "tresnet_v2_l\n",
      "tresnet_xl\n",
      "twins_pcpvt_base\n",
      "twins_pcpvt_large\n",
      "twins_pcpvt_small\n",
      "twins_svt_base\n",
      "twins_svt_large\n",
      "twins_svt_small\n",
      "vgg11\n",
      "vgg11_bn\n",
      "vgg13\n",
      "vgg13_bn\n",
      "vgg16\n",
      "vgg16_bn\n",
      "vgg19\n",
      "vgg19_bn\n",
      "visformer_small\n",
      "visformer_tiny\n",
      "vit_base_mci_224\n",
      "vit_base_patch8_224\n",
      "vit_base_patch14_dinov2\n",
      "vit_base_patch14_reg4_dinov2\n",
      "vit_base_patch16_18x2_224\n",
      "vit_base_patch16_224\n",
      "vit_base_patch16_224_miil\n",
      "vit_base_patch16_384\n",
      "vit_base_patch16_clip_224\n",
      "vit_base_patch16_clip_384\n",
      "vit_base_patch16_clip_quickgelu_224\n",
      "vit_base_patch16_gap_224\n",
      "vit_base_patch16_plus_240\n",
      "vit_base_patch16_reg4_gap_256\n",
      "vit_base_patch16_rope_reg1_gap_256\n",
      "vit_base_patch16_rpn_224\n",
      "vit_base_patch16_siglip_224\n",
      "vit_base_patch16_siglip_256\n",
      "vit_base_patch16_siglip_384\n",
      "vit_base_patch16_siglip_512\n",
      "vit_base_patch16_siglip_gap_224\n",
      "vit_base_patch16_siglip_gap_256\n",
      "vit_base_patch16_siglip_gap_384\n",
      "vit_base_patch16_siglip_gap_512\n",
      "vit_base_patch16_xp_224\n",
      "vit_base_patch32_224\n",
      "vit_base_patch32_384\n",
      "vit_base_patch32_clip_224\n",
      "vit_base_patch32_clip_256\n",
      "vit_base_patch32_clip_384\n",
      "vit_base_patch32_clip_448\n",
      "vit_base_patch32_clip_quickgelu_224\n",
      "vit_base_patch32_plus_256\n",
      "vit_base_r26_s32_224\n",
      "vit_base_r50_s16_224\n",
      "vit_base_r50_s16_384\n",
      "vit_base_resnet26d_224\n",
      "vit_base_resnet50d_224\n",
      "vit_betwixt_patch16_gap_256\n",
      "vit_betwixt_patch16_reg1_gap_256\n",
      "vit_betwixt_patch16_reg4_gap_256\n",
      "vit_betwixt_patch16_reg4_gap_384\n",
      "vit_betwixt_patch16_rope_reg4_gap_256\n",
      "vit_betwixt_patch32_clip_224\n",
      "vit_giant_patch14_224\n",
      "vit_giant_patch14_clip_224\n",
      "vit_giant_patch14_dinov2\n",
      "vit_giant_patch14_reg4_dinov2\n",
      "vit_giant_patch16_gap_224\n",
      "vit_gigantic_patch14_224\n",
      "vit_gigantic_patch14_clip_224\n",
      "vit_huge_patch14_224\n",
      "vit_huge_patch14_clip_224\n",
      "vit_huge_patch14_clip_336\n",
      "vit_huge_patch14_clip_378\n",
      "vit_huge_patch14_clip_quickgelu_224\n",
      "vit_huge_patch14_clip_quickgelu_378\n",
      "vit_huge_patch14_gap_224\n",
      "vit_huge_patch14_xp_224\n",
      "vit_huge_patch16_gap_448\n",
      "vit_large_patch14_224\n",
      "vit_large_patch14_clip_224\n",
      "vit_large_patch14_clip_336\n",
      "vit_large_patch14_clip_quickgelu_224\n",
      "vit_large_patch14_clip_quickgelu_336\n",
      "vit_large_patch14_dinov2\n",
      "vit_large_patch14_reg4_dinov2\n",
      "vit_large_patch14_xp_224\n",
      "vit_large_patch16_224\n",
      "vit_large_patch16_384\n",
      "vit_large_patch16_siglip_256\n",
      "vit_large_patch16_siglip_384\n",
      "vit_large_patch16_siglip_gap_256\n",
      "vit_large_patch16_siglip_gap_384\n",
      "vit_large_patch32_224\n",
      "vit_large_patch32_384\n",
      "vit_large_r50_s32_224\n",
      "vit_large_r50_s32_384\n",
      "vit_little_patch16_reg1_gap_256\n",
      "vit_little_patch16_reg4_gap_256\n",
      "vit_medium_patch16_clip_224\n",
      "vit_medium_patch16_gap_240\n",
      "vit_medium_patch16_gap_256\n",
      "vit_medium_patch16_gap_384\n",
      "vit_medium_patch16_reg1_gap_256\n",
      "vit_medium_patch16_reg4_gap_256\n",
      "vit_medium_patch16_rope_reg1_gap_256\n",
      "vit_medium_patch32_clip_224\n",
      "vit_mediumd_patch16_reg4_gap_256\n",
      "vit_mediumd_patch16_reg4_gap_384\n",
      "vit_mediumd_patch16_rope_reg1_gap_256\n",
      "vit_pwee_patch16_reg1_gap_256\n",
      "vit_relpos_base_patch16_224\n",
      "vit_relpos_base_patch16_cls_224\n",
      "vit_relpos_base_patch16_clsgap_224\n",
      "vit_relpos_base_patch16_plus_240\n",
      "vit_relpos_base_patch16_rpn_224\n",
      "vit_relpos_base_patch32_plus_rpn_256\n",
      "vit_relpos_medium_patch16_224\n",
      "vit_relpos_medium_patch16_cls_224\n",
      "vit_relpos_medium_patch16_rpn_224\n",
      "vit_relpos_small_patch16_224\n",
      "vit_relpos_small_patch16_rpn_224\n",
      "vit_small_patch8_224\n",
      "vit_small_patch14_dinov2\n",
      "vit_small_patch14_reg4_dinov2\n",
      "vit_small_patch16_18x2_224\n",
      "vit_small_patch16_36x1_224\n",
      "vit_small_patch16_224\n",
      "vit_small_patch16_384\n",
      "vit_small_patch32_224\n",
      "vit_small_patch32_384\n",
      "vit_small_r26_s32_224\n",
      "vit_small_r26_s32_384\n",
      "vit_small_resnet26d_224\n",
      "vit_small_resnet50d_s16_224\n",
      "vit_so150m_patch16_reg4_gap_256\n",
      "vit_so150m_patch16_reg4_map_256\n",
      "vit_so400m_patch14_siglip_224\n",
      "vit_so400m_patch14_siglip_384\n",
      "vit_so400m_patch14_siglip_gap_224\n",
      "vit_so400m_patch14_siglip_gap_384\n",
      "vit_so400m_patch14_siglip_gap_448\n",
      "vit_so400m_patch14_siglip_gap_896\n",
      "vit_srelpos_medium_patch16_224\n",
      "vit_srelpos_small_patch16_224\n",
      "vit_tiny_patch16_224\n",
      "vit_tiny_patch16_384\n",
      "vit_tiny_r_s16_p8_224\n",
      "vit_tiny_r_s16_p8_384\n",
      "vit_wee_patch16_reg1_gap_256\n",
      "vit_xsmall_patch16_clip_224\n",
      "vitamin_base_224\n",
      "vitamin_large2_224\n",
      "vitamin_large2_256\n",
      "vitamin_large2_336\n",
      "vitamin_large2_384\n",
      "vitamin_large_224\n",
      "vitamin_large_256\n",
      "vitamin_large_336\n",
      "vitamin_large_384\n",
      "vitamin_small_224\n",
      "vitamin_xlarge_256\n",
      "vitamin_xlarge_336\n",
      "vitamin_xlarge_384\n",
      "volo_d1_224\n",
      "volo_d1_384\n",
      "volo_d2_224\n",
      "volo_d2_384\n",
      "volo_d3_224\n",
      "volo_d3_448\n",
      "volo_d4_224\n",
      "volo_d4_448\n",
      "volo_d5_224\n",
      "volo_d5_448\n",
      "volo_d5_512\n",
      "vovnet39a\n",
      "vovnet57a\n",
      "wide_resnet50_2\n",
      "wide_resnet101_2\n",
      "xception41\n",
      "xception41p\n",
      "xception65\n",
      "xception65p\n",
      "xception71\n",
      "xcit_large_24_p8_224\n",
      "xcit_large_24_p8_384\n",
      "xcit_large_24_p16_224\n",
      "xcit_large_24_p16_384\n",
      "xcit_medium_24_p8_224\n",
      "xcit_medium_24_p8_384\n",
      "xcit_medium_24_p16_224\n",
      "xcit_medium_24_p16_384\n",
      "xcit_nano_12_p8_224\n",
      "xcit_nano_12_p8_384\n",
      "xcit_nano_12_p16_224\n",
      "xcit_nano_12_p16_384\n",
      "xcit_small_12_p8_224\n",
      "xcit_small_12_p8_384\n",
      "xcit_small_12_p16_224\n",
      "xcit_small_12_p16_384\n",
      "xcit_small_24_p8_224\n",
      "xcit_small_24_p8_384\n",
      "xcit_small_24_p16_224\n",
      "xcit_small_24_p16_384\n",
      "xcit_tiny_12_p8_224\n",
      "xcit_tiny_12_p8_384\n",
      "xcit_tiny_12_p16_224\n",
      "xcit_tiny_12_p16_384\n",
      "xcit_tiny_24_p8_224\n",
      "xcit_tiny_24_p8_384\n",
      "xcit_tiny_24_p16_224\n",
      "xcit_tiny_24_p16_384\n"
     ]
    }
   ],
   "source": [
    "# List all available models in timm\n",
    "available_models = timm.list_models()\n",
    "\n",
    "# Print each model in a more readable format\n",
    "print(\"Available models in timm:\")\n",
    "for model in available_models:\n",
    "    print(model)"
   ]
  },
  {
   "cell_type": "code",
   "execution_count": 3,
   "metadata": {},
   "outputs": [],
   "source": [
    "import os\n",
    "import pandas as pd\n",
    "\n",
    "# Define the path to your CSV file and training images\n",
    "csv_path = os.path.join('COMP90086_2024_Project_train', 'train.csv')\n",
    "train_dir = os.path.join('COMP90086_2024_Project_train', 'train')\n",
    "\n",
    "# Read the CSV file into a DataFrame\n",
    "train_data = pd.read_csv(csv_path)\n",
    "\n",
    "# Add a column with the complete image path\n",
    "train_data['image_path'] = train_data['id'].apply(lambda x: os.path.join(train_dir, f\"{x}.jpg\"))\n",
    "\n",
    "# Ensure that the 'stable_height' column is treated as a string for classification\n",
    "train_data['stable_height'] = train_data['stable_height'].astype(str)"
   ]
  },
  {
   "cell_type": "code",
   "execution_count": 4,
   "metadata": {},
   "outputs": [
    {
     "data": {
      "text/plain": [
       "'\\ngoal: to have 65+ accuracy and good visiualisations for report\\nmaybe try 2 techniques /shrug\\n\\n\\n\\nVisionTransformerTrainer / model\\n    model name\\n    self.lr = None\\n    self.metrics = {}\\n    self.dls = dls\\n    \\ndataload - todo Jule\\n    split into training and validation\\n    data loader build\\n        inceptionv4 uses 299 299\\n\\ntestcase\\n    - VisionTransformerTrainer /model\\n    - dataloader\\n\\n\\n\\n        \\n https://docs.fast.ai/tutorial.vision.html   \\n\\nneed\\n    data\\n        model name\\n        model class\\n        Learning rate\\n        metrics\\n            Error rate\\n            epoc\\n            training loss\\n            validation loss\\n            accuracy\\n    functions\\n        auto learning rate Jack\\n        save results in dataframe for easy loading Jack\\n        post trained model weight Jule\\n            save model every 5 epoc\\n        auto test with different techniques\\n            data augmentation\\n            active learning????\\n            Progressive Training (cross that bridge when we get to it)\\n                number of bricks can i train them on both?\\n                stability can i train them on both?\\n                stabel height\\n            \\n        load visiualisaion from json data\\n\\n'"
      ]
     },
     "execution_count": 4,
     "metadata": {},
     "output_type": "execute_result"
    }
   ],
   "source": [
    "\"\"\"\n",
    "goal: to have 65+ accuracy and good visiualisations for report\n",
    "maybe try 2 techniques /shrug\n",
    "\n",
    "\n",
    "\n",
    "VisionTransformerTrainer / model\n",
    "    model name\n",
    "    self.lr = None\n",
    "    self.metrics = {}\n",
    "    self.dls = dls\n",
    "    \n",
    "dataload - todo Jule\n",
    "    split into training and validation\n",
    "    data loader build\n",
    "        inceptionv4 uses 299 299\n",
    "\n",
    "testcase\n",
    "    - VisionTransformerTrainer /model\n",
    "    - dataloader\n",
    "\n",
    "\n",
    "\n",
    "        \n",
    " https://docs.fast.ai/tutorial.vision.html   \n",
    "\n",
    "need\n",
    "    data\n",
    "        model name\n",
    "        model class\n",
    "        Learning rate\n",
    "        metrics\n",
    "            Error rate\n",
    "            epoc\n",
    "            training loss\n",
    "            validation loss\n",
    "            accuracy\n",
    "    functions\n",
    "        auto learning rate Jack\n",
    "        save results in dataframe for easy loading Jack\n",
    "        post trained model weight Jule\n",
    "            save model every 5 epoc\n",
    "        auto test with different techniques\n",
    "            data augmentation\n",
    "            active learning????\n",
    "            Progressive Training (cross that bridge when we get to it)\n",
    "                number of bricks can i train them on both?\n",
    "                stability can i train them on both?\n",
    "                stabel height\n",
    "            \n",
    "        load visiualisaion from json data\n",
    "\n",
    "\"\"\""
   ]
  },
  {
   "cell_type": "code",
   "execution_count": 5,
   "metadata": {},
   "outputs": [],
   "source": [
    "# # Class to implement our own transformations for item_tfms\n",
    "# class SimpleBlur(Transform):\n",
    "#     def __init__(self, kernelSize=(5, 5)):\n",
    "#         self.kernelSize = kernelSize\n",
    "\n",
    "#     def encodes(self, img: PILImage):\n",
    "#         # Convert the image to a NumPy array for OpenCV processing\n",
    "#         img_np = np.array(img)\n",
    "#         # Apply simple blur using the specified kernel size\n",
    "#         blurred_img = cv2.blur(img_np, self.kernelSize)\n",
    "#         # Convert the blurred image back to a PIL Image\n",
    "#         return PILImage.create(blurred_img)"
   ]
  },
  {
   "cell_type": "code",
   "execution_count": 6,
   "metadata": {},
   "outputs": [],
   "source": [
    "class VisionTransformerDataLoader:\n",
    "    def __init__(self, train_data, item_tfms=None, batch_tfms=aug_transforms(), bs=8, valid_pct=0.2, num_workers=0):\n",
    "        \"\"\"\n",
    "        Initialize the VisionTransformerDataLoader class.\n",
    "\n",
    "        Args:\n",
    "        - train_data: The training dataset.\n",
    "        - item_tfms: Item-level transformations to apply (e.g., Resize, SimpleBlur).\n",
    "        - batch_tfms: Batch-level transformations to apply (default is aug_transforms()).\n",
    "        - bs: Batch size (default is 8).\n",
    "        - valid_pct: Percentage of data to use for validation (default is 0.2).\n",
    "        - num_workers: Number of workers for data loading (default is 0).\n",
    "        \"\"\"\n",
    "        self.train_data = train_data\n",
    "        self.item_tfms = item_tfms\n",
    "        self.batch_tfms = batch_tfms\n",
    "        self.bs = bs\n",
    "        self.valid_pct = valid_pct\n",
    "        self.num_workers = num_workers\n",
    "    \n",
    "    def get_dataloader(self):\n",
    "        \"\"\"\n",
    "        Build and return the DataLoader.\n",
    "        \"\"\"\n",
    "        # Define the DataBlock\n",
    "        transformer_db = DataBlock(\n",
    "            blocks=(ImageBlock, CategoryBlock),  # Input: Images, Output: Categories\n",
    "            get_x=ColReader('image_path'),       # Read image paths\n",
    "            get_y=ColReader('stable_height'),    # Read target labels\n",
    "            splitter=RandomSplitter(valid_pct=self.valid_pct),  # Split training/validation sets\n",
    "            item_tfms=self.item_tfms,            # Apply item-level transforms (e.g., resize, blur)\n",
    "            batch_tfms=self.batch_tfms           # Apply batch-level transforms (e.g., augmentation)\n",
    "        )\n",
    "\n",
    "        # Create DataLoader from the DataBlock\n",
    "        transformer_dl = transformer_db.dataloaders(self.train_data, bs=self.bs, num_workers=self.num_workers)\n",
    "\n",
    "        return transformer_dl"
   ]
  },
  {
   "cell_type": "code",
   "execution_count": 7,
   "metadata": {},
   "outputs": [
    {
     "data": {
      "image/png": "[encoded data removed]",
      "text/plain": [
       "<Figure size 600x600 with 4 Axes>"
      ]
     },
     "metadata": {},
     "output_type": "display_data"
    }
   ],
   "source": [
    "# Example usage of the class\n",
    "item_tfms = [Resize(224), RandomResizedCrop(224)]  # Define your item-level transforms\n",
    "\n",
    "# Initialize the DataLoader class\n",
    "dataloader = VisionTransformerDataLoader(train_data, item_tfms=item_tfms, bs=8)\n",
    "\n",
    "# Get the DataLoader\n",
    "transformer_dl = dataloader.get_dataloader()\n",
    "\n",
    "# Show a batch of images\n",
    "transformer_dl.show_batch(max_n=4, figsize=(6, 6))"
   ]
  },
  {
   "cell_type": "code",
   "execution_count": 8,
   "metadata": {},
   "outputs": [],
   "source": [
    "class SaveEvery5EpochsCallback(Callback):\n",
    "    def __init__(self, model_name, transform_name):\n",
    "        self.model_name = model_name\n",
    "        self.transform_name = transform_name\n",
    "    \n",
    "    def after_epoch(self):\n",
    "        if (self.epoch + 1) % 5 == 0:\n",
    "            filename = f\"{self.model_name}_{self.transform_name}_epoch_{self.epoch + 1}\"\n",
    "            self.learn.save(filename)\n",
    "            print(f\"Model saved at epoch {self.epoch + 1} as {filename}\")\n",
    "\n",
    "    def after_train(self):\n",
    "        filename = f\"{self.model_name}_{self.transform_name}_final\"\n",
    "        self.learn.save(filename)\n",
    "        print(f\"Model saved at the end of training as {filename}\")"
   ]
  },
  {
   "cell_type": "code",
   "execution_count": 9,
   "metadata": {},
   "outputs": [],
   "source": [
    "from typing import Tuple\n",
    "\n",
    "class VisionTransformerTrainer:\n",
    "    def __init__(self, model_name='vit_base_patch16_224', transform_name='basic', dls=None):\n",
    "        self.model_name = model_name\n",
    "        self.transform_name = transform_name\n",
    "        self.learn = None\n",
    "        self.lr = None\n",
    "        self.metrics = {}\n",
    "        self.dls = dls\n",
    "\n",
    "        if self.dls is None:\n",
    "            raise Exception(\"No dataloader provided. Please provide a dataloader when initializing the class.\")\n",
    "        else:\n",
    "            print(\"Using provided dataloader.\")\n",
    "\n",
    "    def initialize_model(self, pretrained=True):\n",
    "        self.model = timm.create_model(self.model_name, pretrained=pretrained, num_classes=self.dls.c)\n",
    "        self.learn = vision_learner(self.dls, self.model_name, metrics=accuracy, pretrained=pretrained, cbs=CSVLogger())\n",
    "\n",
    "        if torch.cuda.is_available():\n",
    "            self.learn.model = self.learn.model.cuda()\n",
    "            print(\"CUDA is available. Using GPU for training.\")\n",
    "        else:\n",
    "            print(\"CUDA is not available. Using CPU for training.\")\n",
    "\n",
    "    def set_learning_rate(self):\n",
    "        def find_optimal_lr(learner) -> float:\n",
    "            lr_learn = learner.lr_find(suggest_funcs=(minimum, steep))\n",
    "            lr_min, lr_steep = lr_learn\n",
    "            return lr_steep\n",
    "        self.lr = find_optimal_lr(self.learn)\n",
    "        print(f\"Learning rate set to: {self.lr}\")\n",
    "\n",
    "    def fine_tune(self, epochs=5):\n",
    "        if self.learn is None:\n",
    "            raise Exception(\"Model has not been initialized. Please run initialize_model() first.\")\n",
    "        if self.lr is None:\n",
    "            raise Exception(\"Learning rate not set. Please set it using set_learning_rate() first.\")\n",
    "\n",
    "        # Save every 5 epochs with the combination of model and transformation name\n",
    "        self.learn.add_cb(SaveEvery5EpochsCallback(self.model_name.replace('/', '_'), self.transform_name))\n",
    "        self.learn.fine_tune(epochs, base_lr=self.lr)\n",
    "        torch.cuda.empty_cache()\n",
    "\n",
    "    def save_metrics(self):\n",
    "        df = self.get_training_metrics()\n",
    "        df['model_name'] = self.model_name\n",
    "        df['transform_name'] = self.transform_name\n",
    "        df['learning_rate'] = self.lr  # Add the learning rate to the DataFrame\n",
    "\n",
    "        final_accuracy = self.final_accuracy\n",
    "        final_epoch = self.final_epoch\n",
    "        total_time = pd.to_timedelta(df['time'].apply(lambda x: f'00:{x}')).sum()\n",
    "\n",
    "        # Include learning rate in the filename as well\n",
    "        file_name = f\"acc{final_accuracy:.3f}_epo{final_epoch:02d}_lr{self.lr:.1e}_tim{total_time.total_seconds():.0f}s_{self.model_name}_{self.transform_name}.csv\"\n",
    "        file_path = os.path.join('metrics', file_name)\n",
    "\n",
    "        # Ensure the metrics folder exists\n",
    "        os.makedirs('metrics', exist_ok=True)\n",
    "\n",
    "        # Save the metrics DataFrame to CSV\n",
    "        df.to_csv(file_path, index=False)\n",
    "        print(f\"Metrics saved to {file_path}\")\n",
    "\n",
    "    def get_training_metrics(self) -> pd.DataFrame:\n",
    "        df = self.learn.csv_logger.read_log()\n",
    "        self.training_metrics = df\n",
    "        self.final_accuracy = df['accuracy'].iloc[-1]\n",
    "        self.final_epoch = df['epoch'].iloc[-1]\n",
    "        return df\n",
    "\n",
    "    def plot_metrics(self):\n",
    "        pass\n"
   ]
  },
  {
   "cell_type": "code",
   "execution_count": 10,
   "metadata": {},
   "outputs": [
    {
     "data": {
      "text/plain": [
       "\"\\npotential models to test\\n'efficientnet_b0'\\nmobilenetv4_conv_medium\\nmobilenetv4_hybrid_medium\\nVanilla ViT, BEiT, DeiT, Resnet34, Resnet50, inceptionV4, inceptionV3\\n\\n\""
      ]
     },
     "execution_count": 10,
     "metadata": {},
     "output_type": "execute_result"
    }
   ],
   "source": [
    "\"\"\"\n",
    "potential models to test\n",
    "'efficientnet_b0'\n",
    "mobilenetv4_conv_medium\n",
    "mobilenetv4_hybrid_medium\n",
    "Vanilla ViT, BEiT, DeiT, Resnet34, Resnet50, inceptionV4, inceptionV3\n",
    "\n",
    "\"\"\""
   ]
  },
  {
   "cell_type": "code",
   "execution_count": null,
   "metadata": {},
   "outputs": [
    {
     "name": "stdout",
     "output_type": "stream",
     "text": [
      "\n",
      "Training with model: resnet34, item_tfms: none, and augmentation: basic\n",
      "Using provided dataloader.\n",
      "CUDA is available. Using GPU for training.\n"
     ]
    },
    {
     "data": {
      "text/html": [
       "\n",
       "<style>\n",
       "    /* Turns off some styling */\n",
       "    progress {\n",
       "        /* gets rid of default border in Firefox and Opera. */\n",
       "        border: none;\n",
       "        /* Needs to be in here for Safari polyfill so background images work as expected. */\n",
       "        background-size: auto;\n",
       "    }\n",
       "    progress:not([value]), progress:not([value])::-webkit-progress-bar {\n",
       "        background: repeating-linear-gradient(45deg, #7e7e7e, #7e7e7e 10px, #5c5c5c 10px, #5c5c5c 20px);\n",
       "    }\n",
       "    .progress-bar-interrupted, .progress-bar-interrupted::-webkit-progress-bar {\n",
       "        background: #F44336;\n",
       "    }\n",
       "</style>\n"
      ],
      "text/plain": [
       "<IPython.core.display.HTML object>"
      ]
     },
     "metadata": {},
     "output_type": "display_data"
    },
    {
     "data": {
      "text/html": [],
      "text/plain": [
       "<IPython.core.display.HTML object>"
      ]
     },
     "metadata": {},
     "output_type": "display_data"
    },
    {
     "name": "stdout",
     "output_type": "stream",
     "text": [
      "Learning rate set to: 9.12010818865383e-07\n"
     ]
    },
    {
     "data": {
      "text/html": [
       "\n",
       "<style>\n",
       "    /* Turns off some styling */\n",
       "    progress {\n",
       "        /* gets rid of default border in Firefox and Opera. */\n",
       "        border: none;\n",
       "        /* Needs to be in here for Safari polyfill so background images work as expected. */\n",
       "        background-size: auto;\n",
       "    }\n",
       "    progress:not([value]), progress:not([value])::-webkit-progress-bar {\n",
       "        background: repeating-linear-gradient(45deg, #7e7e7e, #7e7e7e 10px, #5c5c5c 10px, #5c5c5c 20px);\n",
       "    }\n",
       "    .progress-bar-interrupted, .progress-bar-interrupted::-webkit-progress-bar {\n",
       "        background: #F44336;\n",
       "    }\n",
       "</style>\n"
      ],
      "text/plain": [
       "<IPython.core.display.HTML object>"
      ]
     },
     "metadata": {},
     "output_type": "display_data"
    },
    {
     "data": {
      "text/html": [
       "<table border=\"1\" class=\"dataframe\">\n",
       "  <thead>\n",
       "    <tr style=\"text-align: left;\">\n",
       "      <th>epoch</th>\n",
       "      <th>train_loss</th>\n",
       "      <th>valid_loss</th>\n",
       "      <th>accuracy</th>\n",
       "      <th>time</th>\n",
       "    </tr>\n",
       "  </thead>\n",
       "  <tbody>\n",
       "    <tr>\n",
       "      <td>0</td>\n",
       "      <td>3.005985</td>\n",
       "      <td>2.357862</td>\n",
       "      <td>0.160156</td>\n",
       "      <td>01:55</td>\n",
       "    </tr>\n",
       "  </tbody>\n",
       "</table>"
      ],
      "text/plain": [
       "<IPython.core.display.HTML object>"
      ]
     },
     "metadata": {},
     "output_type": "display_data"
    },
    {
     "name": "stdout",
     "output_type": "stream",
     "text": [
      "Model saved at the end of training as resnet34_none_basic_final\n"
     ]
    },
    {
     "data": {
      "text/html": [
       "\n",
       "<style>\n",
       "    /* Turns off some styling */\n",
       "    progress {\n",
       "        /* gets rid of default border in Firefox and Opera. */\n",
       "        border: none;\n",
       "        /* Needs to be in here for Safari polyfill so background images work as expected. */\n",
       "        background-size: auto;\n",
       "    }\n",
       "    progress:not([value]), progress:not([value])::-webkit-progress-bar {\n",
       "        background: repeating-linear-gradient(45deg, #7e7e7e, #7e7e7e 10px, #5c5c5c 10px, #5c5c5c 20px);\n",
       "    }\n",
       "    .progress-bar-interrupted, .progress-bar-interrupted::-webkit-progress-bar {\n",
       "        background: #F44336;\n",
       "    }\n",
       "</style>\n"
      ],
      "text/plain": [
       "<IPython.core.display.HTML object>"
      ]
     },
     "metadata": {},
     "output_type": "display_data"
    },
    {
     "data": {
      "text/html": [
       "<table border=\"1\" class=\"dataframe\">\n",
       "  <thead>\n",
       "    <tr style=\"text-align: left;\">\n",
       "      <th>epoch</th>\n",
       "      <th>train_loss</th>\n",
       "      <th>valid_loss</th>\n",
       "      <th>accuracy</th>\n",
       "      <th>time</th>\n",
       "    </tr>\n",
       "  </thead>\n",
       "  <tbody>\n",
       "    <tr>\n",
       "      <td>0</td>\n",
       "      <td>3.125834</td>\n",
       "      <td>2.332969</td>\n",
       "      <td>0.164062</td>\n",
       "      <td>01:02</td>\n",
       "    </tr>\n",
       "    <tr>\n",
       "      <td>1</td>\n",
       "      <td>3.125572</td>\n",
       "      <td>2.314145</td>\n",
       "      <td>0.166016</td>\n",
       "      <td>00:53</td>\n",
       "    </tr>\n",
       "    <tr>\n",
       "      <td>2</td>\n",
       "      <td>2.931194</td>\n",
       "      <td>2.304018</td>\n",
       "      <td>0.167318</td>\n",
       "      <td>01:07</td>\n",
       "    </tr>\n",
       "    <tr>\n",
       "      <td>3</td>\n",
       "      <td>3.019146</td>\n",
       "      <td>2.285606</td>\n",
       "      <td>0.164062</td>\n",
       "      <td>01:35</td>\n",
       "    </tr>\n",
       "    <tr>\n",
       "      <td>4</td>\n",
       "      <td>3.035413</td>\n",
       "      <td>2.352234</td>\n",
       "      <td>0.167969</td>\n",
       "      <td>01:42</td>\n",
       "    </tr>\n",
       "  </tbody>\n",
       "</table>"
      ],
      "text/plain": [
       "<IPython.core.display.HTML object>"
      ]
     },
     "metadata": {},
     "output_type": "display_data"
    },
    {
     "name": "stdout",
     "output_type": "stream",
     "text": [
      "Model saved at the end of training as resnet34_none_basic_final\n",
      "Model saved at the end of training as resnet34_none_basic_final\n",
      "Model saved at the end of training as resnet34_none_basic_final\n",
      "Model saved at the end of training as resnet34_none_basic_final\n",
      "Model saved at the end of training as resnet34_none_basic_final\n",
      "Model saved at epoch 5 as resnet34_none_basic_epoch_5\n",
      "Metrics saved to metrics\\acc0.168_epo04_lr9.1e-07_tim379s_resnet34_none_basic.csv\n",
      "\n",
      "Training with model: resnet34, item_tfms: zoom, and augmentation: basic\n",
      "Could not do one pass in your dataloader, there is something wrong in it. Please see the stack trace below:\n",
      "An error occurred while training model resnet34 with item_tfms zoom and augmentation basic: \"check_uniform_bounds\" not implemented for 'Byte'\n",
      "\n",
      "Training with model: resnet34, item_tfms: flip, and augmentation: basic\n",
      "Using provided dataloader.\n",
      "CUDA is available. Using GPU for training.\n"
     ]
    },
    {
     "data": {
      "text/html": [
       "\n",
       "<style>\n",
       "    /* Turns off some styling */\n",
       "    progress {\n",
       "        /* gets rid of default border in Firefox and Opera. */\n",
       "        border: none;\n",
       "        /* Needs to be in here for Safari polyfill so background images work as expected. */\n",
       "        background-size: auto;\n",
       "    }\n",
       "    progress:not([value]), progress:not([value])::-webkit-progress-bar {\n",
       "        background: repeating-linear-gradient(45deg, #7e7e7e, #7e7e7e 10px, #5c5c5c 10px, #5c5c5c 20px);\n",
       "    }\n",
       "    .progress-bar-interrupted, .progress-bar-interrupted::-webkit-progress-bar {\n",
       "        background: #F44336;\n",
       "    }\n",
       "</style>\n"
      ],
      "text/plain": [
       "<IPython.core.display.HTML object>"
      ]
     },
     "metadata": {},
     "output_type": "display_data"
    },
    {
     "data": {
      "text/html": [],
      "text/plain": [
       "<IPython.core.display.HTML object>"
      ]
     },
     "metadata": {},
     "output_type": "display_data"
    },
    {
     "name": "stdout",
     "output_type": "stream",
     "text": [
      "Learning rate set to: 1.5848931980144698e-06\n"
     ]
    },
    {
     "data": {
      "text/html": [
       "\n",
       "<style>\n",
       "    /* Turns off some styling */\n",
       "    progress {\n",
       "        /* gets rid of default border in Firefox and Opera. */\n",
       "        border: none;\n",
       "        /* Needs to be in here for Safari polyfill so background images work as expected. */\n",
       "        background-size: auto;\n",
       "    }\n",
       "    progress:not([value]), progress:not([value])::-webkit-progress-bar {\n",
       "        background: repeating-linear-gradient(45deg, #7e7e7e, #7e7e7e 10px, #5c5c5c 10px, #5c5c5c 20px);\n",
       "    }\n",
       "    .progress-bar-interrupted, .progress-bar-interrupted::-webkit-progress-bar {\n",
       "        background: #F44336;\n",
       "    }\n",
       "</style>\n"
      ],
      "text/plain": [
       "<IPython.core.display.HTML object>"
      ]
     },
     "metadata": {},
     "output_type": "display_data"
    },
    {
     "data": {
      "text/html": [
       "<table border=\"1\" class=\"dataframe\">\n",
       "  <thead>\n",
       "    <tr style=\"text-align: left;\">\n",
       "      <th>epoch</th>\n",
       "      <th>train_loss</th>\n",
       "      <th>valid_loss</th>\n",
       "      <th>accuracy</th>\n",
       "      <th>time</th>\n",
       "    </tr>\n",
       "  </thead>\n",
       "  <tbody>\n",
       "    <tr>\n",
       "      <td>0</td>\n",
       "      <td>3.179509</td>\n",
       "      <td>2.418587</td>\n",
       "      <td>0.169922</td>\n",
       "      <td>01:29</td>\n",
       "    </tr>\n",
       "  </tbody>\n",
       "</table>"
      ],
      "text/plain": [
       "<IPython.core.display.HTML object>"
      ]
     },
     "metadata": {},
     "output_type": "display_data"
    },
    {
     "name": "stdout",
     "output_type": "stream",
     "text": [
      "Model saved at the end of training as resnet34_flip_basic_final\n"
     ]
    },
    {
     "data": {
      "text/html": [
       "\n",
       "<style>\n",
       "    /* Turns off some styling */\n",
       "    progress {\n",
       "        /* gets rid of default border in Firefox and Opera. */\n",
       "        border: none;\n",
       "        /* Needs to be in here for Safari polyfill so background images work as expected. */\n",
       "        background-size: auto;\n",
       "    }\n",
       "    progress:not([value]), progress:not([value])::-webkit-progress-bar {\n",
       "        background: repeating-linear-gradient(45deg, #7e7e7e, #7e7e7e 10px, #5c5c5c 10px, #5c5c5c 20px);\n",
       "    }\n",
       "    .progress-bar-interrupted, .progress-bar-interrupted::-webkit-progress-bar {\n",
       "        background: #F44336;\n",
       "    }\n",
       "</style>\n"
      ],
      "text/plain": [
       "<IPython.core.display.HTML object>"
      ]
     },
     "metadata": {},
     "output_type": "display_data"
    },
    {
     "data": {
      "text/html": [
       "<table border=\"1\" class=\"dataframe\">\n",
       "  <thead>\n",
       "    <tr style=\"text-align: left;\">\n",
       "      <th>epoch</th>\n",
       "      <th>train_loss</th>\n",
       "      <th>valid_loss</th>\n",
       "      <th>accuracy</th>\n",
       "      <th>time</th>\n",
       "    </tr>\n",
       "  </thead>\n",
       "  <tbody>\n",
       "    <tr>\n",
       "      <td>0</td>\n",
       "      <td>2.994327</td>\n",
       "      <td>2.385444</td>\n",
       "      <td>0.175781</td>\n",
       "      <td>02:08</td>\n",
       "    </tr>\n",
       "    <tr>\n",
       "      <td>1</td>\n",
       "      <td>3.111900</td>\n",
       "      <td>2.361670</td>\n",
       "      <td>0.176432</td>\n",
       "      <td>01:36</td>\n",
       "    </tr>\n",
       "    <tr>\n",
       "      <td>2</td>\n",
       "      <td>3.059946</td>\n",
       "      <td>2.377513</td>\n",
       "      <td>0.177083</td>\n",
       "      <td>01:27</td>\n",
       "    </tr>\n",
       "    <tr>\n",
       "      <td>3</td>\n",
       "      <td>2.980305</td>\n",
       "      <td>2.373005</td>\n",
       "      <td>0.163411</td>\n",
       "      <td>01:25</td>\n",
       "    </tr>\n",
       "    <tr>\n",
       "      <td>4</td>\n",
       "      <td>3.101286</td>\n",
       "      <td>2.420463</td>\n",
       "      <td>0.166667</td>\n",
       "      <td>01:26</td>\n",
       "    </tr>\n",
       "  </tbody>\n",
       "</table>"
      ],
      "text/plain": [
       "<IPython.core.display.HTML object>"
      ]
     },
     "metadata": {},
     "output_type": "display_data"
    },
    {
     "name": "stdout",
     "output_type": "stream",
     "text": [
      "Model saved at the end of training as resnet34_flip_basic_final\n",
      "Model saved at the end of training as resnet34_flip_basic_final\n",
      "Model saved at the end of training as resnet34_flip_basic_final\n",
      "Model saved at the end of training as resnet34_flip_basic_final\n",
      "Model saved at the end of training as resnet34_flip_basic_final\n",
      "Model saved at epoch 5 as resnet34_flip_basic_epoch_5\n",
      "Metrics saved to metrics\\acc0.167_epo04_lr1.6e-06_tim482s_resnet34_flip_basic.csv\n",
      "\n",
      "Training with model: resnet34, item_tfms: grayscale, and augmentation: basic\n",
      "Using provided dataloader.\n",
      "CUDA is available. Using GPU for training.\n"
     ]
    },
    {
     "data": {
      "text/html": [
       "\n",
       "<style>\n",
       "    /* Turns off some styling */\n",
       "    progress {\n",
       "        /* gets rid of default border in Firefox and Opera. */\n",
       "        border: none;\n",
       "        /* Needs to be in here for Safari polyfill so background images work as expected. */\n",
       "        background-size: auto;\n",
       "    }\n",
       "    progress:not([value]), progress:not([value])::-webkit-progress-bar {\n",
       "        background: repeating-linear-gradient(45deg, #7e7e7e, #7e7e7e 10px, #5c5c5c 10px, #5c5c5c 20px);\n",
       "    }\n",
       "    .progress-bar-interrupted, .progress-bar-interrupted::-webkit-progress-bar {\n",
       "        background: #F44336;\n",
       "    }\n",
       "</style>\n"
      ],
      "text/plain": [
       "<IPython.core.display.HTML object>"
      ]
     },
     "metadata": {},
     "output_type": "display_data"
    },
    {
     "data": {
      "text/html": [],
      "text/plain": [
       "<IPython.core.display.HTML object>"
      ]
     },
     "metadata": {},
     "output_type": "display_data"
    },
    {
     "name": "stdout",
     "output_type": "stream",
     "text": [
      "Learning rate set to: 1.0964781722577754e-06\n"
     ]
    },
    {
     "data": {
      "text/html": [
       "\n",
       "<style>\n",
       "    /* Turns off some styling */\n",
       "    progress {\n",
       "        /* gets rid of default border in Firefox and Opera. */\n",
       "        border: none;\n",
       "        /* Needs to be in here for Safari polyfill so background images work as expected. */\n",
       "        background-size: auto;\n",
       "    }\n",
       "    progress:not([value]), progress:not([value])::-webkit-progress-bar {\n",
       "        background: repeating-linear-gradient(45deg, #7e7e7e, #7e7e7e 10px, #5c5c5c 10px, #5c5c5c 20px);\n",
       "    }\n",
       "    .progress-bar-interrupted, .progress-bar-interrupted::-webkit-progress-bar {\n",
       "        background: #F44336;\n",
       "    }\n",
       "</style>\n"
      ],
      "text/plain": [
       "<IPython.core.display.HTML object>"
      ]
     },
     "metadata": {},
     "output_type": "display_data"
    },
    {
     "data": {
      "text/html": [
       "<table border=\"1\" class=\"dataframe\">\n",
       "  <thead>\n",
       "    <tr style=\"text-align: left;\">\n",
       "      <th>epoch</th>\n",
       "      <th>train_loss</th>\n",
       "      <th>valid_loss</th>\n",
       "      <th>accuracy</th>\n",
       "      <th>time</th>\n",
       "    </tr>\n",
       "  </thead>\n",
       "  <tbody>\n",
       "    <tr>\n",
       "      <td>0</td>\n",
       "      <td>3.031758</td>\n",
       "      <td>2.431890</td>\n",
       "      <td>0.164062</td>\n",
       "      <td>01:09</td>\n",
       "    </tr>\n",
       "  </tbody>\n",
       "</table>"
      ],
      "text/plain": [
       "<IPython.core.display.HTML object>"
      ]
     },
     "metadata": {},
     "output_type": "display_data"
    },
    {
     "name": "stdout",
     "output_type": "stream",
     "text": [
      "Model saved at the end of training as resnet34_grayscale_basic_final\n"
     ]
    },
    {
     "data": {
      "text/html": [
       "\n",
       "<style>\n",
       "    /* Turns off some styling */\n",
       "    progress {\n",
       "        /* gets rid of default border in Firefox and Opera. */\n",
       "        border: none;\n",
       "        /* Needs to be in here for Safari polyfill so background images work as expected. */\n",
       "        background-size: auto;\n",
       "    }\n",
       "    progress:not([value]), progress:not([value])::-webkit-progress-bar {\n",
       "        background: repeating-linear-gradient(45deg, #7e7e7e, #7e7e7e 10px, #5c5c5c 10px, #5c5c5c 20px);\n",
       "    }\n",
       "    .progress-bar-interrupted, .progress-bar-interrupted::-webkit-progress-bar {\n",
       "        background: #F44336;\n",
       "    }\n",
       "</style>\n"
      ],
      "text/plain": [
       "<IPython.core.display.HTML object>"
      ]
     },
     "metadata": {},
     "output_type": "display_data"
    },
    {
     "data": {
      "text/html": [
       "<table border=\"1\" class=\"dataframe\">\n",
       "  <thead>\n",
       "    <tr style=\"text-align: left;\">\n",
       "      <th>epoch</th>\n",
       "      <th>train_loss</th>\n",
       "      <th>valid_loss</th>\n",
       "      <th>accuracy</th>\n",
       "      <th>time</th>\n",
       "    </tr>\n",
       "  </thead>\n",
       "  <tbody>\n",
       "    <tr>\n",
       "      <td>0</td>\n",
       "      <td>3.080381</td>\n",
       "      <td>2.377340</td>\n",
       "      <td>0.166016</td>\n",
       "      <td>01:26</td>\n",
       "    </tr>\n",
       "    <tr>\n",
       "      <td>1</td>\n",
       "      <td>3.076469</td>\n",
       "      <td>2.342572</td>\n",
       "      <td>0.168620</td>\n",
       "      <td>01:23</td>\n",
       "    </tr>\n",
       "    <tr>\n",
       "      <td>2</td>\n",
       "      <td>3.122649</td>\n",
       "      <td>2.367771</td>\n",
       "      <td>0.173828</td>\n",
       "      <td>01:26</td>\n",
       "    </tr>\n",
       "    <tr>\n",
       "      <td>3</td>\n",
       "      <td>3.167785</td>\n",
       "      <td>2.331457</td>\n",
       "      <td>0.170573</td>\n",
       "      <td>01:29</td>\n",
       "    </tr>\n",
       "    <tr>\n",
       "      <td>4</td>\n",
       "      <td>3.081859</td>\n",
       "      <td>2.373026</td>\n",
       "      <td>0.149740</td>\n",
       "      <td>01:30</td>\n",
       "    </tr>\n",
       "  </tbody>\n",
       "</table>"
      ],
      "text/plain": [
       "<IPython.core.display.HTML object>"
      ]
     },
     "metadata": {},
     "output_type": "display_data"
    },
    {
     "name": "stdout",
     "output_type": "stream",
     "text": [
      "Model saved at the end of training as resnet34_grayscale_basic_final\n",
      "Model saved at the end of training as resnet34_grayscale_basic_final\n",
      "Model saved at the end of training as resnet34_grayscale_basic_final\n",
      "Model saved at the end of training as resnet34_grayscale_basic_final\n",
      "Model saved at the end of training as resnet34_grayscale_basic_final\n",
      "Model saved at epoch 5 as resnet34_grayscale_basic_epoch_5\n",
      "Metrics saved to metrics\\acc0.150_epo04_lr1.1e-06_tim434s_resnet34_grayscale_basic.csv\n",
      "\n",
      "Training with model: resnet34, item_tfms: random_resized_crop, and augmentation: basic\n",
      "Using provided dataloader.\n",
      "CUDA is available. Using GPU for training.\n"
     ]
    },
    {
     "data": {
      "text/html": [
       "\n",
       "<style>\n",
       "    /* Turns off some styling */\n",
       "    progress {\n",
       "        /* gets rid of default border in Firefox and Opera. */\n",
       "        border: none;\n",
       "        /* Needs to be in here for Safari polyfill so background images work as expected. */\n",
       "        background-size: auto;\n",
       "    }\n",
       "    progress:not([value]), progress:not([value])::-webkit-progress-bar {\n",
       "        background: repeating-linear-gradient(45deg, #7e7e7e, #7e7e7e 10px, #5c5c5c 10px, #5c5c5c 20px);\n",
       "    }\n",
       "    .progress-bar-interrupted, .progress-bar-interrupted::-webkit-progress-bar {\n",
       "        background: #F44336;\n",
       "    }\n",
       "</style>\n"
      ],
      "text/plain": [
       "<IPython.core.display.HTML object>"
      ]
     },
     "metadata": {},
     "output_type": "display_data"
    },
    {
     "data": {
      "text/html": [],
      "text/plain": [
       "<IPython.core.display.HTML object>"
      ]
     },
     "metadata": {},
     "output_type": "display_data"
    },
    {
     "name": "stdout",
     "output_type": "stream",
     "text": [
      "Learning rate set to: 2.75422871709452e-06\n"
     ]
    },
    {
     "data": {
      "text/html": [
       "\n",
       "<style>\n",
       "    /* Turns off some styling */\n",
       "    progress {\n",
       "        /* gets rid of default border in Firefox and Opera. */\n",
       "        border: none;\n",
       "        /* Needs to be in here for Safari polyfill so background images work as expected. */\n",
       "        background-size: auto;\n",
       "    }\n",
       "    progress:not([value]), progress:not([value])::-webkit-progress-bar {\n",
       "        background: repeating-linear-gradient(45deg, #7e7e7e, #7e7e7e 10px, #5c5c5c 10px, #5c5c5c 20px);\n",
       "    }\n",
       "    .progress-bar-interrupted, .progress-bar-interrupted::-webkit-progress-bar {\n",
       "        background: #F44336;\n",
       "    }\n",
       "</style>\n"
      ],
      "text/plain": [
       "<IPython.core.display.HTML object>"
      ]
     },
     "metadata": {},
     "output_type": "display_data"
    },
    {
     "data": {
      "text/html": [
       "<table border=\"1\" class=\"dataframe\">\n",
       "  <thead>\n",
       "    <tr style=\"text-align: left;\">\n",
       "      <th>epoch</th>\n",
       "      <th>train_loss</th>\n",
       "      <th>valid_loss</th>\n",
       "      <th>accuracy</th>\n",
       "      <th>time</th>\n",
       "    </tr>\n",
       "  </thead>\n",
       "  <tbody>\n",
       "    <tr>\n",
       "      <td>0</td>\n",
       "      <td>3.074374</td>\n",
       "      <td>2.317321</td>\n",
       "      <td>0.178385</td>\n",
       "      <td>01:10</td>\n",
       "    </tr>\n",
       "  </tbody>\n",
       "</table>"
      ],
      "text/plain": [
       "<IPython.core.display.HTML object>"
      ]
     },
     "metadata": {},
     "output_type": "display_data"
    },
    {
     "name": "stdout",
     "output_type": "stream",
     "text": [
      "Model saved at the end of training as resnet34_random_resized_crop_basic_final\n"
     ]
    },
    {
     "data": {
      "text/html": [
       "\n",
       "<style>\n",
       "    /* Turns off some styling */\n",
       "    progress {\n",
       "        /* gets rid of default border in Firefox and Opera. */\n",
       "        border: none;\n",
       "        /* Needs to be in here for Safari polyfill so background images work as expected. */\n",
       "        background-size: auto;\n",
       "    }\n",
       "    progress:not([value]), progress:not([value])::-webkit-progress-bar {\n",
       "        background: repeating-linear-gradient(45deg, #7e7e7e, #7e7e7e 10px, #5c5c5c 10px, #5c5c5c 20px);\n",
       "    }\n",
       "    .progress-bar-interrupted, .progress-bar-interrupted::-webkit-progress-bar {\n",
       "        background: #F44336;\n",
       "    }\n",
       "</style>\n"
      ],
      "text/plain": [
       "<IPython.core.display.HTML object>"
      ]
     },
     "metadata": {},
     "output_type": "display_data"
    },
    {
     "data": {
      "text/html": [
       "<table border=\"1\" class=\"dataframe\">\n",
       "  <thead>\n",
       "    <tr style=\"text-align: left;\">\n",
       "      <th>epoch</th>\n",
       "      <th>train_loss</th>\n",
       "      <th>valid_loss</th>\n",
       "      <th>accuracy</th>\n",
       "      <th>time</th>\n",
       "    </tr>\n",
       "  </thead>\n",
       "  <tbody>\n",
       "    <tr>\n",
       "      <td>0</td>\n",
       "      <td>3.006364</td>\n",
       "      <td>2.357278</td>\n",
       "      <td>0.173177</td>\n",
       "      <td>01:29</td>\n",
       "    </tr>\n",
       "    <tr>\n",
       "      <td>1</td>\n",
       "      <td>3.017715</td>\n",
       "      <td>2.345553</td>\n",
       "      <td>0.177734</td>\n",
       "      <td>01:30</td>\n",
       "    </tr>\n",
       "    <tr>\n",
       "      <td>2</td>\n",
       "      <td>3.030687</td>\n",
       "      <td>2.323021</td>\n",
       "      <td>0.179688</td>\n",
       "      <td>01:32</td>\n",
       "    </tr>\n",
       "    <tr>\n",
       "      <td>3</td>\n",
       "      <td>3.004660</td>\n",
       "      <td>2.324584</td>\n",
       "      <td>0.170573</td>\n",
       "      <td>01:31</td>\n",
       "    </tr>\n",
       "    <tr>\n",
       "      <td>4</td>\n",
       "      <td>2.967731</td>\n",
       "      <td>2.317048</td>\n",
       "      <td>0.181641</td>\n",
       "      <td>01:33</td>\n",
       "    </tr>\n",
       "  </tbody>\n",
       "</table>"
      ],
      "text/plain": [
       "<IPython.core.display.HTML object>"
      ]
     },
     "metadata": {},
     "output_type": "display_data"
    },
    {
     "name": "stdout",
     "output_type": "stream",
     "text": [
      "Model saved at the end of training as resnet34_random_resized_crop_basic_final\n",
      "Model saved at the end of training as resnet34_random_resized_crop_basic_final\n",
      "Model saved at the end of training as resnet34_random_resized_crop_basic_final\n",
      "Model saved at the end of training as resnet34_random_resized_crop_basic_final\n",
      "Model saved at the end of training as resnet34_random_resized_crop_basic_final\n",
      "Model saved at epoch 5 as resnet34_random_resized_crop_basic_epoch_5\n",
      "Metrics saved to metrics\\acc0.182_epo04_lr2.8e-06_tim455s_resnet34_random_resized_crop_basic.csv\n",
      "\n",
      "Training with model: resnet34, item_tfms: contrast, and augmentation: basic\n",
      "Could not do one pass in your dataloader, there is something wrong in it. Please see the stack trace below:\n",
      "An error occurred while training model resnet34 with item_tfms contrast and augmentation basic: \"check_uniform_bounds\" not implemented for 'Byte'\n",
      "\n",
      "Training with model: resnet34, item_tfms: saturation, and augmentation: basic\n",
      "Could not do one pass in your dataloader, there is something wrong in it. Please see the stack trace below:\n",
      "An error occurred while training model resnet34 with item_tfms saturation and augmentation basic: \"check_uniform_bounds\" not implemented for 'Byte'\n",
      "\n",
      "Training with model: resnet50, item_tfms: none, and augmentation: basic\n",
      "Using provided dataloader.\n"
     ]
    },
    {
     "data": {
      "application/vnd.jupyter.widget-view+json": {
       "model_id": "43ffd167099544ffa62e886467f16b71",
       "version_major": 2,
       "version_minor": 0
      },
      "text/plain": [
       "model.safetensors:   0%|          | 0.00/102M [00:00<?, ?B/s]"
      ]
     },
     "metadata": {},
     "output_type": "display_data"
    },
    {
     "name": "stderr",
     "output_type": "stream",
     "text": [
      "c:\\Users\\julev\\anaconda3\\envs\\cudaEnv\\Lib\\site-packages\\huggingface_hub\\file_download.py:157: UserWarning: `huggingface_hub` cache-system uses symlinks by default to efficiently store duplicated files but your machine does not support them in C:\\Users\\julev\\.cache\\huggingface\\hub\\models--timm--resnet50.a1_in1k. Caching files will still work but in a degraded version that might require more space on your disk. This warning can be disabled by setting the `HF_HUB_DISABLE_SYMLINKS_WARNING` environment variable. For more details, see https://huggingface.co/docs/huggingface_hub/how-to-cache#limitations.\n",
      "To support symlinks on Windows, you either need to activate Developer Mode or to run Python as an administrator. In order to see activate developer mode, see this article: https://docs.microsoft.com/en-us/windows/apps/get-started/enable-your-device-for-development\n",
      "  warnings.warn(message)\n"
     ]
    },
    {
     "name": "stdout",
     "output_type": "stream",
     "text": [
      "CUDA is available. Using GPU for training.\n"
     ]
    },
    {
     "data": {
      "text/html": [
       "\n",
       "<style>\n",
       "    /* Turns off some styling */\n",
       "    progress {\n",
       "        /* gets rid of default border in Firefox and Opera. */\n",
       "        border: none;\n",
       "        /* Needs to be in here for Safari polyfill so background images work as expected. */\n",
       "        background-size: auto;\n",
       "    }\n",
       "    progress:not([value]), progress:not([value])::-webkit-progress-bar {\n",
       "        background: repeating-linear-gradient(45deg, #7e7e7e, #7e7e7e 10px, #5c5c5c 10px, #5c5c5c 20px);\n",
       "    }\n",
       "    .progress-bar-interrupted, .progress-bar-interrupted::-webkit-progress-bar {\n",
       "        background: #F44336;\n",
       "    }\n",
       "</style>\n"
      ],
      "text/plain": [
       "<IPython.core.display.HTML object>"
      ]
     },
     "metadata": {},
     "output_type": "display_data"
    },
    {
     "data": {
      "text/html": [],
      "text/plain": [
       "<IPython.core.display.HTML object>"
      ]
     },
     "metadata": {},
     "output_type": "display_data"
    },
    {
     "name": "stdout",
     "output_type": "stream",
     "text": [
      "Learning rate set to: 1.2022644114040304e-05\n"
     ]
    },
    {
     "data": {
      "text/html": [
       "\n",
       "<style>\n",
       "    /* Turns off some styling */\n",
       "    progress {\n",
       "        /* gets rid of default border in Firefox and Opera. */\n",
       "        border: none;\n",
       "        /* Needs to be in here for Safari polyfill so background images work as expected. */\n",
       "        background-size: auto;\n",
       "    }\n",
       "    progress:not([value]), progress:not([value])::-webkit-progress-bar {\n",
       "        background: repeating-linear-gradient(45deg, #7e7e7e, #7e7e7e 10px, #5c5c5c 10px, #5c5c5c 20px);\n",
       "    }\n",
       "    .progress-bar-interrupted, .progress-bar-interrupted::-webkit-progress-bar {\n",
       "        background: #F44336;\n",
       "    }\n",
       "</style>\n"
      ],
      "text/plain": [
       "<IPython.core.display.HTML object>"
      ]
     },
     "metadata": {},
     "output_type": "display_data"
    },
    {
     "data": {
      "text/html": [
       "<table border=\"1\" class=\"dataframe\">\n",
       "  <thead>\n",
       "    <tr style=\"text-align: left;\">\n",
       "      <th>epoch</th>\n",
       "      <th>train_loss</th>\n",
       "      <th>valid_loss</th>\n",
       "      <th>accuracy</th>\n",
       "      <th>time</th>\n",
       "    </tr>\n",
       "  </thead>\n",
       "  <tbody>\n",
       "    <tr>\n",
       "      <td>0</td>\n",
       "      <td>2.882657</td>\n",
       "      <td>6.770483</td>\n",
       "      <td>0.186849</td>\n",
       "      <td>01:29</td>\n",
       "    </tr>\n",
       "  </tbody>\n",
       "</table>"
      ],
      "text/plain": [
       "<IPython.core.display.HTML object>"
      ]
     },
     "metadata": {},
     "output_type": "display_data"
    },
    {
     "name": "stdout",
     "output_type": "stream",
     "text": [
      "Model saved at the end of training as resnet50_none_basic_final\n"
     ]
    },
    {
     "data": {
      "text/html": [
       "\n",
       "<style>\n",
       "    /* Turns off some styling */\n",
       "    progress {\n",
       "        /* gets rid of default border in Firefox and Opera. */\n",
       "        border: none;\n",
       "        /* Needs to be in here for Safari polyfill so background images work as expected. */\n",
       "        background-size: auto;\n",
       "    }\n",
       "    progress:not([value]), progress:not([value])::-webkit-progress-bar {\n",
       "        background: repeating-linear-gradient(45deg, #7e7e7e, #7e7e7e 10px, #5c5c5c 10px, #5c5c5c 20px);\n",
       "    }\n",
       "    .progress-bar-interrupted, .progress-bar-interrupted::-webkit-progress-bar {\n",
       "        background: #F44336;\n",
       "    }\n",
       "</style>\n"
      ],
      "text/plain": [
       "<IPython.core.display.HTML object>"
      ]
     },
     "metadata": {},
     "output_type": "display_data"
    },
    {
     "data": {
      "text/html": [
       "<table border=\"1\" class=\"dataframe\">\n",
       "  <thead>\n",
       "    <tr style=\"text-align: left;\">\n",
       "      <th>epoch</th>\n",
       "      <th>train_loss</th>\n",
       "      <th>valid_loss</th>\n",
       "      <th>accuracy</th>\n",
       "      <th>time</th>\n",
       "    </tr>\n",
       "  </thead>\n",
       "  <tbody>\n",
       "    <tr>\n",
       "      <td>0</td>\n",
       "      <td>2.954593</td>\n",
       "      <td>2.382053</td>\n",
       "      <td>0.188802</td>\n",
       "      <td>01:56</td>\n",
       "    </tr>\n",
       "    <tr>\n",
       "      <td>1</td>\n",
       "      <td>2.926283</td>\n",
       "      <td>2.172603</td>\n",
       "      <td>0.192708</td>\n",
       "      <td>01:53</td>\n",
       "    </tr>\n",
       "    <tr>\n",
       "      <td>2</td>\n",
       "      <td>2.846025</td>\n",
       "      <td>2.142255</td>\n",
       "      <td>0.207031</td>\n",
       "      <td>01:52</td>\n",
       "    </tr>\n",
       "    <tr>\n",
       "      <td>3</td>\n",
       "      <td>2.871483</td>\n",
       "      <td>2.162717</td>\n",
       "      <td>0.201172</td>\n",
       "      <td>01:52</td>\n",
       "    </tr>\n",
       "    <tr>\n",
       "      <td>4</td>\n",
       "      <td>2.818407</td>\n",
       "      <td>2.184095</td>\n",
       "      <td>0.204427</td>\n",
       "      <td>01:52</td>\n",
       "    </tr>\n",
       "  </tbody>\n",
       "</table>"
      ],
      "text/plain": [
       "<IPython.core.display.HTML object>"
      ]
     },
     "metadata": {},
     "output_type": "display_data"
    },
    {
     "name": "stdout",
     "output_type": "stream",
     "text": [
      "Model saved at the end of training as resnet50_none_basic_final\n",
      "Model saved at the end of training as resnet50_none_basic_final\n",
      "Model saved at the end of training as resnet50_none_basic_final\n",
      "Model saved at the end of training as resnet50_none_basic_final\n",
      "Model saved at the end of training as resnet50_none_basic_final\n",
      "Model saved at epoch 5 as resnet50_none_basic_epoch_5\n",
      "Metrics saved to metrics\\acc0.204_epo04_lr1.2e-05_tim565s_resnet50_none_basic.csv\n",
      "\n",
      "Training with model: resnet50, item_tfms: zoom, and augmentation: basic\n",
      "Could not do one pass in your dataloader, there is something wrong in it. Please see the stack trace below:\n",
      "An error occurred while training model resnet50 with item_tfms zoom and augmentation basic: \"check_uniform_bounds\" not implemented for 'Byte'\n",
      "\n",
      "Training with model: resnet50, item_tfms: flip, and augmentation: basic\n",
      "Using provided dataloader.\n",
      "CUDA is available. Using GPU for training.\n"
     ]
    },
    {
     "data": {
      "text/html": [
       "\n",
       "<style>\n",
       "    /* Turns off some styling */\n",
       "    progress {\n",
       "        /* gets rid of default border in Firefox and Opera. */\n",
       "        border: none;\n",
       "        /* Needs to be in here for Safari polyfill so background images work as expected. */\n",
       "        background-size: auto;\n",
       "    }\n",
       "    progress:not([value]), progress:not([value])::-webkit-progress-bar {\n",
       "        background: repeating-linear-gradient(45deg, #7e7e7e, #7e7e7e 10px, #5c5c5c 10px, #5c5c5c 20px);\n",
       "    }\n",
       "    .progress-bar-interrupted, .progress-bar-interrupted::-webkit-progress-bar {\n",
       "        background: #F44336;\n",
       "    }\n",
       "</style>\n"
      ],
      "text/plain": [
       "<IPython.core.display.HTML object>"
      ]
     },
     "metadata": {},
     "output_type": "display_data"
    },
    {
     "data": {
      "text/html": [],
      "text/plain": [
       "<IPython.core.display.HTML object>"
      ]
     },
     "metadata": {},
     "output_type": "display_data"
    },
    {
     "name": "stdout",
     "output_type": "stream",
     "text": [
      "Learning rate set to: 4.786300905834651e-06\n"
     ]
    },
    {
     "data": {
      "text/html": [
       "\n",
       "<style>\n",
       "    /* Turns off some styling */\n",
       "    progress {\n",
       "        /* gets rid of default border in Firefox and Opera. */\n",
       "        border: none;\n",
       "        /* Needs to be in here for Safari polyfill so background images work as expected. */\n",
       "        background-size: auto;\n",
       "    }\n",
       "    progress:not([value]), progress:not([value])::-webkit-progress-bar {\n",
       "        background: repeating-linear-gradient(45deg, #7e7e7e, #7e7e7e 10px, #5c5c5c 10px, #5c5c5c 20px);\n",
       "    }\n",
       "    .progress-bar-interrupted, .progress-bar-interrupted::-webkit-progress-bar {\n",
       "        background: #F44336;\n",
       "    }\n",
       "</style>\n"
      ],
      "text/plain": [
       "<IPython.core.display.HTML object>"
      ]
     },
     "metadata": {},
     "output_type": "display_data"
    },
    {
     "data": {
      "text/html": [
       "<table border=\"1\" class=\"dataframe\">\n",
       "  <thead>\n",
       "    <tr style=\"text-align: left;\">\n",
       "      <th>epoch</th>\n",
       "      <th>train_loss</th>\n",
       "      <th>valid_loss</th>\n",
       "      <th>accuracy</th>\n",
       "      <th>time</th>\n",
       "    </tr>\n",
       "  </thead>\n",
       "  <tbody>\n",
       "    <tr>\n",
       "      <td>0</td>\n",
       "      <td>2.903075</td>\n",
       "      <td>2.505680</td>\n",
       "      <td>0.171224</td>\n",
       "      <td>01:25</td>\n",
       "    </tr>\n",
       "  </tbody>\n",
       "</table>"
      ],
      "text/plain": [
       "<IPython.core.display.HTML object>"
      ]
     },
     "metadata": {},
     "output_type": "display_data"
    },
    {
     "name": "stdout",
     "output_type": "stream",
     "text": [
      "Model saved at the end of training as resnet50_flip_basic_final\n"
     ]
    },
    {
     "data": {
      "text/html": [
       "\n",
       "<style>\n",
       "    /* Turns off some styling */\n",
       "    progress {\n",
       "        /* gets rid of default border in Firefox and Opera. */\n",
       "        border: none;\n",
       "        /* Needs to be in here for Safari polyfill so background images work as expected. */\n",
       "        background-size: auto;\n",
       "    }\n",
       "    progress:not([value]), progress:not([value])::-webkit-progress-bar {\n",
       "        background: repeating-linear-gradient(45deg, #7e7e7e, #7e7e7e 10px, #5c5c5c 10px, #5c5c5c 20px);\n",
       "    }\n",
       "    .progress-bar-interrupted, .progress-bar-interrupted::-webkit-progress-bar {\n",
       "        background: #F44336;\n",
       "    }\n",
       "</style>\n"
      ],
      "text/plain": [
       "<IPython.core.display.HTML object>"
      ]
     },
     "metadata": {},
     "output_type": "display_data"
    },
    {
     "data": {
      "text/html": [
       "<table border=\"1\" class=\"dataframe\">\n",
       "  <thead>\n",
       "    <tr style=\"text-align: left;\">\n",
       "      <th>epoch</th>\n",
       "      <th>train_loss</th>\n",
       "      <th>valid_loss</th>\n",
       "      <th>accuracy</th>\n",
       "      <th>time</th>\n",
       "    </tr>\n",
       "  </thead>\n",
       "  <tbody>\n",
       "    <tr>\n",
       "      <td>0</td>\n",
       "      <td>3.121630</td>\n",
       "      <td>2.427006</td>\n",
       "      <td>0.177083</td>\n",
       "      <td>01:50</td>\n",
       "    </tr>\n",
       "    <tr>\n",
       "      <td>1</td>\n",
       "      <td>2.951076</td>\n",
       "      <td>2.311886</td>\n",
       "      <td>0.156901</td>\n",
       "      <td>01:50</td>\n",
       "    </tr>\n",
       "    <tr>\n",
       "      <td>2</td>\n",
       "      <td>2.903598</td>\n",
       "      <td>2.214102</td>\n",
       "      <td>0.180990</td>\n",
       "      <td>01:54</td>\n",
       "    </tr>\n",
       "    <tr>\n",
       "      <td>3</td>\n",
       "      <td>2.959943</td>\n",
       "      <td>3.626546</td>\n",
       "      <td>0.171224</td>\n",
       "      <td>01:58</td>\n",
       "    </tr>\n",
       "    <tr>\n",
       "      <td>4</td>\n",
       "      <td>3.028352</td>\n",
       "      <td>2.368297</td>\n",
       "      <td>0.165365</td>\n",
       "      <td>01:53</td>\n",
       "    </tr>\n",
       "  </tbody>\n",
       "</table>"
      ],
      "text/plain": [
       "<IPython.core.display.HTML object>"
      ]
     },
     "metadata": {},
     "output_type": "display_data"
    },
    {
     "name": "stdout",
     "output_type": "stream",
     "text": [
      "Model saved at the end of training as resnet50_flip_basic_final\n",
      "Model saved at the end of training as resnet50_flip_basic_final\n",
      "Model saved at the end of training as resnet50_flip_basic_final\n",
      "Model saved at the end of training as resnet50_flip_basic_final\n",
      "Model saved at the end of training as resnet50_flip_basic_final\n",
      "Model saved at epoch 5 as resnet50_flip_basic_epoch_5\n",
      "Metrics saved to metrics\\acc0.165_epo04_lr4.8e-06_tim565s_resnet50_flip_basic.csv\n",
      "\n",
      "Training with model: resnet50, item_tfms: grayscale, and augmentation: basic\n",
      "Using provided dataloader.\n",
      "CUDA is available. Using GPU for training.\n"
     ]
    },
    {
     "data": {
      "text/html": [
       "\n",
       "<style>\n",
       "    /* Turns off some styling */\n",
       "    progress {\n",
       "        /* gets rid of default border in Firefox and Opera. */\n",
       "        border: none;\n",
       "        /* Needs to be in here for Safari polyfill so background images work as expected. */\n",
       "        background-size: auto;\n",
       "    }\n",
       "    progress:not([value]), progress:not([value])::-webkit-progress-bar {\n",
       "        background: repeating-linear-gradient(45deg, #7e7e7e, #7e7e7e 10px, #5c5c5c 10px, #5c5c5c 20px);\n",
       "    }\n",
       "    .progress-bar-interrupted, .progress-bar-interrupted::-webkit-progress-bar {\n",
       "        background: #F44336;\n",
       "    }\n",
       "</style>\n"
      ],
      "text/plain": [
       "<IPython.core.display.HTML object>"
      ]
     },
     "metadata": {},
     "output_type": "display_data"
    },
    {
     "data": {
      "text/html": [],
      "text/plain": [
       "<IPython.core.display.HTML object>"
      ]
     },
     "metadata": {},
     "output_type": "display_data"
    },
    {
     "name": "stdout",
     "output_type": "stream",
     "text": [
      "Learning rate set to: 2.75422871709452e-06\n"
     ]
    },
    {
     "data": {
      "text/html": [
       "\n",
       "<style>\n",
       "    /* Turns off some styling */\n",
       "    progress {\n",
       "        /* gets rid of default border in Firefox and Opera. */\n",
       "        border: none;\n",
       "        /* Needs to be in here for Safari polyfill so background images work as expected. */\n",
       "        background-size: auto;\n",
       "    }\n",
       "    progress:not([value]), progress:not([value])::-webkit-progress-bar {\n",
       "        background: repeating-linear-gradient(45deg, #7e7e7e, #7e7e7e 10px, #5c5c5c 10px, #5c5c5c 20px);\n",
       "    }\n",
       "    .progress-bar-interrupted, .progress-bar-interrupted::-webkit-progress-bar {\n",
       "        background: #F44336;\n",
       "    }\n",
       "</style>\n"
      ],
      "text/plain": [
       "<IPython.core.display.HTML object>"
      ]
     },
     "metadata": {},
     "output_type": "display_data"
    },
    {
     "data": {
      "text/html": [
       "<table border=\"1\" class=\"dataframe\">\n",
       "  <thead>\n",
       "    <tr style=\"text-align: left;\">\n",
       "      <th>epoch</th>\n",
       "      <th>train_loss</th>\n",
       "      <th>valid_loss</th>\n",
       "      <th>accuracy</th>\n",
       "      <th>time</th>\n",
       "    </tr>\n",
       "  </thead>\n",
       "  <tbody>\n",
       "    <tr>\n",
       "      <td>0</td>\n",
       "      <td>2.929726</td>\n",
       "      <td>2.271314</td>\n",
       "      <td>0.175781</td>\n",
       "      <td>01:35</td>\n",
       "    </tr>\n",
       "  </tbody>\n",
       "</table>"
      ],
      "text/plain": [
       "<IPython.core.display.HTML object>"
      ]
     },
     "metadata": {},
     "output_type": "display_data"
    },
    {
     "name": "stdout",
     "output_type": "stream",
     "text": [
      "Model saved at the end of training as resnet50_grayscale_basic_final\n"
     ]
    },
    {
     "data": {
      "text/html": [
       "\n",
       "<style>\n",
       "    /* Turns off some styling */\n",
       "    progress {\n",
       "        /* gets rid of default border in Firefox and Opera. */\n",
       "        border: none;\n",
       "        /* Needs to be in here for Safari polyfill so background images work as expected. */\n",
       "        background-size: auto;\n",
       "    }\n",
       "    progress:not([value]), progress:not([value])::-webkit-progress-bar {\n",
       "        background: repeating-linear-gradient(45deg, #7e7e7e, #7e7e7e 10px, #5c5c5c 10px, #5c5c5c 20px);\n",
       "    }\n",
       "    .progress-bar-interrupted, .progress-bar-interrupted::-webkit-progress-bar {\n",
       "        background: #F44336;\n",
       "    }\n",
       "</style>\n"
      ],
      "text/plain": [
       "<IPython.core.display.HTML object>"
      ]
     },
     "metadata": {},
     "output_type": "display_data"
    },
    {
     "data": {
      "text/html": [
       "<table border=\"1\" class=\"dataframe\">\n",
       "  <thead>\n",
       "    <tr style=\"text-align: left;\">\n",
       "      <th>epoch</th>\n",
       "      <th>train_loss</th>\n",
       "      <th>valid_loss</th>\n",
       "      <th>accuracy</th>\n",
       "      <th>time</th>\n",
       "    </tr>\n",
       "  </thead>\n",
       "  <tbody>\n",
       "    <tr>\n",
       "      <td>0</td>\n",
       "      <td>2.919429</td>\n",
       "      <td>2.288189</td>\n",
       "      <td>0.175130</td>\n",
       "      <td>01:53</td>\n",
       "    </tr>\n",
       "    <tr>\n",
       "      <td>1</td>\n",
       "      <td>3.048938</td>\n",
       "      <td>2.248892</td>\n",
       "      <td>0.185547</td>\n",
       "      <td>01:52</td>\n",
       "    </tr>\n",
       "    <tr>\n",
       "      <td>2</td>\n",
       "      <td>2.983525</td>\n",
       "      <td>2.248015</td>\n",
       "      <td>0.180990</td>\n",
       "      <td>01:52</td>\n",
       "    </tr>\n",
       "    <tr>\n",
       "      <td>3</td>\n",
       "      <td>2.971173</td>\n",
       "      <td>2.254605</td>\n",
       "      <td>0.182943</td>\n",
       "      <td>01:53</td>\n",
       "    </tr>\n",
       "    <tr>\n",
       "      <td>4</td>\n",
       "      <td>2.859056</td>\n",
       "      <td>2.302463</td>\n",
       "      <td>0.173177</td>\n",
       "      <td>01:56</td>\n",
       "    </tr>\n",
       "  </tbody>\n",
       "</table>"
      ],
      "text/plain": [
       "<IPython.core.display.HTML object>"
      ]
     },
     "metadata": {},
     "output_type": "display_data"
    },
    {
     "name": "stdout",
     "output_type": "stream",
     "text": [
      "Model saved at the end of training as resnet50_grayscale_basic_final\n",
      "Model saved at the end of training as resnet50_grayscale_basic_final\n",
      "Model saved at the end of training as resnet50_grayscale_basic_final\n",
      "Model saved at the end of training as resnet50_grayscale_basic_final\n",
      "Model saved at the end of training as resnet50_grayscale_basic_final\n",
      "Model saved at epoch 5 as resnet50_grayscale_basic_epoch_5\n",
      "Metrics saved to metrics\\acc0.173_epo04_lr2.8e-06_tim566s_resnet50_grayscale_basic.csv\n",
      "\n",
      "Training with model: resnet50, item_tfms: random_resized_crop, and augmentation: basic\n",
      "Using provided dataloader.\n",
      "CUDA is available. Using GPU for training.\n"
     ]
    },
    {
     "data": {
      "text/html": [
       "\n",
       "<style>\n",
       "    /* Turns off some styling */\n",
       "    progress {\n",
       "        /* gets rid of default border in Firefox and Opera. */\n",
       "        border: none;\n",
       "        /* Needs to be in here for Safari polyfill so background images work as expected. */\n",
       "        background-size: auto;\n",
       "    }\n",
       "    progress:not([value]), progress:not([value])::-webkit-progress-bar {\n",
       "        background: repeating-linear-gradient(45deg, #7e7e7e, #7e7e7e 10px, #5c5c5c 10px, #5c5c5c 20px);\n",
       "    }\n",
       "    .progress-bar-interrupted, .progress-bar-interrupted::-webkit-progress-bar {\n",
       "        background: #F44336;\n",
       "    }\n",
       "</style>\n"
      ],
      "text/plain": [
       "<IPython.core.display.HTML object>"
      ]
     },
     "metadata": {},
     "output_type": "display_data"
    },
    {
     "data": {
      "text/html": [],
      "text/plain": [
       "<IPython.core.display.HTML object>"
      ]
     },
     "metadata": {},
     "output_type": "display_data"
    },
    {
     "name": "stdout",
     "output_type": "stream",
     "text": [
      "Learning rate set to: 3.981071586167673e-06\n"
     ]
    },
    {
     "data": {
      "text/html": [
       "\n",
       "<style>\n",
       "    /* Turns off some styling */\n",
       "    progress {\n",
       "        /* gets rid of default border in Firefox and Opera. */\n",
       "        border: none;\n",
       "        /* Needs to be in here for Safari polyfill so background images work as expected. */\n",
       "        background-size: auto;\n",
       "    }\n",
       "    progress:not([value]), progress:not([value])::-webkit-progress-bar {\n",
       "        background: repeating-linear-gradient(45deg, #7e7e7e, #7e7e7e 10px, #5c5c5c 10px, #5c5c5c 20px);\n",
       "    }\n",
       "    .progress-bar-interrupted, .progress-bar-interrupted::-webkit-progress-bar {\n",
       "        background: #F44336;\n",
       "    }\n",
       "</style>\n"
      ],
      "text/plain": [
       "<IPython.core.display.HTML object>"
      ]
     },
     "metadata": {},
     "output_type": "display_data"
    },
    {
     "data": {
      "text/html": [
       "<table border=\"1\" class=\"dataframe\">\n",
       "  <thead>\n",
       "    <tr style=\"text-align: left;\">\n",
       "      <th>epoch</th>\n",
       "      <th>train_loss</th>\n",
       "      <th>valid_loss</th>\n",
       "      <th>accuracy</th>\n",
       "      <th>time</th>\n",
       "    </tr>\n",
       "  </thead>\n",
       "  <tbody>\n",
       "    <tr>\n",
       "      <td>0</td>\n",
       "      <td>2.940698</td>\n",
       "      <td>2.305990</td>\n",
       "      <td>0.177083</td>\n",
       "      <td>01:38</td>\n",
       "    </tr>\n",
       "  </tbody>\n",
       "</table>"
      ],
      "text/plain": [
       "<IPython.core.display.HTML object>"
      ]
     },
     "metadata": {},
     "output_type": "display_data"
    },
    {
     "name": "stdout",
     "output_type": "stream",
     "text": [
      "Model saved at the end of training as resnet50_random_resized_crop_basic_final\n"
     ]
    },
    {
     "data": {
      "text/html": [
       "\n",
       "<style>\n",
       "    /* Turns off some styling */\n",
       "    progress {\n",
       "        /* gets rid of default border in Firefox and Opera. */\n",
       "        border: none;\n",
       "        /* Needs to be in here for Safari polyfill so background images work as expected. */\n",
       "        background-size: auto;\n",
       "    }\n",
       "    progress:not([value]), progress:not([value])::-webkit-progress-bar {\n",
       "        background: repeating-linear-gradient(45deg, #7e7e7e, #7e7e7e 10px, #5c5c5c 10px, #5c5c5c 20px);\n",
       "    }\n",
       "    .progress-bar-interrupted, .progress-bar-interrupted::-webkit-progress-bar {\n",
       "        background: #F44336;\n",
       "    }\n",
       "</style>\n"
      ],
      "text/plain": [
       "<IPython.core.display.HTML object>"
      ]
     },
     "metadata": {},
     "output_type": "display_data"
    },
    {
     "data": {
      "text/html": [
       "<table border=\"1\" class=\"dataframe\">\n",
       "  <thead>\n",
       "    <tr style=\"text-align: left;\">\n",
       "      <th>epoch</th>\n",
       "      <th>train_loss</th>\n",
       "      <th>valid_loss</th>\n",
       "      <th>accuracy</th>\n",
       "      <th>time</th>\n",
       "    </tr>\n",
       "  </thead>\n",
       "  <tbody>\n",
       "    <tr>\n",
       "      <td>0</td>\n",
       "      <td>3.017955</td>\n",
       "      <td>5.849716</td>\n",
       "      <td>0.186198</td>\n",
       "      <td>02:08</td>\n",
       "    </tr>\n",
       "    <tr>\n",
       "      <td>1</td>\n",
       "      <td>2.991878</td>\n",
       "      <td>2.415536</td>\n",
       "      <td>0.170573</td>\n",
       "      <td>02:05</td>\n",
       "    </tr>\n",
       "    <tr>\n",
       "      <td>2</td>\n",
       "      <td>2.995369</td>\n",
       "      <td>2.298913</td>\n",
       "      <td>0.185547</td>\n",
       "      <td>02:05</td>\n",
       "    </tr>\n",
       "    <tr>\n",
       "      <td>3</td>\n",
       "      <td>3.015457</td>\n",
       "      <td>2.595345</td>\n",
       "      <td>0.181641</td>\n",
       "      <td>02:04</td>\n",
       "    </tr>\n",
       "    <tr>\n",
       "      <td>4</td>\n",
       "      <td>3.005282</td>\n",
       "      <td>2.557122</td>\n",
       "      <td>0.180339</td>\n",
       "      <td>02:04</td>\n",
       "    </tr>\n",
       "  </tbody>\n",
       "</table>"
      ],
      "text/plain": [
       "<IPython.core.display.HTML object>"
      ]
     },
     "metadata": {},
     "output_type": "display_data"
    },
    {
     "name": "stdout",
     "output_type": "stream",
     "text": [
      "Model saved at the end of training as resnet50_random_resized_crop_basic_final\n",
      "Model saved at the end of training as resnet50_random_resized_crop_basic_final\n",
      "Model saved at the end of training as resnet50_random_resized_crop_basic_final\n",
      "Model saved at the end of training as resnet50_random_resized_crop_basic_final\n",
      "Model saved at the end of training as resnet50_random_resized_crop_basic_final\n",
      "Model saved at epoch 5 as resnet50_random_resized_crop_basic_epoch_5\n",
      "Metrics saved to metrics\\acc0.180_epo04_lr4.0e-06_tim626s_resnet50_random_resized_crop_basic.csv\n",
      "\n",
      "Training with model: resnet50, item_tfms: contrast, and augmentation: basic\n",
      "Could not do one pass in your dataloader, there is something wrong in it. Please see the stack trace below:\n",
      "An error occurred while training model resnet50 with item_tfms contrast and augmentation basic: \"check_uniform_bounds\" not implemented for 'Byte'\n",
      "\n",
      "Training with model: resnet50, item_tfms: saturation, and augmentation: basic\n",
      "Could not do one pass in your dataloader, there is something wrong in it. Please see the stack trace below:\n",
      "An error occurred while training model resnet50 with item_tfms saturation and augmentation basic: \"check_uniform_bounds\" not implemented for 'Byte'\n",
      "\n",
      "Training with model: inception_v3, item_tfms: none, and augmentation: basic\n",
      "Using provided dataloader.\n"
     ]
    },
    {
     "data": {
      "application/vnd.jupyter.widget-view+json": {
       "model_id": "42e2974b03a44d45965382dc20393bd1",
       "version_major": 2,
       "version_minor": 0
      },
      "text/plain": [
       "model.safetensors:   0%|          | 0.00/95.5M [00:00<?, ?B/s]"
      ]
     },
     "metadata": {},
     "output_type": "display_data"
    },
    {
     "name": "stderr",
     "output_type": "stream",
     "text": [
      "c:\\Users\\julev\\anaconda3\\envs\\cudaEnv\\Lib\\site-packages\\huggingface_hub\\file_download.py:157: UserWarning: `huggingface_hub` cache-system uses symlinks by default to efficiently store duplicated files but your machine does not support them in C:\\Users\\julev\\.cache\\huggingface\\hub\\models--timm--inception_v3.tv_in1k. Caching files will still work but in a degraded version that might require more space on your disk. This warning can be disabled by setting the `HF_HUB_DISABLE_SYMLINKS_WARNING` environment variable. For more details, see https://huggingface.co/docs/huggingface_hub/how-to-cache#limitations.\n",
      "To support symlinks on Windows, you either need to activate Developer Mode or to run Python as an administrator. In order to see activate developer mode, see this article: https://docs.microsoft.com/en-us/windows/apps/get-started/enable-your-device-for-development\n",
      "  warnings.warn(message)\n"
     ]
    },
    {
     "name": "stdout",
     "output_type": "stream",
     "text": [
      "CUDA is available. Using GPU for training.\n"
     ]
    },
    {
     "data": {
      "text/html": [
       "\n",
       "<style>\n",
       "    /* Turns off some styling */\n",
       "    progress {\n",
       "        /* gets rid of default border in Firefox and Opera. */\n",
       "        border: none;\n",
       "        /* Needs to be in here for Safari polyfill so background images work as expected. */\n",
       "        background-size: auto;\n",
       "    }\n",
       "    progress:not([value]), progress:not([value])::-webkit-progress-bar {\n",
       "        background: repeating-linear-gradient(45deg, #7e7e7e, #7e7e7e 10px, #5c5c5c 10px, #5c5c5c 20px);\n",
       "    }\n",
       "    .progress-bar-interrupted, .progress-bar-interrupted::-webkit-progress-bar {\n",
       "        background: #F44336;\n",
       "    }\n",
       "</style>\n"
      ],
      "text/plain": [
       "<IPython.core.display.HTML object>"
      ]
     },
     "metadata": {},
     "output_type": "display_data"
    },
    {
     "data": {
      "text/html": [],
      "text/plain": [
       "<IPython.core.display.HTML object>"
      ]
     },
     "metadata": {},
     "output_type": "display_data"
    },
    {
     "name": "stderr",
     "output_type": "stream",
     "text": [
      "c:\\Users\\julev\\anaconda3\\envs\\cudaEnv\\Lib\\site-packages\\torch\\nn\\modules\\conv.py:456: UserWarning: Plan failed with a cudnnException: CUDNN_BACKEND_EXECUTION_PLAN_DESCRIPTOR: cudnnFinalize Descriptor Failed cudnn_status: CUDNN_STATUS_NOT_SUPPORTED (Triggered internally at ..\\aten\\src\\ATen\\native\\cudnn\\Conv_v8.cpp:919.)\n",
      "  return F.conv2d(input, weight, bias, self.stride,\n"
     ]
    },
    {
     "name": "stdout",
     "output_type": "stream",
     "text": [
      "Learning rate set to: 8.31763736641733e-06\n"
     ]
    },
    {
     "data": {
      "text/html": [
       "\n",
       "<style>\n",
       "    /* Turns off some styling */\n",
       "    progress {\n",
       "        /* gets rid of default border in Firefox and Opera. */\n",
       "        border: none;\n",
       "        /* Needs to be in here for Safari polyfill so background images work as expected. */\n",
       "        background-size: auto;\n",
       "    }\n",
       "    progress:not([value]), progress:not([value])::-webkit-progress-bar {\n",
       "        background: repeating-linear-gradient(45deg, #7e7e7e, #7e7e7e 10px, #5c5c5c 10px, #5c5c5c 20px);\n",
       "    }\n",
       "    .progress-bar-interrupted, .progress-bar-interrupted::-webkit-progress-bar {\n",
       "        background: #F44336;\n",
       "    }\n",
       "</style>\n"
      ],
      "text/plain": [
       "<IPython.core.display.HTML object>"
      ]
     },
     "metadata": {},
     "output_type": "display_data"
    },
    {
     "data": {
      "text/html": [
       "<table border=\"1\" class=\"dataframe\">\n",
       "  <thead>\n",
       "    <tr style=\"text-align: left;\">\n",
       "      <th>epoch</th>\n",
       "      <th>train_loss</th>\n",
       "      <th>valid_loss</th>\n",
       "      <th>accuracy</th>\n",
       "      <th>time</th>\n",
       "    </tr>\n",
       "  </thead>\n",
       "  <tbody>\n",
       "    <tr>\n",
       "      <td>0</td>\n",
       "      <td>3.068688</td>\n",
       "      <td>2.442939</td>\n",
       "      <td>0.162109</td>\n",
       "      <td>01:33</td>\n",
       "    </tr>\n",
       "  </tbody>\n",
       "</table>"
      ],
      "text/plain": [
       "<IPython.core.display.HTML object>"
      ]
     },
     "metadata": {},
     "output_type": "display_data"
    },
    {
     "name": "stdout",
     "output_type": "stream",
     "text": [
      "Model saved at the end of training as inception_v3_none_basic_final\n"
     ]
    },
    {
     "data": {
      "text/html": [
       "\n",
       "<style>\n",
       "    /* Turns off some styling */\n",
       "    progress {\n",
       "        /* gets rid of default border in Firefox and Opera. */\n",
       "        border: none;\n",
       "        /* Needs to be in here for Safari polyfill so background images work as expected. */\n",
       "        background-size: auto;\n",
       "    }\n",
       "    progress:not([value]), progress:not([value])::-webkit-progress-bar {\n",
       "        background: repeating-linear-gradient(45deg, #7e7e7e, #7e7e7e 10px, #5c5c5c 10px, #5c5c5c 20px);\n",
       "    }\n",
       "    .progress-bar-interrupted, .progress-bar-interrupted::-webkit-progress-bar {\n",
       "        background: #F44336;\n",
       "    }\n",
       "</style>\n"
      ],
      "text/plain": [
       "<IPython.core.display.HTML object>"
      ]
     },
     "metadata": {},
     "output_type": "display_data"
    },
    {
     "data": {
      "text/html": [
       "<table border=\"1\" class=\"dataframe\">\n",
       "  <thead>\n",
       "    <tr style=\"text-align: left;\">\n",
       "      <th>epoch</th>\n",
       "      <th>train_loss</th>\n",
       "      <th>valid_loss</th>\n",
       "      <th>accuracy</th>\n",
       "      <th>time</th>\n",
       "    </tr>\n",
       "  </thead>\n",
       "  <tbody>\n",
       "    <tr>\n",
       "      <td>0</td>\n",
       "      <td>2.971731</td>\n",
       "      <td>2.393181</td>\n",
       "      <td>0.169922</td>\n",
       "      <td>02:02</td>\n",
       "    </tr>\n",
       "    <tr>\n",
       "      <td>1</td>\n",
       "      <td>2.865402</td>\n",
       "      <td>2.422263</td>\n",
       "      <td>0.158203</td>\n",
       "      <td>01:59</td>\n",
       "    </tr>\n",
       "    <tr>\n",
       "      <td>2</td>\n",
       "      <td>2.995638</td>\n",
       "      <td>2.346291</td>\n",
       "      <td>0.184896</td>\n",
       "      <td>02:02</td>\n",
       "    </tr>\n",
       "    <tr>\n",
       "      <td>3</td>\n",
       "      <td>2.771230</td>\n",
       "      <td>2.346371</td>\n",
       "      <td>0.186198</td>\n",
       "      <td>02:00</td>\n",
       "    </tr>\n",
       "    <tr>\n",
       "      <td>4</td>\n",
       "      <td>2.900620</td>\n",
       "      <td>2.328555</td>\n",
       "      <td>0.176432</td>\n",
       "      <td>02:02</td>\n",
       "    </tr>\n",
       "  </tbody>\n",
       "</table>"
      ],
      "text/plain": [
       "<IPython.core.display.HTML object>"
      ]
     },
     "metadata": {},
     "output_type": "display_data"
    },
    {
     "name": "stderr",
     "output_type": "stream",
     "text": [
      "c:\\Users\\julev\\anaconda3\\envs\\cudaEnv\\Lib\\site-packages\\torch\\autograd\\graph.py:744: UserWarning: Plan failed with a cudnnException: CUDNN_BACKEND_EXECUTION_PLAN_DESCRIPTOR: cudnnFinalize Descriptor Failed cudnn_status: CUDNN_STATUS_NOT_SUPPORTED (Triggered internally at ..\\aten\\src\\ATen\\native\\cudnn\\Conv_v8.cpp:919.)\n",
      "  return Variable._execution_engine.run_backward(  # Calls into the C++ engine to run the backward pass\n"
     ]
    },
    {
     "name": "stdout",
     "output_type": "stream",
     "text": [
      "Model saved at the end of training as inception_v3_none_basic_final\n",
      "Model saved at the end of training as inception_v3_none_basic_final\n",
      "Model saved at the end of training as inception_v3_none_basic_final\n",
      "Model saved at the end of training as inception_v3_none_basic_final\n",
      "Model saved at the end of training as inception_v3_none_basic_final\n",
      "Model saved at epoch 5 as inception_v3_none_basic_epoch_5\n",
      "Metrics saved to metrics\\acc0.176_epo04_lr8.3e-06_tim605s_inception_v3_none_basic.csv\n",
      "\n",
      "Training with model: inception_v3, item_tfms: zoom, and augmentation: basic\n",
      "Could not do one pass in your dataloader, there is something wrong in it. Please see the stack trace below:\n",
      "An error occurred while training model inception_v3 with item_tfms zoom and augmentation basic: \"check_uniform_bounds\" not implemented for 'Byte'\n",
      "\n",
      "Training with model: inception_v3, item_tfms: flip, and augmentation: basic\n",
      "Using provided dataloader.\n",
      "CUDA is available. Using GPU for training.\n"
     ]
    },
    {
     "data": {
      "text/html": [
       "\n",
       "<style>\n",
       "    /* Turns off some styling */\n",
       "    progress {\n",
       "        /* gets rid of default border in Firefox and Opera. */\n",
       "        border: none;\n",
       "        /* Needs to be in here for Safari polyfill so background images work as expected. */\n",
       "        background-size: auto;\n",
       "    }\n",
       "    progress:not([value]), progress:not([value])::-webkit-progress-bar {\n",
       "        background: repeating-linear-gradient(45deg, #7e7e7e, #7e7e7e 10px, #5c5c5c 10px, #5c5c5c 20px);\n",
       "    }\n",
       "    .progress-bar-interrupted, .progress-bar-interrupted::-webkit-progress-bar {\n",
       "        background: #F44336;\n",
       "    }\n",
       "</style>\n"
      ],
      "text/plain": [
       "<IPython.core.display.HTML object>"
      ]
     },
     "metadata": {},
     "output_type": "display_data"
    },
    {
     "data": {
      "text/html": [],
      "text/plain": [
       "<IPython.core.display.HTML object>"
      ]
     },
     "metadata": {},
     "output_type": "display_data"
    },
    {
     "name": "stdout",
     "output_type": "stream",
     "text": [
      "Learning rate set to: 2.2908675418875646e-06\n"
     ]
    },
    {
     "data": {
      "text/html": [
       "\n",
       "<style>\n",
       "    /* Turns off some styling */\n",
       "    progress {\n",
       "        /* gets rid of default border in Firefox and Opera. */\n",
       "        border: none;\n",
       "        /* Needs to be in here for Safari polyfill so background images work as expected. */\n",
       "        background-size: auto;\n",
       "    }\n",
       "    progress:not([value]), progress:not([value])::-webkit-progress-bar {\n",
       "        background: repeating-linear-gradient(45deg, #7e7e7e, #7e7e7e 10px, #5c5c5c 10px, #5c5c5c 20px);\n",
       "    }\n",
       "    .progress-bar-interrupted, .progress-bar-interrupted::-webkit-progress-bar {\n",
       "        background: #F44336;\n",
       "    }\n",
       "</style>\n"
      ],
      "text/plain": [
       "<IPython.core.display.HTML object>"
      ]
     },
     "metadata": {},
     "output_type": "display_data"
    },
    {
     "data": {
      "text/html": [
       "<table border=\"1\" class=\"dataframe\">\n",
       "  <thead>\n",
       "    <tr style=\"text-align: left;\">\n",
       "      <th>epoch</th>\n",
       "      <th>train_loss</th>\n",
       "      <th>valid_loss</th>\n",
       "      <th>accuracy</th>\n",
       "      <th>time</th>\n",
       "    </tr>\n",
       "  </thead>\n",
       "  <tbody>\n",
       "    <tr>\n",
       "      <td>0</td>\n",
       "      <td>3.070663</td>\n",
       "      <td>2.492112</td>\n",
       "      <td>0.155599</td>\n",
       "      <td>01:34</td>\n",
       "    </tr>\n",
       "  </tbody>\n",
       "</table>"
      ],
      "text/plain": [
       "<IPython.core.display.HTML object>"
      ]
     },
     "metadata": {},
     "output_type": "display_data"
    },
    {
     "name": "stdout",
     "output_type": "stream",
     "text": [
      "Model saved at the end of training as inception_v3_flip_basic_final\n"
     ]
    },
    {
     "data": {
      "text/html": [
       "\n",
       "<style>\n",
       "    /* Turns off some styling */\n",
       "    progress {\n",
       "        /* gets rid of default border in Firefox and Opera. */\n",
       "        border: none;\n",
       "        /* Needs to be in here for Safari polyfill so background images work as expected. */\n",
       "        background-size: auto;\n",
       "    }\n",
       "    progress:not([value]), progress:not([value])::-webkit-progress-bar {\n",
       "        background: repeating-linear-gradient(45deg, #7e7e7e, #7e7e7e 10px, #5c5c5c 10px, #5c5c5c 20px);\n",
       "    }\n",
       "    .progress-bar-interrupted, .progress-bar-interrupted::-webkit-progress-bar {\n",
       "        background: #F44336;\n",
       "    }\n",
       "</style>\n"
      ],
      "text/plain": [
       "<IPython.core.display.HTML object>"
      ]
     },
     "metadata": {},
     "output_type": "display_data"
    },
    {
     "data": {
      "text/html": [
       "<table border=\"1\" class=\"dataframe\">\n",
       "  <thead>\n",
       "    <tr style=\"text-align: left;\">\n",
       "      <th>epoch</th>\n",
       "      <th>train_loss</th>\n",
       "      <th>valid_loss</th>\n",
       "      <th>accuracy</th>\n",
       "      <th>time</th>\n",
       "    </tr>\n",
       "  </thead>\n",
       "  <tbody>\n",
       "    <tr>\n",
       "      <td>0</td>\n",
       "      <td>3.149894</td>\n",
       "      <td>2.518038</td>\n",
       "      <td>0.166016</td>\n",
       "      <td>02:02</td>\n",
       "    </tr>\n",
       "    <tr>\n",
       "      <td>1</td>\n",
       "      <td>3.070384</td>\n",
       "      <td>2.471854</td>\n",
       "      <td>0.162109</td>\n",
       "      <td>02:01</td>\n",
       "    </tr>\n",
       "    <tr>\n",
       "      <td>2</td>\n",
       "      <td>3.138023</td>\n",
       "      <td>2.417333</td>\n",
       "      <td>0.182943</td>\n",
       "      <td>02:03</td>\n",
       "    </tr>\n",
       "    <tr>\n",
       "      <td>3</td>\n",
       "      <td>3.022446</td>\n",
       "      <td>2.418982</td>\n",
       "      <td>0.175781</td>\n",
       "      <td>02:00</td>\n",
       "    </tr>\n",
       "    <tr>\n",
       "      <td>4</td>\n",
       "      <td>3.060930</td>\n",
       "      <td>2.415438</td>\n",
       "      <td>0.185547</td>\n",
       "      <td>02:15</td>\n",
       "    </tr>\n",
       "  </tbody>\n",
       "</table>"
      ],
      "text/plain": [
       "<IPython.core.display.HTML object>"
      ]
     },
     "metadata": {},
     "output_type": "display_data"
    },
    {
     "name": "stdout",
     "output_type": "stream",
     "text": [
      "Model saved at the end of training as inception_v3_flip_basic_final\n",
      "Model saved at the end of training as inception_v3_flip_basic_final\n",
      "Model saved at the end of training as inception_v3_flip_basic_final\n",
      "Model saved at the end of training as inception_v3_flip_basic_final\n",
      "Model saved at the end of training as inception_v3_flip_basic_final\n",
      "Model saved at epoch 5 as inception_v3_flip_basic_epoch_5\n",
      "Metrics saved to metrics\\acc0.186_epo04_lr2.3e-06_tim621s_inception_v3_flip_basic.csv\n",
      "\n",
      "Training with model: inception_v3, item_tfms: grayscale, and augmentation: basic\n",
      "Using provided dataloader.\n",
      "CUDA is available. Using GPU for training.\n"
     ]
    },
    {
     "data": {
      "text/html": [
       "\n",
       "<style>\n",
       "    /* Turns off some styling */\n",
       "    progress {\n",
       "        /* gets rid of default border in Firefox and Opera. */\n",
       "        border: none;\n",
       "        /* Needs to be in here for Safari polyfill so background images work as expected. */\n",
       "        background-size: auto;\n",
       "    }\n",
       "    progress:not([value]), progress:not([value])::-webkit-progress-bar {\n",
       "        background: repeating-linear-gradient(45deg, #7e7e7e, #7e7e7e 10px, #5c5c5c 10px, #5c5c5c 20px);\n",
       "    }\n",
       "    .progress-bar-interrupted, .progress-bar-interrupted::-webkit-progress-bar {\n",
       "        background: #F44336;\n",
       "    }\n",
       "</style>\n"
      ],
      "text/plain": [
       "<IPython.core.display.HTML object>"
      ]
     },
     "metadata": {},
     "output_type": "display_data"
    },
    {
     "data": {
      "text/html": [],
      "text/plain": [
       "<IPython.core.display.HTML object>"
      ]
     },
     "metadata": {},
     "output_type": "display_data"
    },
    {
     "name": "stdout",
     "output_type": "stream",
     "text": [
      "Learning rate set to: 2.75422871709452e-06\n"
     ]
    },
    {
     "data": {
      "text/html": [
       "\n",
       "<style>\n",
       "    /* Turns off some styling */\n",
       "    progress {\n",
       "        /* gets rid of default border in Firefox and Opera. */\n",
       "        border: none;\n",
       "        /* Needs to be in here for Safari polyfill so background images work as expected. */\n",
       "        background-size: auto;\n",
       "    }\n",
       "    progress:not([value]), progress:not([value])::-webkit-progress-bar {\n",
       "        background: repeating-linear-gradient(45deg, #7e7e7e, #7e7e7e 10px, #5c5c5c 10px, #5c5c5c 20px);\n",
       "    }\n",
       "    .progress-bar-interrupted, .progress-bar-interrupted::-webkit-progress-bar {\n",
       "        background: #F44336;\n",
       "    }\n",
       "</style>\n"
      ],
      "text/plain": [
       "<IPython.core.display.HTML object>"
      ]
     },
     "metadata": {},
     "output_type": "display_data"
    },
    {
     "data": {
      "text/html": [
       "<table border=\"1\" class=\"dataframe\">\n",
       "  <thead>\n",
       "    <tr style=\"text-align: left;\">\n",
       "      <th>epoch</th>\n",
       "      <th>train_loss</th>\n",
       "      <th>valid_loss</th>\n",
       "      <th>accuracy</th>\n",
       "      <th>time</th>\n",
       "    </tr>\n",
       "  </thead>\n",
       "  <tbody>\n",
       "    <tr>\n",
       "      <td>0</td>\n",
       "      <td>3.088326</td>\n",
       "      <td>2.535153</td>\n",
       "      <td>0.146484</td>\n",
       "      <td>01:38</td>\n",
       "    </tr>\n",
       "  </tbody>\n",
       "</table>"
      ],
      "text/plain": [
       "<IPython.core.display.HTML object>"
      ]
     },
     "metadata": {},
     "output_type": "display_data"
    },
    {
     "name": "stdout",
     "output_type": "stream",
     "text": [
      "Model saved at the end of training as inception_v3_grayscale_basic_final\n"
     ]
    },
    {
     "data": {
      "text/html": [
       "\n",
       "<style>\n",
       "    /* Turns off some styling */\n",
       "    progress {\n",
       "        /* gets rid of default border in Firefox and Opera. */\n",
       "        border: none;\n",
       "        /* Needs to be in here for Safari polyfill so background images work as expected. */\n",
       "        background-size: auto;\n",
       "    }\n",
       "    progress:not([value]), progress:not([value])::-webkit-progress-bar {\n",
       "        background: repeating-linear-gradient(45deg, #7e7e7e, #7e7e7e 10px, #5c5c5c 10px, #5c5c5c 20px);\n",
       "    }\n",
       "    .progress-bar-interrupted, .progress-bar-interrupted::-webkit-progress-bar {\n",
       "        background: #F44336;\n",
       "    }\n",
       "</style>\n"
      ],
      "text/plain": [
       "<IPython.core.display.HTML object>"
      ]
     },
     "metadata": {},
     "output_type": "display_data"
    },
    {
     "data": {
      "text/html": [
       "<table border=\"1\" class=\"dataframe\">\n",
       "  <thead>\n",
       "    <tr style=\"text-align: left;\">\n",
       "      <th>epoch</th>\n",
       "      <th>train_loss</th>\n",
       "      <th>valid_loss</th>\n",
       "      <th>accuracy</th>\n",
       "      <th>time</th>\n",
       "    </tr>\n",
       "  </thead>\n",
       "  <tbody>\n",
       "    <tr>\n",
       "      <td>0</td>\n",
       "      <td>2.967321</td>\n",
       "      <td>2.496385</td>\n",
       "      <td>0.147786</td>\n",
       "      <td>02:01</td>\n",
       "    </tr>\n",
       "    <tr>\n",
       "      <td>1</td>\n",
       "      <td>3.059904</td>\n",
       "      <td>2.473791</td>\n",
       "      <td>0.153646</td>\n",
       "      <td>02:08</td>\n",
       "    </tr>\n",
       "    <tr>\n",
       "      <td>2</td>\n",
       "      <td>3.130635</td>\n",
       "      <td>2.424659</td>\n",
       "      <td>0.154948</td>\n",
       "      <td>02:00</td>\n",
       "    </tr>\n",
       "    <tr>\n",
       "      <td>3</td>\n",
       "      <td>2.923835</td>\n",
       "      <td>2.444725</td>\n",
       "      <td>0.149740</td>\n",
       "      <td>02:06</td>\n",
       "    </tr>\n",
       "    <tr>\n",
       "      <td>4</td>\n",
       "      <td>3.023469</td>\n",
       "      <td>2.356941</td>\n",
       "      <td>0.167969</td>\n",
       "      <td>02:07</td>\n",
       "    </tr>\n",
       "  </tbody>\n",
       "</table>"
      ],
      "text/plain": [
       "<IPython.core.display.HTML object>"
      ]
     },
     "metadata": {},
     "output_type": "display_data"
    },
    {
     "name": "stdout",
     "output_type": "stream",
     "text": [
      "Model saved at the end of training as inception_v3_grayscale_basic_final\n",
      "Model saved at the end of training as inception_v3_grayscale_basic_final\n",
      "Model saved at the end of training as inception_v3_grayscale_basic_final\n",
      "Model saved at the end of training as inception_v3_grayscale_basic_final\n",
      "Model saved at the end of training as inception_v3_grayscale_basic_final\n",
      "Model saved at epoch 5 as inception_v3_grayscale_basic_epoch_5\n",
      "Metrics saved to metrics\\acc0.168_epo04_lr2.8e-06_tim622s_inception_v3_grayscale_basic.csv\n",
      "\n",
      "Training with model: inception_v3, item_tfms: random_resized_crop, and augmentation: basic\n",
      "Using provided dataloader.\n",
      "CUDA is available. Using GPU for training.\n"
     ]
    },
    {
     "data": {
      "text/html": [
       "\n",
       "<style>\n",
       "    /* Turns off some styling */\n",
       "    progress {\n",
       "        /* gets rid of default border in Firefox and Opera. */\n",
       "        border: none;\n",
       "        /* Needs to be in here for Safari polyfill so background images work as expected. */\n",
       "        background-size: auto;\n",
       "    }\n",
       "    progress:not([value]), progress:not([value])::-webkit-progress-bar {\n",
       "        background: repeating-linear-gradient(45deg, #7e7e7e, #7e7e7e 10px, #5c5c5c 10px, #5c5c5c 20px);\n",
       "    }\n",
       "    .progress-bar-interrupted, .progress-bar-interrupted::-webkit-progress-bar {\n",
       "        background: #F44336;\n",
       "    }\n",
       "</style>\n"
      ],
      "text/plain": [
       "<IPython.core.display.HTML object>"
      ]
     },
     "metadata": {},
     "output_type": "display_data"
    },
    {
     "data": {
      "text/html": [],
      "text/plain": [
       "<IPython.core.display.HTML object>"
      ]
     },
     "metadata": {},
     "output_type": "display_data"
    },
    {
     "name": "stdout",
     "output_type": "stream",
     "text": [
      "Learning rate set to: 1.4454397387453355e-05\n"
     ]
    },
    {
     "data": {
      "text/html": [
       "\n",
       "<style>\n",
       "    /* Turns off some styling */\n",
       "    progress {\n",
       "        /* gets rid of default border in Firefox and Opera. */\n",
       "        border: none;\n",
       "        /* Needs to be in here for Safari polyfill so background images work as expected. */\n",
       "        background-size: auto;\n",
       "    }\n",
       "    progress:not([value]), progress:not([value])::-webkit-progress-bar {\n",
       "        background: repeating-linear-gradient(45deg, #7e7e7e, #7e7e7e 10px, #5c5c5c 10px, #5c5c5c 20px);\n",
       "    }\n",
       "    .progress-bar-interrupted, .progress-bar-interrupted::-webkit-progress-bar {\n",
       "        background: #F44336;\n",
       "    }\n",
       "</style>\n"
      ],
      "text/plain": [
       "<IPython.core.display.HTML object>"
      ]
     },
     "metadata": {},
     "output_type": "display_data"
    },
    {
     "data": {
      "text/html": [
       "<table border=\"1\" class=\"dataframe\">\n",
       "  <thead>\n",
       "    <tr style=\"text-align: left;\">\n",
       "      <th>epoch</th>\n",
       "      <th>train_loss</th>\n",
       "      <th>valid_loss</th>\n",
       "      <th>accuracy</th>\n",
       "      <th>time</th>\n",
       "    </tr>\n",
       "  </thead>\n",
       "  <tbody>\n",
       "    <tr>\n",
       "      <td>0</td>\n",
       "      <td>2.831747</td>\n",
       "      <td>2.480375</td>\n",
       "      <td>0.169271</td>\n",
       "      <td>01:37</td>\n",
       "    </tr>\n",
       "  </tbody>\n",
       "</table>"
      ],
      "text/plain": [
       "<IPython.core.display.HTML object>"
      ]
     },
     "metadata": {},
     "output_type": "display_data"
    },
    {
     "name": "stdout",
     "output_type": "stream",
     "text": [
      "Model saved at the end of training as inception_v3_random_resized_crop_basic_final\n"
     ]
    },
    {
     "data": {
      "text/html": [
       "\n",
       "<style>\n",
       "    /* Turns off some styling */\n",
       "    progress {\n",
       "        /* gets rid of default border in Firefox and Opera. */\n",
       "        border: none;\n",
       "        /* Needs to be in here for Safari polyfill so background images work as expected. */\n",
       "        background-size: auto;\n",
       "    }\n",
       "    progress:not([value]), progress:not([value])::-webkit-progress-bar {\n",
       "        background: repeating-linear-gradient(45deg, #7e7e7e, #7e7e7e 10px, #5c5c5c 10px, #5c5c5c 20px);\n",
       "    }\n",
       "    .progress-bar-interrupted, .progress-bar-interrupted::-webkit-progress-bar {\n",
       "        background: #F44336;\n",
       "    }\n",
       "</style>\n"
      ],
      "text/plain": [
       "<IPython.core.display.HTML object>"
      ]
     },
     "metadata": {},
     "output_type": "display_data"
    },
    {
     "data": {
      "text/html": [
       "<table border=\"1\" class=\"dataframe\">\n",
       "  <thead>\n",
       "    <tr style=\"text-align: left;\">\n",
       "      <th>epoch</th>\n",
       "      <th>train_loss</th>\n",
       "      <th>valid_loss</th>\n",
       "      <th>accuracy</th>\n",
       "      <th>time</th>\n",
       "    </tr>\n",
       "  </thead>\n",
       "  <tbody>\n",
       "    <tr>\n",
       "      <td>0</td>\n",
       "      <td>2.829241</td>\n",
       "      <td>2.345021</td>\n",
       "      <td>0.177734</td>\n",
       "      <td>02:03</td>\n",
       "    </tr>\n",
       "    <tr>\n",
       "      <td>1</td>\n",
       "      <td>2.799628</td>\n",
       "      <td>2.298400</td>\n",
       "      <td>0.184245</td>\n",
       "      <td>02:08</td>\n",
       "    </tr>\n",
       "    <tr>\n",
       "      <td>2</td>\n",
       "      <td>2.762734</td>\n",
       "      <td>2.219320</td>\n",
       "      <td>0.203125</td>\n",
       "      <td>02:06</td>\n",
       "    </tr>\n",
       "    <tr>\n",
       "      <td>3</td>\n",
       "      <td>2.764753</td>\n",
       "      <td>2.234720</td>\n",
       "      <td>0.207682</td>\n",
       "      <td>02:06</td>\n",
       "    </tr>\n",
       "    <tr>\n",
       "      <td>4</td>\n",
       "      <td>2.675315</td>\n",
       "      <td>2.243636</td>\n",
       "      <td>0.194010</td>\n",
       "      <td>02:03</td>\n",
       "    </tr>\n",
       "  </tbody>\n",
       "</table>"
      ],
      "text/plain": [
       "<IPython.core.display.HTML object>"
      ]
     },
     "metadata": {},
     "output_type": "display_data"
    },
    {
     "name": "stdout",
     "output_type": "stream",
     "text": [
      "Model saved at the end of training as inception_v3_random_resized_crop_basic_final\n",
      "Model saved at the end of training as inception_v3_random_resized_crop_basic_final\n",
      "Model saved at the end of training as inception_v3_random_resized_crop_basic_final\n",
      "Model saved at the end of training as inception_v3_random_resized_crop_basic_final\n",
      "Model saved at the end of training as inception_v3_random_resized_crop_basic_final\n",
      "Model saved at epoch 5 as inception_v3_random_resized_crop_basic_epoch_5\n",
      "Metrics saved to metrics\\acc0.194_epo04_lr1.4e-05_tim626s_inception_v3_random_resized_crop_basic.csv\n",
      "\n",
      "Training with model: inception_v3, item_tfms: contrast, and augmentation: basic\n",
      "Could not do one pass in your dataloader, there is something wrong in it. Please see the stack trace below:\n",
      "An error occurred while training model inception_v3 with item_tfms contrast and augmentation basic: \"check_uniform_bounds\" not implemented for 'Byte'\n",
      "\n",
      "Training with model: inception_v3, item_tfms: saturation, and augmentation: basic\n",
      "Could not do one pass in your dataloader, there is something wrong in it. Please see the stack trace below:\n",
      "An error occurred while training model inception_v3 with item_tfms saturation and augmentation basic: \"check_uniform_bounds\" not implemented for 'Byte'\n",
      "\n",
      "Training with model: inception_v4, item_tfms: none, and augmentation: basic\n",
      "Using provided dataloader.\n"
     ]
    },
    {
     "data": {
      "application/vnd.jupyter.widget-view+json": {
       "model_id": "ca73a83500164fb48a5f4f12b0780ee0",
       "version_major": 2,
       "version_minor": 0
      },
      "text/plain": [
       "model.safetensors:   0%|          | 0.00/171M [00:00<?, ?B/s]"
      ]
     },
     "metadata": {},
     "output_type": "display_data"
    },
    {
     "name": "stderr",
     "output_type": "stream",
     "text": [
      "c:\\Users\\julev\\anaconda3\\envs\\cudaEnv\\Lib\\site-packages\\huggingface_hub\\file_download.py:157: UserWarning: `huggingface_hub` cache-system uses symlinks by default to efficiently store duplicated files but your machine does not support them in C:\\Users\\julev\\.cache\\huggingface\\hub\\models--timm--inception_v4.tf_in1k. Caching files will still work but in a degraded version that might require more space on your disk. This warning can be disabled by setting the `HF_HUB_DISABLE_SYMLINKS_WARNING` environment variable. For more details, see https://huggingface.co/docs/huggingface_hub/how-to-cache#limitations.\n",
      "To support symlinks on Windows, you either need to activate Developer Mode or to run Python as an administrator. In order to see activate developer mode, see this article: https://docs.microsoft.com/en-us/windows/apps/get-started/enable-your-device-for-development\n",
      "  warnings.warn(message)\n"
     ]
    },
    {
     "name": "stdout",
     "output_type": "stream",
     "text": [
      "CUDA is available. Using GPU for training.\n"
     ]
    },
    {
     "data": {
      "text/html": [
       "\n",
       "<style>\n",
       "    /* Turns off some styling */\n",
       "    progress {\n",
       "        /* gets rid of default border in Firefox and Opera. */\n",
       "        border: none;\n",
       "        /* Needs to be in here for Safari polyfill so background images work as expected. */\n",
       "        background-size: auto;\n",
       "    }\n",
       "    progress:not([value]), progress:not([value])::-webkit-progress-bar {\n",
       "        background: repeating-linear-gradient(45deg, #7e7e7e, #7e7e7e 10px, #5c5c5c 10px, #5c5c5c 20px);\n",
       "    }\n",
       "    .progress-bar-interrupted, .progress-bar-interrupted::-webkit-progress-bar {\n",
       "        background: #F44336;\n",
       "    }\n",
       "</style>\n"
      ],
      "text/plain": [
       "<IPython.core.display.HTML object>"
      ]
     },
     "metadata": {},
     "output_type": "display_data"
    },
    {
     "data": {
      "text/html": [],
      "text/plain": [
       "<IPython.core.display.HTML object>"
      ]
     },
     "metadata": {},
     "output_type": "display_data"
    },
    {
     "name": "stderr",
     "output_type": "stream",
     "text": [
      "c:\\Users\\julev\\anaconda3\\envs\\cudaEnv\\Lib\\site-packages\\torch\\nn\\modules\\conv.py:456: UserWarning: Plan failed with a cudnnException: CUDNN_BACKEND_EXECUTION_PLAN_DESCRIPTOR: cudnnFinalize Descriptor Failed cudnn_status: CUDNN_STATUS_NOT_SUPPORTED (Triggered internally at ..\\aten\\src\\ATen\\native\\cudnn\\Conv_v8.cpp:919.)\n",
      "  return F.conv2d(input, weight, bias, self.stride,\n"
     ]
    },
    {
     "name": "stdout",
     "output_type": "stream",
     "text": [
      "Learning rate set to: 1.3182567499825382e-06\n"
     ]
    },
    {
     "data": {
      "text/html": [
       "\n",
       "<style>\n",
       "    /* Turns off some styling */\n",
       "    progress {\n",
       "        /* gets rid of default border in Firefox and Opera. */\n",
       "        border: none;\n",
       "        /* Needs to be in here for Safari polyfill so background images work as expected. */\n",
       "        background-size: auto;\n",
       "    }\n",
       "    progress:not([value]), progress:not([value])::-webkit-progress-bar {\n",
       "        background: repeating-linear-gradient(45deg, #7e7e7e, #7e7e7e 10px, #5c5c5c 10px, #5c5c5c 20px);\n",
       "    }\n",
       "    .progress-bar-interrupted, .progress-bar-interrupted::-webkit-progress-bar {\n",
       "        background: #F44336;\n",
       "    }\n",
       "</style>\n"
      ],
      "text/plain": [
       "<IPython.core.display.HTML object>"
      ]
     },
     "metadata": {},
     "output_type": "display_data"
    },
    {
     "data": {
      "text/html": [
       "<table border=\"1\" class=\"dataframe\">\n",
       "  <thead>\n",
       "    <tr style=\"text-align: left;\">\n",
       "      <th>epoch</th>\n",
       "      <th>train_loss</th>\n",
       "      <th>valid_loss</th>\n",
       "      <th>accuracy</th>\n",
       "      <th>time</th>\n",
       "    </tr>\n",
       "  </thead>\n",
       "  <tbody>\n",
       "    <tr>\n",
       "      <td>0</td>\n",
       "      <td>3.067061</td>\n",
       "      <td>6.239272</td>\n",
       "      <td>0.170573</td>\n",
       "      <td>02:18</td>\n",
       "    </tr>\n",
       "  </tbody>\n",
       "</table>"
      ],
      "text/plain": [
       "<IPython.core.display.HTML object>"
      ]
     },
     "metadata": {},
     "output_type": "display_data"
    },
    {
     "name": "stdout",
     "output_type": "stream",
     "text": [
      "Model saved at the end of training as inception_v4_none_basic_final\n"
     ]
    },
    {
     "data": {
      "text/html": [
       "\n",
       "<style>\n",
       "    /* Turns off some styling */\n",
       "    progress {\n",
       "        /* gets rid of default border in Firefox and Opera. */\n",
       "        border: none;\n",
       "        /* Needs to be in here for Safari polyfill so background images work as expected. */\n",
       "        background-size: auto;\n",
       "    }\n",
       "    progress:not([value]), progress:not([value])::-webkit-progress-bar {\n",
       "        background: repeating-linear-gradient(45deg, #7e7e7e, #7e7e7e 10px, #5c5c5c 10px, #5c5c5c 20px);\n",
       "    }\n",
       "    .progress-bar-interrupted, .progress-bar-interrupted::-webkit-progress-bar {\n",
       "        background: #F44336;\n",
       "    }\n",
       "</style>\n"
      ],
      "text/plain": [
       "<IPython.core.display.HTML object>"
      ]
     },
     "metadata": {},
     "output_type": "display_data"
    },
    {
     "data": {
      "text/html": [
       "<table border=\"1\" class=\"dataframe\">\n",
       "  <thead>\n",
       "    <tr style=\"text-align: left;\">\n",
       "      <th>epoch</th>\n",
       "      <th>train_loss</th>\n",
       "      <th>valid_loss</th>\n",
       "      <th>accuracy</th>\n",
       "      <th>time</th>\n",
       "    </tr>\n",
       "  </thead>\n",
       "  <tbody>\n",
       "    <tr>\n",
       "      <td>0</td>\n",
       "      <td>2.977468</td>\n",
       "      <td>7.408507</td>\n",
       "      <td>0.182943</td>\n",
       "      <td>03:19</td>\n",
       "    </tr>\n",
       "    <tr>\n",
       "      <td>1</td>\n",
       "      <td>3.079154</td>\n",
       "      <td>3.313004</td>\n",
       "      <td>0.154948</td>\n",
       "      <td>03:31</td>\n",
       "    </tr>\n",
       "    <tr>\n",
       "      <td>2</td>\n",
       "      <td>2.974993</td>\n",
       "      <td>21.096388</td>\n",
       "      <td>0.173177</td>\n",
       "      <td>03:35</td>\n",
       "    </tr>\n",
       "    <tr>\n",
       "      <td>3</td>\n",
       "      <td>3.053052</td>\n",
       "      <td>18.212242</td>\n",
       "      <td>0.166667</td>\n",
       "      <td>03:11</td>\n",
       "    </tr>\n",
       "    <tr>\n",
       "      <td>4</td>\n",
       "      <td>3.060128</td>\n",
       "      <td>8.944594</td>\n",
       "      <td>0.159505</td>\n",
       "      <td>03:06</td>\n",
       "    </tr>\n",
       "  </tbody>\n",
       "</table>"
      ],
      "text/plain": [
       "<IPython.core.display.HTML object>"
      ]
     },
     "metadata": {},
     "output_type": "display_data"
    },
    {
     "name": "stderr",
     "output_type": "stream",
     "text": [
      "c:\\Users\\julev\\anaconda3\\envs\\cudaEnv\\Lib\\site-packages\\torch\\autograd\\graph.py:744: UserWarning: Plan failed with a cudnnException: CUDNN_BACKEND_EXECUTION_PLAN_DESCRIPTOR: cudnnFinalize Descriptor Failed cudnn_status: CUDNN_STATUS_NOT_SUPPORTED (Triggered internally at ..\\aten\\src\\ATen\\native\\cudnn\\Conv_v8.cpp:919.)\n",
      "  return Variable._execution_engine.run_backward(  # Calls into the C++ engine to run the backward pass\n"
     ]
    },
    {
     "name": "stdout",
     "output_type": "stream",
     "text": [
      "Model saved at the end of training as inception_v4_none_basic_final\n",
      "Model saved at the end of training as inception_v4_none_basic_final\n",
      "Model saved at the end of training as inception_v4_none_basic_final\n",
      "Model saved at the end of training as inception_v4_none_basic_final\n",
      "Model saved at the end of training as inception_v4_none_basic_final\n",
      "Model saved at epoch 5 as inception_v4_none_basic_epoch_5\n",
      "Metrics saved to metrics\\acc0.160_epo04_lr1.3e-06_tim1002s_inception_v4_none_basic.csv\n",
      "\n",
      "Training with model: inception_v4, item_tfms: zoom, and augmentation: basic\n",
      "Could not do one pass in your dataloader, there is something wrong in it. Please see the stack trace below:\n",
      "An error occurred while training model inception_v4 with item_tfms zoom and augmentation basic: \"check_uniform_bounds\" not implemented for 'Byte'\n",
      "\n",
      "Training with model: inception_v4, item_tfms: flip, and augmentation: basic\n",
      "Using provided dataloader.\n",
      "CUDA is available. Using GPU for training.\n"
     ]
    },
    {
     "data": {
      "text/html": [
       "\n",
       "<style>\n",
       "    /* Turns off some styling */\n",
       "    progress {\n",
       "        /* gets rid of default border in Firefox and Opera. */\n",
       "        border: none;\n",
       "        /* Needs to be in here for Safari polyfill so background images work as expected. */\n",
       "        background-size: auto;\n",
       "    }\n",
       "    progress:not([value]), progress:not([value])::-webkit-progress-bar {\n",
       "        background: repeating-linear-gradient(45deg, #7e7e7e, #7e7e7e 10px, #5c5c5c 10px, #5c5c5c 20px);\n",
       "    }\n",
       "    .progress-bar-interrupted, .progress-bar-interrupted::-webkit-progress-bar {\n",
       "        background: #F44336;\n",
       "    }\n",
       "</style>\n"
      ],
      "text/plain": [
       "<IPython.core.display.HTML object>"
      ]
     },
     "metadata": {},
     "output_type": "display_data"
    },
    {
     "data": {
      "text/html": [],
      "text/plain": [
       "<IPython.core.display.HTML object>"
      ]
     },
     "metadata": {},
     "output_type": "display_data"
    },
    {
     "name": "stdout",
     "output_type": "stream",
     "text": [
      "Learning rate set to: 6.309573450380412e-07\n"
     ]
    },
    {
     "data": {
      "text/html": [
       "\n",
       "<style>\n",
       "    /* Turns off some styling */\n",
       "    progress {\n",
       "        /* gets rid of default border in Firefox and Opera. */\n",
       "        border: none;\n",
       "        /* Needs to be in here for Safari polyfill so background images work as expected. */\n",
       "        background-size: auto;\n",
       "    }\n",
       "    progress:not([value]), progress:not([value])::-webkit-progress-bar {\n",
       "        background: repeating-linear-gradient(45deg, #7e7e7e, #7e7e7e 10px, #5c5c5c 10px, #5c5c5c 20px);\n",
       "    }\n",
       "    .progress-bar-interrupted, .progress-bar-interrupted::-webkit-progress-bar {\n",
       "        background: #F44336;\n",
       "    }\n",
       "</style>\n"
      ],
      "text/plain": [
       "<IPython.core.display.HTML object>"
      ]
     },
     "metadata": {},
     "output_type": "display_data"
    },
    {
     "data": {
      "text/html": [
       "<table border=\"1\" class=\"dataframe\">\n",
       "  <thead>\n",
       "    <tr style=\"text-align: left;\">\n",
       "      <th>epoch</th>\n",
       "      <th>train_loss</th>\n",
       "      <th>valid_loss</th>\n",
       "      <th>accuracy</th>\n",
       "      <th>time</th>\n",
       "    </tr>\n",
       "  </thead>\n",
       "  <tbody>\n",
       "    <tr>\n",
       "      <td>0</td>\n",
       "      <td>3.058009</td>\n",
       "      <td>56.532207</td>\n",
       "      <td>0.166016</td>\n",
       "      <td>02:12</td>\n",
       "    </tr>\n",
       "  </tbody>\n",
       "</table>"
      ],
      "text/plain": [
       "<IPython.core.display.HTML object>"
      ]
     },
     "metadata": {},
     "output_type": "display_data"
    },
    {
     "name": "stdout",
     "output_type": "stream",
     "text": [
      "Model saved at the end of training as inception_v4_flip_basic_final\n"
     ]
    },
    {
     "data": {
      "text/html": [
       "\n",
       "<style>\n",
       "    /* Turns off some styling */\n",
       "    progress {\n",
       "        /* gets rid of default border in Firefox and Opera. */\n",
       "        border: none;\n",
       "        /* Needs to be in here for Safari polyfill so background images work as expected. */\n",
       "        background-size: auto;\n",
       "    }\n",
       "    progress:not([value]), progress:not([value])::-webkit-progress-bar {\n",
       "        background: repeating-linear-gradient(45deg, #7e7e7e, #7e7e7e 10px, #5c5c5c 10px, #5c5c5c 20px);\n",
       "    }\n",
       "    .progress-bar-interrupted, .progress-bar-interrupted::-webkit-progress-bar {\n",
       "        background: #F44336;\n",
       "    }\n",
       "</style>\n"
      ],
      "text/plain": [
       "<IPython.core.display.HTML object>"
      ]
     },
     "metadata": {},
     "output_type": "display_data"
    },
    {
     "data": {
      "text/html": [
       "<table border=\"1\" class=\"dataframe\">\n",
       "  <thead>\n",
       "    <tr style=\"text-align: left;\">\n",
       "      <th>epoch</th>\n",
       "      <th>train_loss</th>\n",
       "      <th>valid_loss</th>\n",
       "      <th>accuracy</th>\n",
       "      <th>time</th>\n",
       "    </tr>\n",
       "  </thead>\n",
       "  <tbody>\n",
       "    <tr>\n",
       "      <td>0</td>\n",
       "      <td>3.083936</td>\n",
       "      <td>14.782071</td>\n",
       "      <td>0.171224</td>\n",
       "      <td>03:03</td>\n",
       "    </tr>\n",
       "    <tr>\n",
       "      <td>1</td>\n",
       "      <td>3.164979</td>\n",
       "      <td>28.082037</td>\n",
       "      <td>0.165365</td>\n",
       "      <td>03:03</td>\n",
       "    </tr>\n",
       "    <tr>\n",
       "      <td>2</td>\n",
       "      <td>3.035907</td>\n",
       "      <td>12.653499</td>\n",
       "      <td>0.167318</td>\n",
       "      <td>02:23</td>\n",
       "    </tr>\n",
       "    <tr>\n",
       "      <td>3</td>\n",
       "      <td>3.023580</td>\n",
       "      <td>17.318899</td>\n",
       "      <td>0.179688</td>\n",
       "      <td>02:14</td>\n",
       "    </tr>\n",
       "    <tr>\n",
       "      <td>4</td>\n",
       "      <td>2.957718</td>\n",
       "      <td>38.130180</td>\n",
       "      <td>0.192708</td>\n",
       "      <td>02:09</td>\n",
       "    </tr>\n",
       "  </tbody>\n",
       "</table>"
      ],
      "text/plain": [
       "<IPython.core.display.HTML object>"
      ]
     },
     "metadata": {},
     "output_type": "display_data"
    },
    {
     "name": "stdout",
     "output_type": "stream",
     "text": [
      "Model saved at the end of training as inception_v4_flip_basic_final\n",
      "Model saved at the end of training as inception_v4_flip_basic_final\n",
      "Model saved at the end of training as inception_v4_flip_basic_final\n",
      "Model saved at the end of training as inception_v4_flip_basic_final\n",
      "Model saved at the end of training as inception_v4_flip_basic_final\n",
      "Model saved at epoch 5 as inception_v4_flip_basic_epoch_5\n",
      "Metrics saved to metrics\\acc0.193_epo04_lr6.3e-07_tim772s_inception_v4_flip_basic.csv\n",
      "\n",
      "Training with model: inception_v4, item_tfms: grayscale, and augmentation: basic\n",
      "Using provided dataloader.\n",
      "CUDA is available. Using GPU for training.\n"
     ]
    },
    {
     "data": {
      "text/html": [
       "\n",
       "<style>\n",
       "    /* Turns off some styling */\n",
       "    progress {\n",
       "        /* gets rid of default border in Firefox and Opera. */\n",
       "        border: none;\n",
       "        /* Needs to be in here for Safari polyfill so background images work as expected. */\n",
       "        background-size: auto;\n",
       "    }\n",
       "    progress:not([value]), progress:not([value])::-webkit-progress-bar {\n",
       "        background: repeating-linear-gradient(45deg, #7e7e7e, #7e7e7e 10px, #5c5c5c 10px, #5c5c5c 20px);\n",
       "    }\n",
       "    .progress-bar-interrupted, .progress-bar-interrupted::-webkit-progress-bar {\n",
       "        background: #F44336;\n",
       "    }\n",
       "</style>\n"
      ],
      "text/plain": [
       "<IPython.core.display.HTML object>"
      ]
     },
     "metadata": {},
     "output_type": "display_data"
    },
    {
     "data": {
      "text/html": [],
      "text/plain": [
       "<IPython.core.display.HTML object>"
      ]
     },
     "metadata": {},
     "output_type": "display_data"
    },
    {
     "name": "stdout",
     "output_type": "stream",
     "text": [
      "Learning rate set to: 9.12010818865383e-07\n"
     ]
    },
    {
     "data": {
      "text/html": [
       "\n",
       "<style>\n",
       "    /* Turns off some styling */\n",
       "    progress {\n",
       "        /* gets rid of default border in Firefox and Opera. */\n",
       "        border: none;\n",
       "        /* Needs to be in here for Safari polyfill so background images work as expected. */\n",
       "        background-size: auto;\n",
       "    }\n",
       "    progress:not([value]), progress:not([value])::-webkit-progress-bar {\n",
       "        background: repeating-linear-gradient(45deg, #7e7e7e, #7e7e7e 10px, #5c5c5c 10px, #5c5c5c 20px);\n",
       "    }\n",
       "    .progress-bar-interrupted, .progress-bar-interrupted::-webkit-progress-bar {\n",
       "        background: #F44336;\n",
       "    }\n",
       "</style>\n"
      ],
      "text/plain": [
       "<IPython.core.display.HTML object>"
      ]
     },
     "metadata": {},
     "output_type": "display_data"
    },
    {
     "data": {
      "text/html": [
       "<table border=\"1\" class=\"dataframe\">\n",
       "  <thead>\n",
       "    <tr style=\"text-align: left;\">\n",
       "      <th>epoch</th>\n",
       "      <th>train_loss</th>\n",
       "      <th>valid_loss</th>\n",
       "      <th>accuracy</th>\n",
       "      <th>time</th>\n",
       "    </tr>\n",
       "  </thead>\n",
       "  <tbody>\n",
       "    <tr>\n",
       "      <td>0</td>\n",
       "      <td>2.965761</td>\n",
       "      <td>17.918028</td>\n",
       "      <td>0.180339</td>\n",
       "      <td>01:49</td>\n",
       "    </tr>\n",
       "  </tbody>\n",
       "</table>"
      ],
      "text/plain": [
       "<IPython.core.display.HTML object>"
      ]
     },
     "metadata": {},
     "output_type": "display_data"
    },
    {
     "name": "stdout",
     "output_type": "stream",
     "text": [
      "Model saved at the end of training as inception_v4_grayscale_basic_final\n"
     ]
    },
    {
     "data": {
      "text/html": [
       "\n",
       "<style>\n",
       "    /* Turns off some styling */\n",
       "    progress {\n",
       "        /* gets rid of default border in Firefox and Opera. */\n",
       "        border: none;\n",
       "        /* Needs to be in here for Safari polyfill so background images work as expected. */\n",
       "        background-size: auto;\n",
       "    }\n",
       "    progress:not([value]), progress:not([value])::-webkit-progress-bar {\n",
       "        background: repeating-linear-gradient(45deg, #7e7e7e, #7e7e7e 10px, #5c5c5c 10px, #5c5c5c 20px);\n",
       "    }\n",
       "    .progress-bar-interrupted, .progress-bar-interrupted::-webkit-progress-bar {\n",
       "        background: #F44336;\n",
       "    }\n",
       "</style>\n"
      ],
      "text/plain": [
       "<IPython.core.display.HTML object>"
      ]
     },
     "metadata": {},
     "output_type": "display_data"
    },
    {
     "data": {
      "text/html": [
       "<table border=\"1\" class=\"dataframe\">\n",
       "  <thead>\n",
       "    <tr style=\"text-align: left;\">\n",
       "      <th>epoch</th>\n",
       "      <th>train_loss</th>\n",
       "      <th>valid_loss</th>\n",
       "      <th>accuracy</th>\n",
       "      <th>time</th>\n",
       "    </tr>\n",
       "  </thead>\n",
       "  <tbody>\n",
       "    <tr>\n",
       "      <td>0</td>\n",
       "      <td>3.054655</td>\n",
       "      <td>5.570028</td>\n",
       "      <td>0.173828</td>\n",
       "      <td>02:11</td>\n",
       "    </tr>\n",
       "    <tr>\n",
       "      <td>1</td>\n",
       "      <td>2.932779</td>\n",
       "      <td>14.111159</td>\n",
       "      <td>0.174479</td>\n",
       "      <td>02:11</td>\n",
       "    </tr>\n",
       "    <tr>\n",
       "      <td>2</td>\n",
       "      <td>2.958616</td>\n",
       "      <td>8.656373</td>\n",
       "      <td>0.175781</td>\n",
       "      <td>02:07</td>\n",
       "    </tr>\n",
       "    <tr>\n",
       "      <td>3</td>\n",
       "      <td>3.007666</td>\n",
       "      <td>20.735619</td>\n",
       "      <td>0.184245</td>\n",
       "      <td>02:35</td>\n",
       "    </tr>\n",
       "    <tr>\n",
       "      <td>4</td>\n",
       "      <td>2.987395</td>\n",
       "      <td>30.392115</td>\n",
       "      <td>0.177734</td>\n",
       "      <td>02:58</td>\n",
       "    </tr>\n",
       "  </tbody>\n",
       "</table>"
      ],
      "text/plain": [
       "<IPython.core.display.HTML object>"
      ]
     },
     "metadata": {},
     "output_type": "display_data"
    },
    {
     "name": "stdout",
     "output_type": "stream",
     "text": [
      "Model saved at the end of training as inception_v4_grayscale_basic_final\n",
      "Model saved at the end of training as inception_v4_grayscale_basic_final\n",
      "Model saved at the end of training as inception_v4_grayscale_basic_final\n",
      "Model saved at the end of training as inception_v4_grayscale_basic_final\n",
      "Model saved at the end of training as inception_v4_grayscale_basic_final\n",
      "Model saved at epoch 5 as inception_v4_grayscale_basic_epoch_5\n",
      "Metrics saved to metrics\\acc0.178_epo04_lr9.1e-07_tim722s_inception_v4_grayscale_basic.csv\n",
      "\n",
      "Training with model: inception_v4, item_tfms: random_resized_crop, and augmentation: basic\n",
      "Using provided dataloader.\n",
      "CUDA is available. Using GPU for training.\n"
     ]
    },
    {
     "data": {
      "text/html": [
       "\n",
       "<style>\n",
       "    /* Turns off some styling */\n",
       "    progress {\n",
       "        /* gets rid of default border in Firefox and Opera. */\n",
       "        border: none;\n",
       "        /* Needs to be in here for Safari polyfill so background images work as expected. */\n",
       "        background-size: auto;\n",
       "    }\n",
       "    progress:not([value]), progress:not([value])::-webkit-progress-bar {\n",
       "        background: repeating-linear-gradient(45deg, #7e7e7e, #7e7e7e 10px, #5c5c5c 10px, #5c5c5c 20px);\n",
       "    }\n",
       "    .progress-bar-interrupted, .progress-bar-interrupted::-webkit-progress-bar {\n",
       "        background: #F44336;\n",
       "    }\n",
       "</style>\n"
      ],
      "text/plain": [
       "<IPython.core.display.HTML object>"
      ]
     },
     "metadata": {},
     "output_type": "display_data"
    },
    {
     "data": {
      "text/html": [],
      "text/plain": [
       "<IPython.core.display.HTML object>"
      ]
     },
     "metadata": {},
     "output_type": "display_data"
    },
    {
     "name": "stdout",
     "output_type": "stream",
     "text": [
      "Learning rate set to: 2.75422871709452e-06\n"
     ]
    },
    {
     "data": {
      "text/html": [
       "\n",
       "<style>\n",
       "    /* Turns off some styling */\n",
       "    progress {\n",
       "        /* gets rid of default border in Firefox and Opera. */\n",
       "        border: none;\n",
       "        /* Needs to be in here for Safari polyfill so background images work as expected. */\n",
       "        background-size: auto;\n",
       "    }\n",
       "    progress:not([value]), progress:not([value])::-webkit-progress-bar {\n",
       "        background: repeating-linear-gradient(45deg, #7e7e7e, #7e7e7e 10px, #5c5c5c 10px, #5c5c5c 20px);\n",
       "    }\n",
       "    .progress-bar-interrupted, .progress-bar-interrupted::-webkit-progress-bar {\n",
       "        background: #F44336;\n",
       "    }\n",
       "</style>\n"
      ],
      "text/plain": [
       "<IPython.core.display.HTML object>"
      ]
     },
     "metadata": {},
     "output_type": "display_data"
    },
    {
     "data": {
      "text/html": [
       "\n",
       "    <div>\n",
       "      <progress value='0' class='' max='1' style='width:300px; height:20px; vertical-align: middle;'></progress>\n",
       "      0.00% [0/1 00:00&lt;?]\n",
       "    </div>\n",
       "    \n",
       "<table border=\"1\" class=\"dataframe\">\n",
       "  <thead>\n",
       "    <tr style=\"text-align: left;\">\n",
       "      <th>epoch</th>\n",
       "      <th>train_loss</th>\n",
       "      <th>valid_loss</th>\n",
       "      <th>accuracy</th>\n",
       "      <th>time</th>\n",
       "    </tr>\n",
       "  </thead>\n",
       "  <tbody>\n",
       "  </tbody>\n",
       "</table><p>\n",
       "\n",
       "    <div>\n",
       "      <progress value='317' class='' max='768' style='width:300px; height:20px; vertical-align: middle;'></progress>\n",
       "      41.28% [317/768 00:41&lt;00:58 3.0364]\n",
       "    </div>\n",
       "    "
      ],
      "text/plain": [
       "<IPython.core.display.HTML object>"
      ]
     },
     "metadata": {},
     "output_type": "display_data"
    }
   ],
   "source": [
    "# Define item-level transformations\n",
    "item_transforms = {\n",
    "    'none': None,  # No item transformations\n",
    "    'zoom': Zoom(),  # Apply zoom transform\n",
    "    'flip': FlipItem(p=0.5),  # Flip with 50% probability\n",
    "    'grayscale': IntToFloatTensor(),  # Grayscale conversion\n",
    "    'random_resized_crop': RandomResizedCrop(224, min_scale=0.5),\n",
    "    'contrast': Contrast(max_lighting=0.4, p=0.75),  # Should be moved to batch-level\n",
    "    'saturation': Saturation(max_lighting=0.4, p=0.75),  # Should be moved to batch-level\n",
    "}\n",
    "\n",
    "# Define batch-level augmentations (if any, or use None to skip)\n",
    "augmentations = {\n",
    "    'basic': aug_transforms(),\n",
    "}\n",
    "\n",
    "# List of models to test\n",
    "model_names = [\n",
    "    # 'efficientnet_b0',\n",
    "    # 'mobilenetv3_large_100', \n",
    "    # 'mobilenetv3_rw',\n",
    "    # 'vit_base_patch16_224', \n",
    "    # 'beit_base_patch16_224', \n",
    "    # 'deit_base_patch16_224', #did not run this at all\n",
    "    'resnet34', \n",
    "    'resnet50', \n",
    "    'inception_v3', \n",
    "    'inception_v4'\n",
    "]\n",
    "\n",
    "# Loop through each Vision Transformer model, item_tfms, and augmentations\n",
    "for model_name in model_names:\n",
    "    for item_tfms_name, item_tfms in item_transforms.items():\n",
    "        for augment_name, batch_tfms in augmentations.items():\n",
    "            transform_name = f\"{item_tfms_name}_{augment_name}\"  # Combine item and batch transform names\n",
    "            print(f\"\\nTraining with model: {model_name}, item_tfms: {item_tfms_name}, and augmentation: {augment_name}\")\n",
    "\n",
    "            try:\n",
    "                # Create a new DataLoader with the current item and batch transforms\n",
    "                transformer_dl = VisionTransformerDataLoader(\n",
    "                    train_data=train_data, \n",
    "                    item_tfms=item_tfms,    # Pass the item-level transforms here\n",
    "                    batch_tfms=batch_tfms   # Pass the batch-level augmentations here\n",
    "                ).get_dataloader()\n",
    "\n",
    "                # Initialize the Vision Transformer Trainer for the current model and augmentation\n",
    "                trainer = VisionTransformerTrainer(\n",
    "                    model_name=model_name, \n",
    "                    transform_name=transform_name,  # Combine item and batch tfms names\n",
    "                    dls=transformer_dl\n",
    "                )\n",
    "\n",
    "                # Initialize the model\n",
    "                trainer.initialize_model(pretrained=True)\n",
    "\n",
    "                # Set the learning rate automatically\n",
    "                trainer.set_learning_rate()\n",
    "\n",
    "                # Fine-tune the model\n",
    "                trainer.fine_tune(epochs=5)  # Adjust the number of epochs as needed\n",
    "\n",
    "                # Save the training metrics\n",
    "                trainer.save_metrics()\n",
    "\n",
    "\n",
    "            except Exception as e:\n",
    "                print(f\"An error occurred while training model {model_name} with item_tfms {item_tfms_name} and augmentation {augment_name}: {e}\")"
   ]
  }
 ],
 "metadata": {
  "kernelspec": {
   "display_name": "cudaEnv",
   "language": "python",
   "name": "python3"
  },
  "language_info": {
   "codemirror_mode": {
    "name": "ipython",
    "version": 3
   },
   "file_extension": ".py",
   "mimetype": "text/x-python",
   "name": "python",
   "nbconvert_exporter": "python",
   "pygments_lexer": "ipython3",
   "version": "3.11.9"
  }
 },
 "nbformat": 4,
 "nbformat_minor": 2
}
